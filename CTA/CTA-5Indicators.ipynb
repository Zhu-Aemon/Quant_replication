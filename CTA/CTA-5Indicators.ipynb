{
 "cells": [
  {
   "cell_type": "markdown",
   "source": [
    "# CTA策略研报复现1\n",
    "\n",
    "## CTA策略的配置价值在于长期低相关性与抗通胀性\n",
    "\n",
    "### 长期低相关性\n",
    "\n",
    "商品市场长期与股票、债券市场具有低相关性"
   ],
   "metadata": {
    "collapsed": false
   }
  },
  {
   "cell_type": "code",
   "execution_count": 1,
   "outputs": [
    {
     "name": "stderr",
     "output_type": "stream",
     "text": [
      "                                             \r"
     ]
    }
   ],
   "source": [
    "import akshare as ak\n",
    "\n",
    "# 测试接口，返回所有指数实时数据\n",
    "index_info = ak.stock_zh_index_spot()"
   ],
   "metadata": {
    "collapsed": false
   }
  },
  {
   "cell_type": "code",
   "execution_count": 2,
   "outputs": [
    {
     "data": {
      "text/plain": "           代码    名称         最新价      涨跌额    涨跌幅          昨收          今开  \\\n0    sh000001  上证指数   3176.1758   -2.251 -0.071   3178.4272   3180.5579   \n1    sh000002  Ａ股指数   3329.6932   -2.313 -0.069   3332.0067   3334.2580   \n2    sh000003  Ｂ股指数    268.1639   -1.632 -0.605    269.7963    269.4298   \n3    sh000004  工业指数   2851.6993  -16.126 -0.562   2867.8249   2871.5438   \n4    sh000005  商业指数   2626.6441   13.185  0.505   2613.4591   2610.4091   \n..        ...   ...         ...      ...    ...         ...         ...   \n543  sz980015         8366.5280  -53.700 -0.638   8420.2280   8410.7330   \n544  sz980016         6935.4670  -27.151 -0.390   6962.6180   6962.2850   \n545  sz980028        10122.7710  -58.761 -0.577  10181.5320  10189.7970   \n546  sz980030         4430.0590  -72.970 -1.620   4503.0290   4512.8540   \n547  sz980032        11669.8880 -136.386 -1.155  11806.2740  11815.4970   \n\n             最高          最低        成交量           成交额  \n0     3186.2340   3147.3459  273251922  300827985375  \n1     3340.2018   3299.4248  273072143  300678128291  \n2      270.0353    266.8250     159121      83805942  \n3     2874.4228   2829.2822  125741276  176404606995  \n4     2629.1562   2596.3491   36675507   31414981149  \n..          ...         ...        ...           ...  \n543   8410.7330   8289.9500  306874926   11267288407  \n544   6962.9100   6871.8030  587476364   16713268015  \n545  10217.1710  10027.0270  149002793    4700917007  \n546   4518.2260   4381.3550  929390834   17595969047  \n547  11864.2850  11605.3420  262734838   13469999357  \n\n[548 rows x 11 columns]",
      "text/html": "<div>\n<style scoped>\n    .dataframe tbody tr th:only-of-type {\n        vertical-align: middle;\n    }\n\n    .dataframe tbody tr th {\n        vertical-align: top;\n    }\n\n    .dataframe thead th {\n        text-align: right;\n    }\n</style>\n<table border=\"1\" class=\"dataframe\">\n  <thead>\n    <tr style=\"text-align: right;\">\n      <th></th>\n      <th>代码</th>\n      <th>名称</th>\n      <th>最新价</th>\n      <th>涨跌额</th>\n      <th>涨跌幅</th>\n      <th>昨收</th>\n      <th>今开</th>\n      <th>最高</th>\n      <th>最低</th>\n      <th>成交量</th>\n      <th>成交额</th>\n    </tr>\n  </thead>\n  <tbody>\n    <tr>\n      <th>0</th>\n      <td>sh000001</td>\n      <td>上证指数</td>\n      <td>3176.1758</td>\n      <td>-2.251</td>\n      <td>-0.071</td>\n      <td>3178.4272</td>\n      <td>3180.5579</td>\n      <td>3186.2340</td>\n      <td>3147.3459</td>\n      <td>273251922</td>\n      <td>300827985375</td>\n    </tr>\n    <tr>\n      <th>1</th>\n      <td>sh000002</td>\n      <td>Ａ股指数</td>\n      <td>3329.6932</td>\n      <td>-2.313</td>\n      <td>-0.069</td>\n      <td>3332.0067</td>\n      <td>3334.2580</td>\n      <td>3340.2018</td>\n      <td>3299.4248</td>\n      <td>273072143</td>\n      <td>300678128291</td>\n    </tr>\n    <tr>\n      <th>2</th>\n      <td>sh000003</td>\n      <td>Ｂ股指数</td>\n      <td>268.1639</td>\n      <td>-1.632</td>\n      <td>-0.605</td>\n      <td>269.7963</td>\n      <td>269.4298</td>\n      <td>270.0353</td>\n      <td>266.8250</td>\n      <td>159121</td>\n      <td>83805942</td>\n    </tr>\n    <tr>\n      <th>3</th>\n      <td>sh000004</td>\n      <td>工业指数</td>\n      <td>2851.6993</td>\n      <td>-16.126</td>\n      <td>-0.562</td>\n      <td>2867.8249</td>\n      <td>2871.5438</td>\n      <td>2874.4228</td>\n      <td>2829.2822</td>\n      <td>125741276</td>\n      <td>176404606995</td>\n    </tr>\n    <tr>\n      <th>4</th>\n      <td>sh000005</td>\n      <td>商业指数</td>\n      <td>2626.6441</td>\n      <td>13.185</td>\n      <td>0.505</td>\n      <td>2613.4591</td>\n      <td>2610.4091</td>\n      <td>2629.1562</td>\n      <td>2596.3491</td>\n      <td>36675507</td>\n      <td>31414981149</td>\n    </tr>\n    <tr>\n      <th>...</th>\n      <td>...</td>\n      <td>...</td>\n      <td>...</td>\n      <td>...</td>\n      <td>...</td>\n      <td>...</td>\n      <td>...</td>\n      <td>...</td>\n      <td>...</td>\n      <td>...</td>\n      <td>...</td>\n    </tr>\n    <tr>\n      <th>543</th>\n      <td>sz980015</td>\n      <td></td>\n      <td>8366.5280</td>\n      <td>-53.700</td>\n      <td>-0.638</td>\n      <td>8420.2280</td>\n      <td>8410.7330</td>\n      <td>8410.7330</td>\n      <td>8289.9500</td>\n      <td>306874926</td>\n      <td>11267288407</td>\n    </tr>\n    <tr>\n      <th>544</th>\n      <td>sz980016</td>\n      <td></td>\n      <td>6935.4670</td>\n      <td>-27.151</td>\n      <td>-0.390</td>\n      <td>6962.6180</td>\n      <td>6962.2850</td>\n      <td>6962.9100</td>\n      <td>6871.8030</td>\n      <td>587476364</td>\n      <td>16713268015</td>\n    </tr>\n    <tr>\n      <th>545</th>\n      <td>sz980028</td>\n      <td></td>\n      <td>10122.7710</td>\n      <td>-58.761</td>\n      <td>-0.577</td>\n      <td>10181.5320</td>\n      <td>10189.7970</td>\n      <td>10217.1710</td>\n      <td>10027.0270</td>\n      <td>149002793</td>\n      <td>4700917007</td>\n    </tr>\n    <tr>\n      <th>546</th>\n      <td>sz980030</td>\n      <td></td>\n      <td>4430.0590</td>\n      <td>-72.970</td>\n      <td>-1.620</td>\n      <td>4503.0290</td>\n      <td>4512.8540</td>\n      <td>4518.2260</td>\n      <td>4381.3550</td>\n      <td>929390834</td>\n      <td>17595969047</td>\n    </tr>\n    <tr>\n      <th>547</th>\n      <td>sz980032</td>\n      <td></td>\n      <td>11669.8880</td>\n      <td>-136.386</td>\n      <td>-1.155</td>\n      <td>11806.2740</td>\n      <td>11815.4970</td>\n      <td>11864.2850</td>\n      <td>11605.3420</td>\n      <td>262734838</td>\n      <td>13469999357</td>\n    </tr>\n  </tbody>\n</table>\n<p>548 rows × 11 columns</p>\n</div>"
     },
     "execution_count": 2,
     "metadata": {},
     "output_type": "execute_result"
    }
   ],
   "source": [
    "index_info"
   ],
   "metadata": {
    "collapsed": false
   }
  },
  {
   "cell_type": "code",
   "execution_count": 3,
   "outputs": [
    {
     "name": "stdout",
     "output_type": "stream",
     "text": [
      "            date      open      high       low     close       volume\n",
      "0     1990-12-19    96.050    99.980    95.790    99.980       126000\n",
      "1     1990-12-20   104.300   104.390    99.980   104.390        19700\n",
      "2     1990-12-21   109.070   109.130   103.730   109.130         2800\n",
      "3     1990-12-24   113.570   114.550   109.130   114.550         3200\n",
      "4     1990-12-25   120.090   120.250   114.550   120.250         1500\n",
      "...          ...       ...       ...       ...       ...          ...\n",
      "7973  2023-08-09  3251.152  3257.082  3240.289  3244.487  27121853800\n",
      "7974  2023-08-10  3242.206  3257.030  3234.116  3254.560  28741214200\n",
      "7975  2023-08-11  3254.475  3254.475  3189.248  3189.248  33013775000\n",
      "7976  2023-08-14  3159.714  3180.507  3141.655  3178.427  29984032700\n",
      "7977  2023-08-15  3180.558  3186.234  3147.346  3176.176  27325192200\n",
      "\n",
      "[7978 rows x 6 columns]\n",
      "            date       value\n",
      "0     2004-06-01  1000.00000\n",
      "1     2004-06-02  1010.57000\n",
      "2     2004-06-03   992.78000\n",
      "3     2004-06-04   990.27000\n",
      "4     2004-06-07   996.31000\n",
      "...          ...         ...\n",
      "4665  2023-08-08  2408.14625\n",
      "4666  2023-08-09  2426.33051\n",
      "4667  2023-08-10  2422.46830\n",
      "4668  2023-08-11  2433.72282\n",
      "4669  2023-08-14  2415.41373\n",
      "\n",
      "[4670 rows x 2 columns]\n",
      "            date     value\n",
      "0     2002-01-03   99.9731\n",
      "1     2002-01-06  100.0149\n",
      "2     2002-01-07   99.8273\n",
      "3     2002-01-08  100.0203\n",
      "4     2002-01-09   99.9317\n",
      "...          ...       ...\n",
      "5405  2023-08-08  226.5200\n",
      "5406  2023-08-09  226.5217\n",
      "5407  2023-08-10  226.5787\n",
      "5408  2023-08-13  226.7522\n",
      "5409  2023-08-14  227.0718\n",
      "\n",
      "[5410 rows x 2 columns]\n"
     ]
    }
   ],
   "source": [
    "# 获取万得全A（用上证代替）、中债新综合指数和中证商品期货指数（替换为南华商品指数）的相关信息\n",
    "stock_index_df = ak.stock_zh_index_daily(symbol='sh000001')\n",
    "commodity_index_df = ak.futures_return_index_nh(symbol='NHCI')\n",
    "bond_index_df = ak.bond_new_composite_index_cbond()\n",
    "print(stock_index_df)\n",
    "print(commodity_index_df)\n",
    "print(bond_index_df)"
   ],
   "metadata": {
    "collapsed": false
   }
  },
  {
   "cell_type": "code",
   "execution_count": 4,
   "outputs": [
    {
     "data": {
      "text/plain": "            date     stock   commodity      bond\n0     2004-06-01  1579.658  1000.00000  104.5886\n1     2004-06-02  1567.067  1010.57000  104.7350\n2     2004-06-03  1543.527   992.78000  104.4258\n3     2004-06-07  1517.145   996.31000  104.1311\n4     2004-06-08  1493.814   992.67000  104.3620\n...          ...       ...         ...       ...\n3738  2023-08-07  3268.831  2424.85651  226.4849\n3739  2023-08-08  3260.620  2408.14625  226.5200\n3740  2023-08-09  3244.487  2426.33051  226.5217\n3741  2023-08-10  3254.560  2422.46830  226.5787\n3742  2023-08-14  3178.427  2415.41373  227.0718\n\n[3743 rows x 4 columns]",
      "text/html": "<div>\n<style scoped>\n    .dataframe tbody tr th:only-of-type {\n        vertical-align: middle;\n    }\n\n    .dataframe tbody tr th {\n        vertical-align: top;\n    }\n\n    .dataframe thead th {\n        text-align: right;\n    }\n</style>\n<table border=\"1\" class=\"dataframe\">\n  <thead>\n    <tr style=\"text-align: right;\">\n      <th></th>\n      <th>date</th>\n      <th>stock</th>\n      <th>commodity</th>\n      <th>bond</th>\n    </tr>\n  </thead>\n  <tbody>\n    <tr>\n      <th>0</th>\n      <td>2004-06-01</td>\n      <td>1579.658</td>\n      <td>1000.00000</td>\n      <td>104.5886</td>\n    </tr>\n    <tr>\n      <th>1</th>\n      <td>2004-06-02</td>\n      <td>1567.067</td>\n      <td>1010.57000</td>\n      <td>104.7350</td>\n    </tr>\n    <tr>\n      <th>2</th>\n      <td>2004-06-03</td>\n      <td>1543.527</td>\n      <td>992.78000</td>\n      <td>104.4258</td>\n    </tr>\n    <tr>\n      <th>3</th>\n      <td>2004-06-07</td>\n      <td>1517.145</td>\n      <td>996.31000</td>\n      <td>104.1311</td>\n    </tr>\n    <tr>\n      <th>4</th>\n      <td>2004-06-08</td>\n      <td>1493.814</td>\n      <td>992.67000</td>\n      <td>104.3620</td>\n    </tr>\n    <tr>\n      <th>...</th>\n      <td>...</td>\n      <td>...</td>\n      <td>...</td>\n      <td>...</td>\n    </tr>\n    <tr>\n      <th>3738</th>\n      <td>2023-08-07</td>\n      <td>3268.831</td>\n      <td>2424.85651</td>\n      <td>226.4849</td>\n    </tr>\n    <tr>\n      <th>3739</th>\n      <td>2023-08-08</td>\n      <td>3260.620</td>\n      <td>2408.14625</td>\n      <td>226.5200</td>\n    </tr>\n    <tr>\n      <th>3740</th>\n      <td>2023-08-09</td>\n      <td>3244.487</td>\n      <td>2426.33051</td>\n      <td>226.5217</td>\n    </tr>\n    <tr>\n      <th>3741</th>\n      <td>2023-08-10</td>\n      <td>3254.560</td>\n      <td>2422.46830</td>\n      <td>226.5787</td>\n    </tr>\n    <tr>\n      <th>3742</th>\n      <td>2023-08-14</td>\n      <td>3178.427</td>\n      <td>2415.41373</td>\n      <td>227.0718</td>\n    </tr>\n  </tbody>\n</table>\n<p>3743 rows × 4 columns</p>\n</div>"
     },
     "execution_count": 4,
     "metadata": {},
     "output_type": "execute_result"
    }
   ],
   "source": [
    "# 把数据整合到一个dataframe里面\n",
    "import pandas as pd\n",
    "\n",
    "stock_index_df.rename(columns={'close': 'stock'}, inplace=True)\n",
    "commodity_index_df.rename(columns={'value': 'commodity'}, inplace=True)\n",
    "bond_index_df.rename(columns={'value': 'bond'}, inplace=True)\n",
    "merged_df = pd.merge(stock_index_df.loc[:, ['date', 'stock']], commodity_index_df)\n",
    "merged_df = pd.merge(merged_df, bond_index_df)\n",
    "merged_df"
   ],
   "metadata": {
    "collapsed": false
   }
  },
  {
   "cell_type": "markdown",
   "source": [
    "低相关性1：计算相关性并且画图"
   ],
   "metadata": {
    "collapsed": false
   }
  },
  {
   "cell_type": "code",
   "execution_count": 5,
   "outputs": [
    {
     "data": {
      "text/plain": "               stock  commodity      bond\ndate                                     \n2004-06-02 -0.007971   0.010570  0.001400\n2004-06-03 -0.015022  -0.017604 -0.002952\n2004-06-07 -0.017092   0.003556 -0.002822\n2004-06-08 -0.015378  -0.003653  0.002217\n2004-06-09 -0.017233  -0.007908 -0.004253\n...              ...        ...       ...\n2023-08-07 -0.003546   0.005852  0.000560\n2023-08-08 -0.002512  -0.006891  0.000155\n2023-08-09 -0.004948   0.007551  0.000008\n2023-08-10  0.003105  -0.001592  0.000252\n2023-08-14 -0.023393  -0.002912  0.002176\n\n[3742 rows x 3 columns]",
      "text/html": "<div>\n<style scoped>\n    .dataframe tbody tr th:only-of-type {\n        vertical-align: middle;\n    }\n\n    .dataframe tbody tr th {\n        vertical-align: top;\n    }\n\n    .dataframe thead th {\n        text-align: right;\n    }\n</style>\n<table border=\"1\" class=\"dataframe\">\n  <thead>\n    <tr style=\"text-align: right;\">\n      <th></th>\n      <th>stock</th>\n      <th>commodity</th>\n      <th>bond</th>\n    </tr>\n    <tr>\n      <th>date</th>\n      <th></th>\n      <th></th>\n      <th></th>\n    </tr>\n  </thead>\n  <tbody>\n    <tr>\n      <th>2004-06-02</th>\n      <td>-0.007971</td>\n      <td>0.010570</td>\n      <td>0.001400</td>\n    </tr>\n    <tr>\n      <th>2004-06-03</th>\n      <td>-0.015022</td>\n      <td>-0.017604</td>\n      <td>-0.002952</td>\n    </tr>\n    <tr>\n      <th>2004-06-07</th>\n      <td>-0.017092</td>\n      <td>0.003556</td>\n      <td>-0.002822</td>\n    </tr>\n    <tr>\n      <th>2004-06-08</th>\n      <td>-0.015378</td>\n      <td>-0.003653</td>\n      <td>0.002217</td>\n    </tr>\n    <tr>\n      <th>2004-06-09</th>\n      <td>-0.017233</td>\n      <td>-0.007908</td>\n      <td>-0.004253</td>\n    </tr>\n    <tr>\n      <th>...</th>\n      <td>...</td>\n      <td>...</td>\n      <td>...</td>\n    </tr>\n    <tr>\n      <th>2023-08-07</th>\n      <td>-0.003546</td>\n      <td>0.005852</td>\n      <td>0.000560</td>\n    </tr>\n    <tr>\n      <th>2023-08-08</th>\n      <td>-0.002512</td>\n      <td>-0.006891</td>\n      <td>0.000155</td>\n    </tr>\n    <tr>\n      <th>2023-08-09</th>\n      <td>-0.004948</td>\n      <td>0.007551</td>\n      <td>0.000008</td>\n    </tr>\n    <tr>\n      <th>2023-08-10</th>\n      <td>0.003105</td>\n      <td>-0.001592</td>\n      <td>0.000252</td>\n    </tr>\n    <tr>\n      <th>2023-08-14</th>\n      <td>-0.023393</td>\n      <td>-0.002912</td>\n      <td>0.002176</td>\n    </tr>\n  </tbody>\n</table>\n<p>3742 rows × 3 columns</p>\n</div>"
     },
     "execution_count": 5,
     "metadata": {},
     "output_type": "execute_result"
    }
   ],
   "source": [
    "# 计算收益率\n",
    "pct_df = merged_df.loc[:, ['stock', 'commodity', 'bond']].pct_change()\n",
    "pct_df = pd.concat([merged_df.loc[:, ['date']], pct_df], axis=1)\n",
    "pct_df.dropna(inplace=True)\n",
    "pct_df['date'] = pd.to_datetime(pct_df['date'])\n",
    "pct_df.set_index('date', inplace=True)\n",
    "pct_df"
   ],
   "metadata": {
    "collapsed": false
   }
  },
  {
   "cell_type": "code",
   "execution_count": 6,
   "outputs": [
    {
     "data": {
      "text/plain": "                         stock  commodity      bond\ndate                                               \n2005-09-05 stock      1.000000   0.132050  0.054052\n           commodity  0.132050   1.000000  0.112058\n           bond       0.054052   0.112058  1.000000\n2005-09-06 stock      1.000000   0.134665  0.055381\n           commodity  0.134665   1.000000  0.109532\n...                        ...        ...       ...\n2023-08-10 commodity  0.397681   1.000000 -0.092224\n           bond      -0.114440  -0.092224  1.000000\n2023-08-14 stock      1.000000   0.402307 -0.143005\n           commodity  0.402307   1.000000 -0.092388\n           bond      -0.143005  -0.092388  1.000000\n\n[10479 rows x 3 columns]",
      "text/html": "<div>\n<style scoped>\n    .dataframe tbody tr th:only-of-type {\n        vertical-align: middle;\n    }\n\n    .dataframe tbody tr th {\n        vertical-align: top;\n    }\n\n    .dataframe thead th {\n        text-align: right;\n    }\n</style>\n<table border=\"1\" class=\"dataframe\">\n  <thead>\n    <tr style=\"text-align: right;\">\n      <th></th>\n      <th></th>\n      <th>stock</th>\n      <th>commodity</th>\n      <th>bond</th>\n    </tr>\n    <tr>\n      <th>date</th>\n      <th></th>\n      <th></th>\n      <th></th>\n      <th></th>\n    </tr>\n  </thead>\n  <tbody>\n    <tr>\n      <th rowspan=\"3\" valign=\"top\">2005-09-05</th>\n      <th>stock</th>\n      <td>1.000000</td>\n      <td>0.132050</td>\n      <td>0.054052</td>\n    </tr>\n    <tr>\n      <th>commodity</th>\n      <td>0.132050</td>\n      <td>1.000000</td>\n      <td>0.112058</td>\n    </tr>\n    <tr>\n      <th>bond</th>\n      <td>0.054052</td>\n      <td>0.112058</td>\n      <td>1.000000</td>\n    </tr>\n    <tr>\n      <th rowspan=\"2\" valign=\"top\">2005-09-06</th>\n      <th>stock</th>\n      <td>1.000000</td>\n      <td>0.134665</td>\n      <td>0.055381</td>\n    </tr>\n    <tr>\n      <th>commodity</th>\n      <td>0.134665</td>\n      <td>1.000000</td>\n      <td>0.109532</td>\n    </tr>\n    <tr>\n      <th>...</th>\n      <th>...</th>\n      <td>...</td>\n      <td>...</td>\n      <td>...</td>\n    </tr>\n    <tr>\n      <th rowspan=\"2\" valign=\"top\">2023-08-10</th>\n      <th>commodity</th>\n      <td>0.397681</td>\n      <td>1.000000</td>\n      <td>-0.092224</td>\n    </tr>\n    <tr>\n      <th>bond</th>\n      <td>-0.114440</td>\n      <td>-0.092224</td>\n      <td>1.000000</td>\n    </tr>\n    <tr>\n      <th rowspan=\"3\" valign=\"top\">2023-08-14</th>\n      <th>stock</th>\n      <td>1.000000</td>\n      <td>0.402307</td>\n      <td>-0.143005</td>\n    </tr>\n    <tr>\n      <th>commodity</th>\n      <td>0.402307</td>\n      <td>1.000000</td>\n      <td>-0.092388</td>\n    </tr>\n    <tr>\n      <th>bond</th>\n      <td>-0.143005</td>\n      <td>-0.092388</td>\n      <td>1.000000</td>\n    </tr>\n  </tbody>\n</table>\n<p>10479 rows × 3 columns</p>\n</div>"
     },
     "execution_count": 6,
     "metadata": {},
     "output_type": "execute_result"
    }
   ],
   "source": [
    "# 计算250日相关系数\n",
    "lookback_period = 250\n",
    "correlation_df = pct_df.rolling(lookback_period).corr()\n",
    "correlation_df.dropna(inplace=True)\n",
    "correlation_df"
   ],
   "metadata": {
    "collapsed": false
   }
  },
  {
   "cell_type": "code",
   "execution_count": 7,
   "outputs": [
    {
     "name": "stderr",
     "output_type": "stream",
     "text": [
      "C:\\Users\\sersmile\\AppData\\Local\\Temp\\ipykernel_18988\\3142223450.py:3: SettingWithCopyWarning: \n",
      "A value is trying to be set on a copy of a slice from a DataFrame\n",
      "\n",
      "See the caveats in the documentation: https://pandas.pydata.org/pandas-docs/stable/user_guide/indexing.html#returning-a-view-versus-a-copy\n",
      "  commodity_correlation_df.drop('level_1', axis=1, inplace=True)\n",
      "C:\\Users\\sersmile\\AppData\\Local\\Temp\\ipykernel_18988\\3142223450.py:4: SettingWithCopyWarning: \n",
      "A value is trying to be set on a copy of a slice from a DataFrame\n",
      "\n",
      "See the caveats in the documentation: https://pandas.pydata.org/pandas-docs/stable/user_guide/indexing.html#returning-a-view-versus-a-copy\n",
      "  commodity_correlation_df.drop('commodity', axis=1, inplace=True)\n",
      "C:\\Users\\sersmile\\AppData\\Local\\Temp\\ipykernel_18988\\3142223450.py:5: SettingWithCopyWarning: \n",
      "A value is trying to be set on a copy of a slice from a DataFrame\n",
      "\n",
      "See the caveats in the documentation: https://pandas.pydata.org/pandas-docs/stable/user_guide/indexing.html#returning-a-view-versus-a-copy\n",
      "  commodity_correlation_df.rename(columns={'stock': '与上证指数相关系数', 'bond': '与中债新指数相关系数'}, inplace=True)\n"
     ]
    },
    {
     "data": {
      "text/plain": "           date  与上证指数相关系数  与中债新指数相关系数\n0    2005-09-05   0.132050    0.112058\n1    2005-09-06   0.134665    0.109532\n2    2005-09-07   0.125999    0.095184\n3    2005-09-08   0.127947    0.097975\n4    2005-09-12   0.127375    0.098733\n...         ...        ...         ...\n3488 2023-08-07   0.441422   -0.103458\n3489 2023-08-08   0.440604   -0.103193\n3490 2023-08-09   0.446019   -0.103593\n3491 2023-08-10   0.397681   -0.092224\n3492 2023-08-14   0.402307   -0.092388\n\n[3493 rows x 3 columns]",
      "text/html": "<div>\n<style scoped>\n    .dataframe tbody tr th:only-of-type {\n        vertical-align: middle;\n    }\n\n    .dataframe tbody tr th {\n        vertical-align: top;\n    }\n\n    .dataframe thead th {\n        text-align: right;\n    }\n</style>\n<table border=\"1\" class=\"dataframe\">\n  <thead>\n    <tr style=\"text-align: right;\">\n      <th></th>\n      <th>date</th>\n      <th>与上证指数相关系数</th>\n      <th>与中债新指数相关系数</th>\n    </tr>\n  </thead>\n  <tbody>\n    <tr>\n      <th>0</th>\n      <td>2005-09-05</td>\n      <td>0.132050</td>\n      <td>0.112058</td>\n    </tr>\n    <tr>\n      <th>1</th>\n      <td>2005-09-06</td>\n      <td>0.134665</td>\n      <td>0.109532</td>\n    </tr>\n    <tr>\n      <th>2</th>\n      <td>2005-09-07</td>\n      <td>0.125999</td>\n      <td>0.095184</td>\n    </tr>\n    <tr>\n      <th>3</th>\n      <td>2005-09-08</td>\n      <td>0.127947</td>\n      <td>0.097975</td>\n    </tr>\n    <tr>\n      <th>4</th>\n      <td>2005-09-12</td>\n      <td>0.127375</td>\n      <td>0.098733</td>\n    </tr>\n    <tr>\n      <th>...</th>\n      <td>...</td>\n      <td>...</td>\n      <td>...</td>\n    </tr>\n    <tr>\n      <th>3488</th>\n      <td>2023-08-07</td>\n      <td>0.441422</td>\n      <td>-0.103458</td>\n    </tr>\n    <tr>\n      <th>3489</th>\n      <td>2023-08-08</td>\n      <td>0.440604</td>\n      <td>-0.103193</td>\n    </tr>\n    <tr>\n      <th>3490</th>\n      <td>2023-08-09</td>\n      <td>0.446019</td>\n      <td>-0.103593</td>\n    </tr>\n    <tr>\n      <th>3491</th>\n      <td>2023-08-10</td>\n      <td>0.397681</td>\n      <td>-0.092224</td>\n    </tr>\n    <tr>\n      <th>3492</th>\n      <td>2023-08-14</td>\n      <td>0.402307</td>\n      <td>-0.092388</td>\n    </tr>\n  </tbody>\n</table>\n<p>3493 rows × 3 columns</p>\n</div>"
     },
     "execution_count": 7,
     "metadata": {},
     "output_type": "execute_result"
    }
   ],
   "source": [
    "commodity_correlation_df = correlation_df.iloc[range(1, len(correlation_df), 3)]\n",
    "commodity_correlation_df.reset_index(inplace=True)\n",
    "commodity_correlation_df.drop('level_1', axis=1, inplace=True)\n",
    "commodity_correlation_df.drop('commodity', axis=1, inplace=True)\n",
    "commodity_correlation_df.rename(columns={'stock': '与上证指数相关系数', 'bond': '与中债新指数相关系数'}, inplace=True)\n",
    "commodity_correlation_df"
   ],
   "metadata": {
    "collapsed": false
   }
  },
  {
   "cell_type": "code",
   "execution_count": 8,
   "outputs": [
    {
     "data": {
      "text/plain": "(-1.0, 1.0)"
     },
     "execution_count": 8,
     "metadata": {},
     "output_type": "execute_result"
    },
    {
     "data": {
      "text/plain": "<Figure size 1200x400 with 1 Axes>",
      "image/png": "[encoded data removed]"
     },
     "metadata": {},
     "output_type": "display_data"
    }
   ],
   "source": [
    "import matplotlib.pyplot as plt\n",
    "import seaborn as sns\n",
    "\n",
    "plt.rcParams['font.family'] = 'SimSun'\n",
    "plt.rcParams['axes.unicode_minus'] = False\n",
    "\n",
    "ax = sns.lineplot(data=commodity_correlation_df, x='date', y='与上证指数相关系数', color='#d20000')\n",
    "sns.lineplot(data=commodity_correlation_df, x='date', y='与中债新指数相关系数', color='#8c8c8c')\n",
    "ax.legend(['与上证指数相关系数', '与中债新指数相关系数'])\n",
    "sns.move_legend(ax, 'upper left', title='相关系数')\n",
    "sns.set_style('white')\n",
    "sns.despine()\n",
    "ax.figure.set_size_inches(12, 4)\n",
    "ax.set_xlabel('日期')\n",
    "ax.set_ylabel('相关系数')\n",
    "ax.set_ylim(-1, 1)"
   ],
   "metadata": {
    "collapsed": false
   }
  },
  {
   "cell_type": "markdown",
   "source": [
    "低相关性2：投资组合中采用商品期货指数能提高夏普"
   ],
   "metadata": {
    "collapsed": false
   }
  },
  {
   "cell_type": "code",
   "execution_count": 9,
   "outputs": [],
   "source": [
    "\"\"\"\n",
    "分别计算年化收益率，年华波动率与年化夏普比\n",
    "年华收益率：\n",
    "(1+r)^{n} = P_{t} / P_{0}\n",
    "r = (P_{t} / P_{0})^{1 / n} - 1\n",
    "\"\"\"\n",
    "merged_df['date'] = pd.to_datetime(merged_df['date'])\n",
    "price_2005 = merged_df[merged_df['date'].dt.year == 2005].iloc[0]\n",
    "price_2022 = merged_df[merged_df['date'].dt.year == 2022].iloc[-1]"
   ],
   "metadata": {
    "collapsed": false
   }
  },
  {
   "cell_type": "code",
   "execution_count": 10,
   "outputs": [
    {
     "data": {
      "text/plain": "date         2005-01-04 00:00:00\nstock                   1242.774\ncommodity                 960.79\nbond                    105.9273\nName: 119, dtype: object"
     },
     "execution_count": 10,
     "metadata": {},
     "output_type": "execute_result"
    }
   ],
   "source": [
    "price_2005"
   ],
   "metadata": {
    "collapsed": false
   }
  },
  {
   "cell_type": "code",
   "execution_count": 11,
   "outputs": [
    {
     "data": {
      "text/plain": "date         2022-12-30 00:00:00\nstock                   3089.258\ncommodity             2380.65809\nbond                    219.4264\nName: 3625, dtype: object"
     },
     "execution_count": 11,
     "metadata": {},
     "output_type": "execute_result"
    }
   ],
   "source": [
    "price_2022"
   ],
   "metadata": {
    "collapsed": false
   }
  },
  {
   "cell_type": "code",
   "execution_count": 12,
   "outputs": [
    {
     "data": {
      "text/plain": "stock        0.051889\ncommodity    0.051702\nbond         0.041289\ndtype: object"
     },
     "execution_count": 12,
     "metadata": {},
     "output_type": "execute_result"
    }
   ],
   "source": [
    "yearly_yield = (price_2022[['stock', 'commodity', 'bond']] / price_2005[['stock', 'commodity', 'bond']]) ** (1 / 18) - 1\n",
    "yearly_yield"
   ],
   "metadata": {
    "collapsed": false
   }
  },
  {
   "cell_type": "code",
   "execution_count": 13,
   "outputs": [
    {
     "data": {
      "text/plain": "stock        0.076963\ncommodity    0.047010\nbond         0.003879\ndtype: float64"
     },
     "execution_count": 13,
     "metadata": {},
     "output_type": "execute_result"
    }
   ],
   "source": [
    "\"\"\"\n",
    "接下来计算年化波动率\n",
    "年化波动率=std(收益率序列) * ( (天数/252) ** (1 / 2) )\n",
    "\"\"\"\n",
    "import numpy as np\n",
    "\n",
    "yearly_volatility = pct_df.iloc[price_2005.name: price_2022.name].std() * np.sqrt(18)\n",
    "yearly_volatility"
   ],
   "metadata": {
    "collapsed": false
   }
  },
  {
   "cell_type": "code",
   "execution_count": 14,
   "outputs": [
    {
     "data": {
      "text/plain": "stock        0.284414\ncommodity    0.461649\nbond         2.910191\ndtype: object"
     },
     "execution_count": 14,
     "metadata": {},
     "output_type": "execute_result"
    }
   ],
   "source": [
    "\"\"\"\n",
    "接下来计算sharpe比率\n",
    "sharpe = (年化收益率 - 年化无风险利率) / 策略年化波动率\n",
    "\"\"\"\n",
    "sharpe = (yearly_yield - 0.03) / yearly_volatility\n",
    "sharpe"
   ],
   "metadata": {
    "collapsed": false
   }
  },
  {
   "cell_type": "code",
   "execution_count": 15,
   "outputs": [
    {
     "data": {
      "text/plain": "           date     stock   commodity      bond  stock-bond  \\\n0    2004-06-01  1579.658  1000.00000  104.5886   989.63024   \n1    2004-06-02  1567.067  1010.57000  104.7350   982.13420   \n2    2004-06-03  1543.527   992.78000  104.4258   967.88652   \n3    2004-06-07  1517.145   996.31000  104.1311   951.93944   \n4    2004-06-08  1493.814   992.67000  104.3620   938.03320   \n...         ...       ...         ...       ...         ...   \n3738 2023-08-07  3268.831  2424.85651  226.4849  2051.89256   \n3739 2023-08-08  3260.620  2408.14625  226.5200  2046.98000   \n3740 2023-08-09  3244.487  2426.33051  226.5217  2037.30088   \n3741 2023-08-10  3254.560  2422.46830  226.5787  2043.36748   \n3742 2023-08-14  3178.427  2415.41373  227.0718  1997.88492   \n\n      commodity-stock-bond  \n0               990.667216  \n1               984.977780  \n2               970.375868  \n3               956.376496  \n4               943.496880  \n...                    ...  \n3738           2089.188955  \n3739           2083.096625  \n3740           2076.203843  \n3741           2081.277562  \n3742           2039.637801  \n\n[3743 rows x 6 columns]",
      "text/html": "<div>\n<style scoped>\n    .dataframe tbody tr th:only-of-type {\n        vertical-align: middle;\n    }\n\n    .dataframe tbody tr th {\n        vertical-align: top;\n    }\n\n    .dataframe thead th {\n        text-align: right;\n    }\n</style>\n<table border=\"1\" class=\"dataframe\">\n  <thead>\n    <tr style=\"text-align: right;\">\n      <th></th>\n      <th>date</th>\n      <th>stock</th>\n      <th>commodity</th>\n      <th>bond</th>\n      <th>stock-bond</th>\n      <th>commodity-stock-bond</th>\n    </tr>\n  </thead>\n  <tbody>\n    <tr>\n      <th>0</th>\n      <td>2004-06-01</td>\n      <td>1579.658</td>\n      <td>1000.00000</td>\n      <td>104.5886</td>\n      <td>989.63024</td>\n      <td>990.667216</td>\n    </tr>\n    <tr>\n      <th>1</th>\n      <td>2004-06-02</td>\n      <td>1567.067</td>\n      <td>1010.57000</td>\n      <td>104.7350</td>\n      <td>982.13420</td>\n      <td>984.977780</td>\n    </tr>\n    <tr>\n      <th>2</th>\n      <td>2004-06-03</td>\n      <td>1543.527</td>\n      <td>992.78000</td>\n      <td>104.4258</td>\n      <td>967.88652</td>\n      <td>970.375868</td>\n    </tr>\n    <tr>\n      <th>3</th>\n      <td>2004-06-07</td>\n      <td>1517.145</td>\n      <td>996.31000</td>\n      <td>104.1311</td>\n      <td>951.93944</td>\n      <td>956.376496</td>\n    </tr>\n    <tr>\n      <th>4</th>\n      <td>2004-06-08</td>\n      <td>1493.814</td>\n      <td>992.67000</td>\n      <td>104.3620</td>\n      <td>938.03320</td>\n      <td>943.496880</td>\n    </tr>\n    <tr>\n      <th>...</th>\n      <td>...</td>\n      <td>...</td>\n      <td>...</td>\n      <td>...</td>\n      <td>...</td>\n      <td>...</td>\n    </tr>\n    <tr>\n      <th>3738</th>\n      <td>2023-08-07</td>\n      <td>3268.831</td>\n      <td>2424.85651</td>\n      <td>226.4849</td>\n      <td>2051.89256</td>\n      <td>2089.188955</td>\n    </tr>\n    <tr>\n      <th>3739</th>\n      <td>2023-08-08</td>\n      <td>3260.620</td>\n      <td>2408.14625</td>\n      <td>226.5200</td>\n      <td>2046.98000</td>\n      <td>2083.096625</td>\n    </tr>\n    <tr>\n      <th>3740</th>\n      <td>2023-08-09</td>\n      <td>3244.487</td>\n      <td>2426.33051</td>\n      <td>226.5217</td>\n      <td>2037.30088</td>\n      <td>2076.203843</td>\n    </tr>\n    <tr>\n      <th>3741</th>\n      <td>2023-08-10</td>\n      <td>3254.560</td>\n      <td>2422.46830</td>\n      <td>226.5787</td>\n      <td>2043.36748</td>\n      <td>2081.277562</td>\n    </tr>\n    <tr>\n      <th>3742</th>\n      <td>2023-08-14</td>\n      <td>3178.427</td>\n      <td>2415.41373</td>\n      <td>227.0718</td>\n      <td>1997.88492</td>\n      <td>2039.637801</td>\n    </tr>\n  </tbody>\n</table>\n<p>3743 rows × 6 columns</p>\n</div>"
     },
     "execution_count": 15,
     "metadata": {},
     "output_type": "execute_result"
    }
   ],
   "source": [
    "\"\"\"\n",
    "验证投资组合的风险分散能力\n",
    "60/40股债组合\n",
    "10%商品+90%股债组合\n",
    "\"\"\"\n",
    "merged_df['stock-bond'] = 0.6 * merged_df['stock'] + 0.4 * merged_df['bond']\n",
    "merged_df['commodity-stock-bond'] = 0.1 * merged_df['commodity'] + 0.9 * merged_df['stock-bond']\n",
    "merged_df"
   ],
   "metadata": {
    "collapsed": false
   }
  },
  {
   "cell_type": "code",
   "execution_count": 16,
   "outputs": [
    {
     "data": {
      "text/plain": "               stock  commodity      bond  stock-bond  commodity-stock-bond\ndate                                                                       \n2004-06-02 -0.007971   0.010570  0.001400   -0.007575             -0.005743\n2004-06-03 -0.015022  -0.017604 -0.002952   -0.014507             -0.014825\n2004-06-07 -0.017092   0.003556 -0.002822   -0.016476             -0.014427\n2004-06-08 -0.015378  -0.003653  0.002217   -0.014608             -0.013467\n2004-06-09 -0.017233  -0.007908 -0.004253   -0.016655             -0.015735\n...              ...        ...       ...         ...                   ...\n2023-08-07 -0.003546   0.005852  0.000560   -0.003365             -0.002304\n2023-08-08 -0.002512  -0.006891  0.000155   -0.002394             -0.002916\n2023-08-09 -0.004948   0.007551  0.000008   -0.004728             -0.003309\n2023-08-10  0.003105  -0.001592  0.000252    0.002978              0.002444\n2023-08-14 -0.023393  -0.002912  0.002176   -0.022259             -0.020007\n\n[3742 rows x 5 columns]",
      "text/html": "<div>\n<style scoped>\n    .dataframe tbody tr th:only-of-type {\n        vertical-align: middle;\n    }\n\n    .dataframe tbody tr th {\n        vertical-align: top;\n    }\n\n    .dataframe thead th {\n        text-align: right;\n    }\n</style>\n<table border=\"1\" class=\"dataframe\">\n  <thead>\n    <tr style=\"text-align: right;\">\n      <th></th>\n      <th>stock</th>\n      <th>commodity</th>\n      <th>bond</th>\n      <th>stock-bond</th>\n      <th>commodity-stock-bond</th>\n    </tr>\n    <tr>\n      <th>date</th>\n      <th></th>\n      <th></th>\n      <th></th>\n      <th></th>\n      <th></th>\n    </tr>\n  </thead>\n  <tbody>\n    <tr>\n      <th>2004-06-02</th>\n      <td>-0.007971</td>\n      <td>0.010570</td>\n      <td>0.001400</td>\n      <td>-0.007575</td>\n      <td>-0.005743</td>\n    </tr>\n    <tr>\n      <th>2004-06-03</th>\n      <td>-0.015022</td>\n      <td>-0.017604</td>\n      <td>-0.002952</td>\n      <td>-0.014507</td>\n      <td>-0.014825</td>\n    </tr>\n    <tr>\n      <th>2004-06-07</th>\n      <td>-0.017092</td>\n      <td>0.003556</td>\n      <td>-0.002822</td>\n      <td>-0.016476</td>\n      <td>-0.014427</td>\n    </tr>\n    <tr>\n      <th>2004-06-08</th>\n      <td>-0.015378</td>\n      <td>-0.003653</td>\n      <td>0.002217</td>\n      <td>-0.014608</td>\n      <td>-0.013467</td>\n    </tr>\n    <tr>\n      <th>2004-06-09</th>\n      <td>-0.017233</td>\n      <td>-0.007908</td>\n      <td>-0.004253</td>\n      <td>-0.016655</td>\n      <td>-0.015735</td>\n    </tr>\n    <tr>\n      <th>...</th>\n      <td>...</td>\n      <td>...</td>\n      <td>...</td>\n      <td>...</td>\n      <td>...</td>\n    </tr>\n    <tr>\n      <th>2023-08-07</th>\n      <td>-0.003546</td>\n      <td>0.005852</td>\n      <td>0.000560</td>\n      <td>-0.003365</td>\n      <td>-0.002304</td>\n    </tr>\n    <tr>\n      <th>2023-08-08</th>\n      <td>-0.002512</td>\n      <td>-0.006891</td>\n      <td>0.000155</td>\n      <td>-0.002394</td>\n      <td>-0.002916</td>\n    </tr>\n    <tr>\n      <th>2023-08-09</th>\n      <td>-0.004948</td>\n      <td>0.007551</td>\n      <td>0.000008</td>\n      <td>-0.004728</td>\n      <td>-0.003309</td>\n    </tr>\n    <tr>\n      <th>2023-08-10</th>\n      <td>0.003105</td>\n      <td>-0.001592</td>\n      <td>0.000252</td>\n      <td>0.002978</td>\n      <td>0.002444</td>\n    </tr>\n    <tr>\n      <th>2023-08-14</th>\n      <td>-0.023393</td>\n      <td>-0.002912</td>\n      <td>0.002176</td>\n      <td>-0.022259</td>\n      <td>-0.020007</td>\n    </tr>\n  </tbody>\n</table>\n<p>3742 rows × 5 columns</p>\n</div>"
     },
     "execution_count": 16,
     "metadata": {},
     "output_type": "execute_result"
    }
   ],
   "source": [
    "# 计算收益率\n",
    "pct_df_new = merged_df.loc[:, ['stock', 'commodity', 'bond', 'stock-bond', 'commodity-stock-bond']].pct_change()\n",
    "pct_df_new = pd.concat([merged_df.loc[:, ['date']], pct_df_new], axis=1)\n",
    "pct_df_new.dropna(inplace=True)\n",
    "pct_df_new['date'] = pd.to_datetime(pct_df_new['date'])\n",
    "pct_df_new.set_index('date', inplace=True)\n",
    "pct_df_new"
   ],
   "metadata": {
    "collapsed": false
   }
  },
  {
   "cell_type": "code",
   "execution_count": 17,
   "outputs": [],
   "source": [
    "price_2005 = merged_df[merged_df['date'].dt.year == 2005].iloc[0]\n",
    "price_2022 = merged_df[merged_df['date'].dt.year == 2022].iloc[-1]"
   ],
   "metadata": {
    "collapsed": false
   }
  },
  {
   "cell_type": "code",
   "execution_count": 18,
   "outputs": [
    {
     "data": {
      "text/plain": "date                    2005-01-04 00:00:00\nstock                              1242.774\ncommodity                            960.79\nbond                               105.9273\nstock-bond                        788.03532\ncommodity-stock-bond             805.310788\nName: 119, dtype: object"
     },
     "execution_count": 18,
     "metadata": {},
     "output_type": "execute_result"
    }
   ],
   "source": [
    "price_2005"
   ],
   "metadata": {
    "collapsed": false
   }
  },
  {
   "cell_type": "code",
   "execution_count": 19,
   "outputs": [
    {
     "data": {
      "text/plain": "date                    2022-12-30 00:00:00\nstock                              3089.258\ncommodity                        2380.65809\nbond                               219.4264\nstock-bond                       1941.32536\ncommodity-stock-bond            1985.258633\nName: 3625, dtype: object"
     },
     "execution_count": 19,
     "metadata": {},
     "output_type": "execute_result"
    }
   ],
   "source": [
    "price_2022"
   ],
   "metadata": {
    "collapsed": false
   }
  },
  {
   "cell_type": "code",
   "execution_count": 20,
   "outputs": [
    {
     "data": {
      "text/plain": "stock                   0.051889\ncommodity               0.051702\nbond                    0.041289\nstock-bond              0.051364\ncommodity-stock-bond    0.051404\ndtype: object"
     },
     "execution_count": 20,
     "metadata": {},
     "output_type": "execute_result"
    }
   ],
   "source": [
    "yearly_yield_new = (price_2022[['stock', 'commodity', 'bond', 'stock-bond', 'commodity-stock-bond']] / price_2005[['stock', 'commodity', 'bond', 'stock-bond', 'commodity-stock-bond']]) ** (1 / 18) - 1\n",
    "yearly_yield_new"
   ],
   "metadata": {
    "collapsed": false
   }
  },
  {
   "cell_type": "code",
   "execution_count": 21,
   "outputs": [
    {
     "data": {
      "text/plain": "stock                   0.076963\ncommodity               0.047010\nbond                    0.003879\nstock-bond              0.074371\ncommodity-stock-bond    0.070201\ndtype: float64"
     },
     "execution_count": 21,
     "metadata": {},
     "output_type": "execute_result"
    }
   ],
   "source": [
    "import numpy as np\n",
    "\n",
    "yearly_volatility_new = pct_df_new.iloc[price_2005.name: price_2022.name].std() * np.sqrt(18)\n",
    "yearly_volatility_new"
   ],
   "metadata": {
    "collapsed": false
   }
  },
  {
   "cell_type": "code",
   "execution_count": 22,
   "outputs": [
    {
     "data": {
      "text/plain": "stock                   0.284414\ncommodity               0.461649\nbond                    2.910191\nstock-bond              0.287256\ncommodity-stock-bond    0.304897\ndtype: object"
     },
     "execution_count": 22,
     "metadata": {},
     "output_type": "execute_result"
    }
   ],
   "source": [
    "sharpe = (yearly_yield_new - 0.03) / yearly_volatility_new\n",
    "sharpe"
   ],
   "metadata": {
    "collapsed": false
   }
  },
  {
   "cell_type": "markdown",
   "source": [
    "最后的结果展示如下：\n",
    "\n",
    "![投资组合结果展示](投资组合结果.png)\n",
    "\n",
    "从上图可以看出，商品组合的加入增加了股债组合夏普比率，这是由于商品组合具有低相关性的特征"
   ],
   "metadata": {
    "collapsed": false
   }
  },
  {
   "cell_type": "markdown",
   "source": [
    "### 抗通胀性"
   ],
   "metadata": {
    "collapsed": false
   }
  },
  {
   "cell_type": "code",
   "execution_count": 23,
   "outputs": [],
   "source": [
    "\"\"\"\n",
    "将资产收益率对时间滞后项做线性回归，看R2的大小\n",
    "资产池：农产品、能化、贵金属、有色金属、黑色、上证50、沪深300、中证500、中证1000、国债、信用债、金融债\n",
    "\"\"\"\n",
    "# 先获取资产池内的所有数据，整合到一个dataframe里\n",
    "NHAI_data = ak.futures_return_index_nh(symbol='NHAI')  # 南华农产品指数\n",
    "NHECI_data = ak.futures_return_index_nh(symbol='NHECI')  # 南华能化指数\n",
    "NHPMI_data = ak.futures_return_index_nh(symbol='NHPMI')  # 南华贵金属指数\n",
    "# NH0070_data = ak.futures_return_index_nh(symbol='NH0070')  # 南华有色金属指数\n",
    "# NH0800_data = ak.futures_return_index_nh(symbol='NH0080')  # 南华黑色指数\n",
    "SZ50_data = ak.stock_zh_index_daily(symbol='sh000016')  # 上证50\n",
    "HS300_data = ak.stock_zh_index_daily(symbol='sh000300')  # 沪深300\n",
    "ZZ500_data = ak.stock_zh_index_daily(symbol='sz399905')  # 中证500\n",
    "ZZ1000_data = ak.stock_zh_index_daily(symbol='sh000852')  # 中证1000\n",
    "# Bond_10 = ak.futures_zh_daily_sina(symbol='T9999.CCFX')  # 十年期国债主力合约\n",
    "# Bond_5 = ak.futures_zh_daily_sina(symbol='TF9999.CCFX')  # 五年期国债主力合约\n",
    "# Bond_2 = ak.futures_zh_daily_sina(symbol='TS9999.CCFX')  # 两年期国债主力合约"
   ],
   "metadata": {
    "collapsed": false
   }
  },
  {
   "cell_type": "code",
   "execution_count": 24,
   "outputs": [
    {
     "data": {
      "text/plain": "            date         农产品          能化         贵金属\n0     2012-09-06   941.30000  1255.76000  1000.00000\n1     2012-09-07   938.74000  1266.98000   983.26000\n2     2012-09-10   945.00000  1303.32000  1020.41000\n3     2012-09-11   939.84000  1311.14000  1017.93000\n4     2012-09-12   942.85000  1321.74000  1017.70000\n...          ...         ...         ...         ...\n2654  2023-08-08  1151.18880  1849.30169   761.83930\n2655  2023-08-09  1163.65296  1868.34477   759.77079\n2656  2023-08-10  1157.65246  1875.19451   756.56113\n2657  2023-08-11  1155.48160  1882.76247   761.27611\n2658  2023-08-14  1153.69835  1865.94113   760.86030\n\n[2659 rows x 4 columns]",
      "text/html": "<div>\n<style scoped>\n    .dataframe tbody tr th:only-of-type {\n        vertical-align: middle;\n    }\n\n    .dataframe tbody tr th {\n        vertical-align: top;\n    }\n\n    .dataframe thead th {\n        text-align: right;\n    }\n</style>\n<table border=\"1\" class=\"dataframe\">\n  <thead>\n    <tr style=\"text-align: right;\">\n      <th></th>\n      <th>date</th>\n      <th>农产品</th>\n      <th>能化</th>\n      <th>贵金属</th>\n    </tr>\n  </thead>\n  <tbody>\n    <tr>\n      <th>0</th>\n      <td>2012-09-06</td>\n      <td>941.30000</td>\n      <td>1255.76000</td>\n      <td>1000.00000</td>\n    </tr>\n    <tr>\n      <th>1</th>\n      <td>2012-09-07</td>\n      <td>938.74000</td>\n      <td>1266.98000</td>\n      <td>983.26000</td>\n    </tr>\n    <tr>\n      <th>2</th>\n      <td>2012-09-10</td>\n      <td>945.00000</td>\n      <td>1303.32000</td>\n      <td>1020.41000</td>\n    </tr>\n    <tr>\n      <th>3</th>\n      <td>2012-09-11</td>\n      <td>939.84000</td>\n      <td>1311.14000</td>\n      <td>1017.93000</td>\n    </tr>\n    <tr>\n      <th>4</th>\n      <td>2012-09-12</td>\n      <td>942.85000</td>\n      <td>1321.74000</td>\n      <td>1017.70000</td>\n    </tr>\n    <tr>\n      <th>...</th>\n      <td>...</td>\n      <td>...</td>\n      <td>...</td>\n      <td>...</td>\n    </tr>\n    <tr>\n      <th>2654</th>\n      <td>2023-08-08</td>\n      <td>1151.18880</td>\n      <td>1849.30169</td>\n      <td>761.83930</td>\n    </tr>\n    <tr>\n      <th>2655</th>\n      <td>2023-08-09</td>\n      <td>1163.65296</td>\n      <td>1868.34477</td>\n      <td>759.77079</td>\n    </tr>\n    <tr>\n      <th>2656</th>\n      <td>2023-08-10</td>\n      <td>1157.65246</td>\n      <td>1875.19451</td>\n      <td>756.56113</td>\n    </tr>\n    <tr>\n      <th>2657</th>\n      <td>2023-08-11</td>\n      <td>1155.48160</td>\n      <td>1882.76247</td>\n      <td>761.27611</td>\n    </tr>\n    <tr>\n      <th>2658</th>\n      <td>2023-08-14</td>\n      <td>1153.69835</td>\n      <td>1865.94113</td>\n      <td>760.86030</td>\n    </tr>\n  </tbody>\n</table>\n<p>2659 rows × 4 columns</p>\n</div>"
     },
     "execution_count": 24,
     "metadata": {},
     "output_type": "execute_result"
    }
   ],
   "source": [
    "NHAI_data.rename(columns={'value': '农产品'}, inplace=True)\n",
    "NHECI_data.rename(columns={'value': '能化'}, inplace=True)\n",
    "NHPMI_data.rename(columns={'value': '贵金属'}, inplace=True)\n",
    "NH_data = pd.merge(NHAI_data, NHECI_data)\n",
    "NH_data = pd.merge(NH_data, NHPMI_data)\n",
    "NH_data"
   ],
   "metadata": {
    "collapsed": false
   }
  },
  {
   "cell_type": "code",
   "execution_count": 25,
   "outputs": [
    {
     "name": "stderr",
     "output_type": "stream",
     "text": [
      "C:\\Users\\sersmile\\AppData\\Local\\Temp\\ipykernel_18988\\1849258902.py:2: SettingWithCopyWarning: \n",
      "A value is trying to be set on a copy of a slice from a DataFrame\n",
      "\n",
      "See the caveats in the documentation: https://pandas.pydata.org/pandas-docs/stable/user_guide/indexing.html#returning-a-view-versus-a-copy\n",
      "  SZ_50_part.rename(columns={'close': '上证50'}, inplace=True)\n",
      "C:\\Users\\sersmile\\AppData\\Local\\Temp\\ipykernel_18988\\1849258902.py:4: SettingWithCopyWarning: \n",
      "A value is trying to be set on a copy of a slice from a DataFrame\n",
      "\n",
      "See the caveats in the documentation: https://pandas.pydata.org/pandas-docs/stable/user_guide/indexing.html#returning-a-view-versus-a-copy\n",
      "  HS300_part.rename(columns={'close': '沪深300'}, inplace=True)\n",
      "C:\\Users\\sersmile\\AppData\\Local\\Temp\\ipykernel_18988\\1849258902.py:6: SettingWithCopyWarning: \n",
      "A value is trying to be set on a copy of a slice from a DataFrame\n",
      "\n",
      "See the caveats in the documentation: https://pandas.pydata.org/pandas-docs/stable/user_guide/indexing.html#returning-a-view-versus-a-copy\n",
      "  ZZ500_part.rename(columns={'close': '中证500'}, inplace=True)\n",
      "C:\\Users\\sersmile\\AppData\\Local\\Temp\\ipykernel_18988\\1849258902.py:8: SettingWithCopyWarning: \n",
      "A value is trying to be set on a copy of a slice from a DataFrame\n",
      "\n",
      "See the caveats in the documentation: https://pandas.pydata.org/pandas-docs/stable/user_guide/indexing.html#returning-a-view-versus-a-copy\n",
      "  ZZ1000_part.rename(columns={'close': '中证1000'}, inplace=True)\n"
     ]
    },
    {
     "data": {
      "text/plain": "            date      上证50     沪深300     中证500    中证1000\n0     2014-10-17  1608.516  2441.732  4860.732  6058.668\n1     2014-10-20  1612.402  2454.711  4929.160  6154.520\n2     2014-10-21  1600.844  2433.391  4884.024  6103.008\n3     2014-10-22  1597.125  2418.641  4825.609  6027.510\n4     2014-10-23  1586.557  2395.936  4755.231  5930.483\n...          ...       ...       ...       ...       ...\n2146  2023-08-09  2628.704  3967.565  6021.750  6420.977\n2147  2023-08-10  2629.443  3975.717  6031.710  6426.814\n2148  2023-08-11  2568.898  3884.254  5913.350  6304.635\n2149  2023-08-14  2549.284  3855.906  5916.803  6319.407\n2150  2023-08-15  2546.442  3846.536  5879.778  6261.733\n\n[2151 rows x 5 columns]",
      "text/html": "<div>\n<style scoped>\n    .dataframe tbody tr th:only-of-type {\n        vertical-align: middle;\n    }\n\n    .dataframe tbody tr th {\n        vertical-align: top;\n    }\n\n    .dataframe thead th {\n        text-align: right;\n    }\n</style>\n<table border=\"1\" class=\"dataframe\">\n  <thead>\n    <tr style=\"text-align: right;\">\n      <th></th>\n      <th>date</th>\n      <th>上证50</th>\n      <th>沪深300</th>\n      <th>中证500</th>\n      <th>中证1000</th>\n    </tr>\n  </thead>\n  <tbody>\n    <tr>\n      <th>0</th>\n      <td>2014-10-17</td>\n      <td>1608.516</td>\n      <td>2441.732</td>\n      <td>4860.732</td>\n      <td>6058.668</td>\n    </tr>\n    <tr>\n      <th>1</th>\n      <td>2014-10-20</td>\n      <td>1612.402</td>\n      <td>2454.711</td>\n      <td>4929.160</td>\n      <td>6154.520</td>\n    </tr>\n    <tr>\n      <th>2</th>\n      <td>2014-10-21</td>\n      <td>1600.844</td>\n      <td>2433.391</td>\n      <td>4884.024</td>\n      <td>6103.008</td>\n    </tr>\n    <tr>\n      <th>3</th>\n      <td>2014-10-22</td>\n      <td>1597.125</td>\n      <td>2418.641</td>\n      <td>4825.609</td>\n      <td>6027.510</td>\n    </tr>\n    <tr>\n      <th>4</th>\n      <td>2014-10-23</td>\n      <td>1586.557</td>\n      <td>2395.936</td>\n      <td>4755.231</td>\n      <td>5930.483</td>\n    </tr>\n    <tr>\n      <th>...</th>\n      <td>...</td>\n      <td>...</td>\n      <td>...</td>\n      <td>...</td>\n      <td>...</td>\n    </tr>\n    <tr>\n      <th>2146</th>\n      <td>2023-08-09</td>\n      <td>2628.704</td>\n      <td>3967.565</td>\n      <td>6021.750</td>\n      <td>6420.977</td>\n    </tr>\n    <tr>\n      <th>2147</th>\n      <td>2023-08-10</td>\n      <td>2629.443</td>\n      <td>3975.717</td>\n      <td>6031.710</td>\n      <td>6426.814</td>\n    </tr>\n    <tr>\n      <th>2148</th>\n      <td>2023-08-11</td>\n      <td>2568.898</td>\n      <td>3884.254</td>\n      <td>5913.350</td>\n      <td>6304.635</td>\n    </tr>\n    <tr>\n      <th>2149</th>\n      <td>2023-08-14</td>\n      <td>2549.284</td>\n      <td>3855.906</td>\n      <td>5916.803</td>\n      <td>6319.407</td>\n    </tr>\n    <tr>\n      <th>2150</th>\n      <td>2023-08-15</td>\n      <td>2546.442</td>\n      <td>3846.536</td>\n      <td>5879.778</td>\n      <td>6261.733</td>\n    </tr>\n  </tbody>\n</table>\n<p>2151 rows × 5 columns</p>\n</div>"
     },
     "execution_count": 25,
     "metadata": {},
     "output_type": "execute_result"
    }
   ],
   "source": [
    "SZ_50_part = SZ50_data[['date', 'close']]\n",
    "SZ_50_part.rename(columns={'close': '上证50'}, inplace=True)\n",
    "HS300_part = HS300_data[['date', 'close']]\n",
    "HS300_part.rename(columns={'close': '沪深300'}, inplace=True)\n",
    "ZZ500_part = ZZ500_data[['date', 'close']]\n",
    "ZZ500_part.rename(columns={'close': '中证500'}, inplace=True)\n",
    "ZZ1000_part = ZZ1000_data[['date', 'close']]\n",
    "ZZ1000_part.rename(columns={'close': '中证1000'}, inplace=True)\n",
    "Stock_data = pd.merge(SZ_50_part, HS300_part)\n",
    "Stock_data = pd.merge(Stock_data, ZZ500_part)\n",
    "Stock_data = pd.merge(Stock_data, ZZ1000_part)\n",
    "Stock_data"
   ],
   "metadata": {
    "collapsed": false
   }
  },
  {
   "cell_type": "markdown",
   "source": [
    "由于找不到PPI的月度数据，因此获取CPI月度数据进行回归，应该也有一定的相关性"
   ],
   "metadata": {
    "collapsed": false
   }
  },
  {
   "cell_type": "code",
   "execution_count": 26,
   "outputs": [
    {
     "data": {
      "text/plain": "1996-02-01    2.1\n1996-03-01    2.3\n1996-04-01    0.6\n1996-05-01    0.7\n1996-06-01   -0.5\n             ... \n2023-04-11   -0.3\n2023-05-11   -0.1\n2023-06-09   -0.2\n2023-07-10   -0.2\n2023-08-09    0.2\nName: cpi, Length: 323, dtype: float64"
     },
     "execution_count": 26,
     "metadata": {},
     "output_type": "execute_result"
    }
   ],
   "source": [
    "CPI_monthly = ak.macro_china_cpi_monthly()\n",
    "CPI_monthly.index = pd.to_datetime(CPI_monthly.index)\n",
    "CPI_monthly"
   ],
   "metadata": {
    "collapsed": false
   }
  },
  {
   "cell_type": "code",
   "execution_count": 27,
   "outputs": [
    {
     "name": "stderr",
     "output_type": "stream",
     "text": [
      "C:\\Users\\sersmile\\AppData\\Local\\Temp\\ipykernel_18988\\1254288156.py:3: FutureWarning: 'loffset' in .resample() and in Grouper() is deprecated.\n",
      "\n",
      ">>> df.resample(freq=\"3s\", loffset=\"8H\")\n",
      "\n",
      "becomes:\n",
      "\n",
      ">>> from pandas.tseries.frequencies import to_offset\n",
      ">>> df = df.resample(freq=\"3s\").mean()\n",
      ">>> df.index = df.index.to_timestamp() + to_offset(\"8H\")\n",
      "\n",
      "  NH_data_monthly = NH_data.resample('M', loffset=pd.offsets.MonthBegin(0)).first()\n"
     ]
    },
    {
     "data": {
      "text/plain": "                   农产品          能化         贵金属\ndate                                          \n2012-10-01   941.30000  1255.76000  1000.00000\n2012-11-01   897.48000  1333.65000  1016.85000\n2012-12-01   904.30000  1358.90000   979.08000\n2013-01-01   897.25000  1372.75000   970.12000\n2013-02-01   903.87000  1502.97000   894.07000\n...                ...         ...         ...\n2023-05-01  1070.64294  1891.56504   728.06302\n2023-06-01  1051.40443  1699.80289   772.63247\n2023-07-01  1036.08326  1639.65273   752.27846\n2023-08-01  1132.57853  1711.11819   751.44710\n2023-09-01  1157.63579  1897.70876   774.96446\n\n[132 rows x 3 columns]",
      "text/html": "<div>\n<style scoped>\n    .dataframe tbody tr th:only-of-type {\n        vertical-align: middle;\n    }\n\n    .dataframe tbody tr th {\n        vertical-align: top;\n    }\n\n    .dataframe thead th {\n        text-align: right;\n    }\n</style>\n<table border=\"1\" class=\"dataframe\">\n  <thead>\n    <tr style=\"text-align: right;\">\n      <th></th>\n      <th>农产品</th>\n      <th>能化</th>\n      <th>贵金属</th>\n    </tr>\n    <tr>\n      <th>date</th>\n      <th></th>\n      <th></th>\n      <th></th>\n    </tr>\n  </thead>\n  <tbody>\n    <tr>\n      <th>2012-10-01</th>\n      <td>941.30000</td>\n      <td>1255.76000</td>\n      <td>1000.00000</td>\n    </tr>\n    <tr>\n      <th>2012-11-01</th>\n      <td>897.48000</td>\n      <td>1333.65000</td>\n      <td>1016.85000</td>\n    </tr>\n    <tr>\n      <th>2012-12-01</th>\n      <td>904.30000</td>\n      <td>1358.90000</td>\n      <td>979.08000</td>\n    </tr>\n    <tr>\n      <th>2013-01-01</th>\n      <td>897.25000</td>\n      <td>1372.75000</td>\n      <td>970.12000</td>\n    </tr>\n    <tr>\n      <th>2013-02-01</th>\n      <td>903.87000</td>\n      <td>1502.97000</td>\n      <td>894.07000</td>\n    </tr>\n    <tr>\n      <th>...</th>\n      <td>...</td>\n      <td>...</td>\n      <td>...</td>\n    </tr>\n    <tr>\n      <th>2023-05-01</th>\n      <td>1070.64294</td>\n      <td>1891.56504</td>\n      <td>728.06302</td>\n    </tr>\n    <tr>\n      <th>2023-06-01</th>\n      <td>1051.40443</td>\n      <td>1699.80289</td>\n      <td>772.63247</td>\n    </tr>\n    <tr>\n      <th>2023-07-01</th>\n      <td>1036.08326</td>\n      <td>1639.65273</td>\n      <td>752.27846</td>\n    </tr>\n    <tr>\n      <th>2023-08-01</th>\n      <td>1132.57853</td>\n      <td>1711.11819</td>\n      <td>751.44710</td>\n    </tr>\n    <tr>\n      <th>2023-09-01</th>\n      <td>1157.63579</td>\n      <td>1897.70876</td>\n      <td>774.96446</td>\n    </tr>\n  </tbody>\n</table>\n<p>132 rows × 3 columns</p>\n</div>"
     },
     "execution_count": 27,
     "metadata": {},
     "output_type": "execute_result"
    }
   ],
   "source": [
    "NH_data['date'] = pd.to_datetime(NH_data['date'])\n",
    "NH_data.set_index('date', inplace=True)\n",
    "NH_data_monthly = NH_data.resample('M', loffset=pd.offsets.MonthBegin(0)).first()\n",
    "NH_data_monthly"
   ],
   "metadata": {
    "collapsed": false
   }
  },
  {
   "cell_type": "code",
   "execution_count": 28,
   "outputs": [
    {
     "name": "stderr",
     "output_type": "stream",
     "text": [
      "C:\\Users\\sersmile\\AppData\\Local\\Temp\\ipykernel_18988\\2531406584.py:3: FutureWarning: 'loffset' in .resample() and in Grouper() is deprecated.\n",
      "\n",
      ">>> df.resample(freq=\"3s\", loffset=\"8H\")\n",
      "\n",
      "becomes:\n",
      "\n",
      ">>> from pandas.tseries.frequencies import to_offset\n",
      ">>> df = df.resample(freq=\"3s\").mean()\n",
      ">>> df.index = df.index.to_timestamp() + to_offset(\"8H\")\n",
      "\n",
      "  Stock_data_monthly = Stock_data.resample('M', loffset=pd.offsets.MonthBegin(0)).first()\n"
     ]
    },
    {
     "data": {
      "text/plain": "                上证50     沪深300     中证500    中证1000\ndate                                              \n2014-11-01  1608.516  2441.732  4860.732  6058.668\n2014-12-01  1651.052  2512.548  5028.698  6275.993\n2015-01-01  1920.380  2819.812  5208.139  6392.464\n2015-02-01  2649.639  3641.541  5417.017  6049.787\n2015-03-01  2332.533  3353.960  5609.389  6535.903\n...              ...       ...       ...       ...\n2023-05-01  2665.723  4090.568  6413.807  6962.205\n2023-06-01  2692.691  4030.247  6262.389  6733.969\n2023-07-01  2500.340  3806.868  6051.460  6574.758\n2023-08-01  2534.474  3892.882  6042.312  6612.884\n2023-09-01  2645.893  3998.001  6098.879  6507.412\n\n[107 rows x 4 columns]",
      "text/html": "<div>\n<style scoped>\n    .dataframe tbody tr th:only-of-type {\n        vertical-align: middle;\n    }\n\n    .dataframe tbody tr th {\n        vertical-align: top;\n    }\n\n    .dataframe thead th {\n        text-align: right;\n    }\n</style>\n<table border=\"1\" class=\"dataframe\">\n  <thead>\n    <tr style=\"text-align: right;\">\n      <th></th>\n      <th>上证50</th>\n      <th>沪深300</th>\n      <th>中证500</th>\n      <th>中证1000</th>\n    </tr>\n    <tr>\n      <th>date</th>\n      <th></th>\n      <th></th>\n      <th></th>\n      <th></th>\n    </tr>\n  </thead>\n  <tbody>\n    <tr>\n      <th>2014-11-01</th>\n      <td>1608.516</td>\n      <td>2441.732</td>\n      <td>4860.732</td>\n      <td>6058.668</td>\n    </tr>\n    <tr>\n      <th>2014-12-01</th>\n      <td>1651.052</td>\n      <td>2512.548</td>\n      <td>5028.698</td>\n      <td>6275.993</td>\n    </tr>\n    <tr>\n      <th>2015-01-01</th>\n      <td>1920.380</td>\n      <td>2819.812</td>\n      <td>5208.139</td>\n      <td>6392.464</td>\n    </tr>\n    <tr>\n      <th>2015-02-01</th>\n      <td>2649.639</td>\n      <td>3641.541</td>\n      <td>5417.017</td>\n      <td>6049.787</td>\n    </tr>\n    <tr>\n      <th>2015-03-01</th>\n      <td>2332.533</td>\n      <td>3353.960</td>\n      <td>5609.389</td>\n      <td>6535.903</td>\n    </tr>\n    <tr>\n      <th>...</th>\n      <td>...</td>\n      <td>...</td>\n      <td>...</td>\n      <td>...</td>\n    </tr>\n    <tr>\n      <th>2023-05-01</th>\n      <td>2665.723</td>\n      <td>4090.568</td>\n      <td>6413.807</td>\n      <td>6962.205</td>\n    </tr>\n    <tr>\n      <th>2023-06-01</th>\n      <td>2692.691</td>\n      <td>4030.247</td>\n      <td>6262.389</td>\n      <td>6733.969</td>\n    </tr>\n    <tr>\n      <th>2023-07-01</th>\n      <td>2500.340</td>\n      <td>3806.868</td>\n      <td>6051.460</td>\n      <td>6574.758</td>\n    </tr>\n    <tr>\n      <th>2023-08-01</th>\n      <td>2534.474</td>\n      <td>3892.882</td>\n      <td>6042.312</td>\n      <td>6612.884</td>\n    </tr>\n    <tr>\n      <th>2023-09-01</th>\n      <td>2645.893</td>\n      <td>3998.001</td>\n      <td>6098.879</td>\n      <td>6507.412</td>\n    </tr>\n  </tbody>\n</table>\n<p>107 rows × 4 columns</p>\n</div>"
     },
     "execution_count": 28,
     "metadata": {},
     "output_type": "execute_result"
    }
   ],
   "source": [
    "Stock_data['date'] = pd.to_datetime(Stock_data['date'])\n",
    "Stock_data.set_index('date', inplace=True)\n",
    "Stock_data_monthly = Stock_data.resample('M', loffset=pd.offsets.MonthBegin(0)).first()\n",
    "Stock_data_monthly"
   ],
   "metadata": {
    "collapsed": false
   }
  },
  {
   "cell_type": "code",
   "execution_count": 29,
   "outputs": [],
   "source": [
    "NH_data_monthly['date'] = NH_data_monthly.index\n",
    "NH_data_monthly.reset_index(drop=True, inplace=True)\n",
    "Stock_data_monthly['date'] = Stock_data_monthly.index\n",
    "Stock_data_monthly.reset_index(drop=True, inplace=True)\n",
    "CPI_monthly = pd.DataFrame(CPI_monthly)\n",
    "CPI_monthly['date'] = CPI_monthly.index\n",
    "CPI_monthly.reset_index(drop=True, inplace=True)\n",
    "CPI_monthly['date'] = CPI_monthly['date'].dt.to_period('M').dt.to_timestamp()\n",
    "\n",
    "NH_CPI = pd.merge(NH_data_monthly, CPI_monthly, on='date')\n",
    "stock_CPI = pd.merge(Stock_data_monthly, CPI_monthly, on='date')"
   ],
   "metadata": {
    "collapsed": false
   }
  },
  {
   "cell_type": "code",
   "execution_count": 30,
   "outputs": [
    {
     "data": {
      "text/plain": "            农产品          能化         贵金属       date  cpi\n0     941.30000  1255.76000  1000.00000 2012-10-01  0.3\n1     897.48000  1333.65000  1016.85000 2012-11-01 -0.1\n2     904.30000  1358.90000   979.08000 2012-12-01  0.1\n3     897.25000  1372.75000   970.12000 2013-01-01  0.8\n4     903.87000  1502.97000   894.07000 2013-02-01  1.0\n..          ...         ...         ...        ...  ...\n118  1129.97973  1954.63847   687.03464 2023-04-01 -0.3\n119  1070.64294  1891.56504   728.06302 2023-05-01 -0.1\n120  1051.40443  1699.80289   772.63247 2023-06-01 -0.2\n121  1036.08326  1639.65273   752.27846 2023-07-01 -0.2\n122  1132.57853  1711.11819   751.44710 2023-08-01  0.2\n\n[123 rows x 5 columns]",
      "text/html": "<div>\n<style scoped>\n    .dataframe tbody tr th:only-of-type {\n        vertical-align: middle;\n    }\n\n    .dataframe tbody tr th {\n        vertical-align: top;\n    }\n\n    .dataframe thead th {\n        text-align: right;\n    }\n</style>\n<table border=\"1\" class=\"dataframe\">\n  <thead>\n    <tr style=\"text-align: right;\">\n      <th></th>\n      <th>农产品</th>\n      <th>能化</th>\n      <th>贵金属</th>\n      <th>date</th>\n      <th>cpi</th>\n    </tr>\n  </thead>\n  <tbody>\n    <tr>\n      <th>0</th>\n      <td>941.30000</td>\n      <td>1255.76000</td>\n      <td>1000.00000</td>\n      <td>2012-10-01</td>\n      <td>0.3</td>\n    </tr>\n    <tr>\n      <th>1</th>\n      <td>897.48000</td>\n      <td>1333.65000</td>\n      <td>1016.85000</td>\n      <td>2012-11-01</td>\n      <td>-0.1</td>\n    </tr>\n    <tr>\n      <th>2</th>\n      <td>904.30000</td>\n      <td>1358.90000</td>\n      <td>979.08000</td>\n      <td>2012-12-01</td>\n      <td>0.1</td>\n    </tr>\n    <tr>\n      <th>3</th>\n      <td>897.25000</td>\n      <td>1372.75000</td>\n      <td>970.12000</td>\n      <td>2013-01-01</td>\n      <td>0.8</td>\n    </tr>\n    <tr>\n      <th>4</th>\n      <td>903.87000</td>\n      <td>1502.97000</td>\n      <td>894.07000</td>\n      <td>2013-02-01</td>\n      <td>1.0</td>\n    </tr>\n    <tr>\n      <th>...</th>\n      <td>...</td>\n      <td>...</td>\n      <td>...</td>\n      <td>...</td>\n      <td>...</td>\n    </tr>\n    <tr>\n      <th>118</th>\n      <td>1129.97973</td>\n      <td>1954.63847</td>\n      <td>687.03464</td>\n      <td>2023-04-01</td>\n      <td>-0.3</td>\n    </tr>\n    <tr>\n      <th>119</th>\n      <td>1070.64294</td>\n      <td>1891.56504</td>\n      <td>728.06302</td>\n      <td>2023-05-01</td>\n      <td>-0.1</td>\n    </tr>\n    <tr>\n      <th>120</th>\n      <td>1051.40443</td>\n      <td>1699.80289</td>\n      <td>772.63247</td>\n      <td>2023-06-01</td>\n      <td>-0.2</td>\n    </tr>\n    <tr>\n      <th>121</th>\n      <td>1036.08326</td>\n      <td>1639.65273</td>\n      <td>752.27846</td>\n      <td>2023-07-01</td>\n      <td>-0.2</td>\n    </tr>\n    <tr>\n      <th>122</th>\n      <td>1132.57853</td>\n      <td>1711.11819</td>\n      <td>751.44710</td>\n      <td>2023-08-01</td>\n      <td>0.2</td>\n    </tr>\n  </tbody>\n</table>\n<p>123 rows × 5 columns</p>\n</div>"
     },
     "execution_count": 30,
     "metadata": {},
     "output_type": "execute_result"
    }
   ],
   "source": [
    "NH_CPI"
   ],
   "metadata": {
    "collapsed": false
   }
  },
  {
   "cell_type": "code",
   "execution_count": 31,
   "outputs": [
    {
     "data": {
      "text/plain": "        上证50     沪深300     中证500    中证1000       date  cpi\n0   1608.516  2441.732  4860.732  6058.668 2014-11-01  0.0\n1   1651.052  2512.548  5028.698  6275.993 2014-12-01 -0.2\n2   1920.380  2819.812  5208.139  6392.464 2015-01-01  0.3\n3   2649.639  3641.541  5417.017  6049.787 2015-02-01  0.3\n4   2332.533  3353.960  5609.389  6535.903 2015-03-01  1.2\n..       ...       ...       ...       ...        ...  ...\n93  2773.649  4126.942  6402.141  7002.771 2023-04-01 -0.3\n94  2665.723  4090.568  6413.807  6962.205 2023-05-01 -0.1\n95  2692.691  4030.247  6262.389  6733.969 2023-06-01 -0.2\n96  2500.340  3806.868  6051.460  6574.758 2023-07-01 -0.2\n97  2534.474  3892.882  6042.312  6612.884 2023-08-01  0.2\n\n[98 rows x 6 columns]",
      "text/html": "<div>\n<style scoped>\n    .dataframe tbody tr th:only-of-type {\n        vertical-align: middle;\n    }\n\n    .dataframe tbody tr th {\n        vertical-align: top;\n    }\n\n    .dataframe thead th {\n        text-align: right;\n    }\n</style>\n<table border=\"1\" class=\"dataframe\">\n  <thead>\n    <tr style=\"text-align: right;\">\n      <th></th>\n      <th>上证50</th>\n      <th>沪深300</th>\n      <th>中证500</th>\n      <th>中证1000</th>\n      <th>date</th>\n      <th>cpi</th>\n    </tr>\n  </thead>\n  <tbody>\n    <tr>\n      <th>0</th>\n      <td>1608.516</td>\n      <td>2441.732</td>\n      <td>4860.732</td>\n      <td>6058.668</td>\n      <td>2014-11-01</td>\n      <td>0.0</td>\n    </tr>\n    <tr>\n      <th>1</th>\n      <td>1651.052</td>\n      <td>2512.548</td>\n      <td>5028.698</td>\n      <td>6275.993</td>\n      <td>2014-12-01</td>\n      <td>-0.2</td>\n    </tr>\n    <tr>\n      <th>2</th>\n      <td>1920.380</td>\n      <td>2819.812</td>\n      <td>5208.139</td>\n      <td>6392.464</td>\n      <td>2015-01-01</td>\n      <td>0.3</td>\n    </tr>\n    <tr>\n      <th>3</th>\n      <td>2649.639</td>\n      <td>3641.541</td>\n      <td>5417.017</td>\n      <td>6049.787</td>\n      <td>2015-02-01</td>\n      <td>0.3</td>\n    </tr>\n    <tr>\n      <th>4</th>\n      <td>2332.533</td>\n      <td>3353.960</td>\n      <td>5609.389</td>\n      <td>6535.903</td>\n      <td>2015-03-01</td>\n      <td>1.2</td>\n    </tr>\n    <tr>\n      <th>...</th>\n      <td>...</td>\n      <td>...</td>\n      <td>...</td>\n      <td>...</td>\n      <td>...</td>\n      <td>...</td>\n    </tr>\n    <tr>\n      <th>93</th>\n      <td>2773.649</td>\n      <td>4126.942</td>\n      <td>6402.141</td>\n      <td>7002.771</td>\n      <td>2023-04-01</td>\n      <td>-0.3</td>\n    </tr>\n    <tr>\n      <th>94</th>\n      <td>2665.723</td>\n      <td>4090.568</td>\n      <td>6413.807</td>\n      <td>6962.205</td>\n      <td>2023-05-01</td>\n      <td>-0.1</td>\n    </tr>\n    <tr>\n      <th>95</th>\n      <td>2692.691</td>\n      <td>4030.247</td>\n      <td>6262.389</td>\n      <td>6733.969</td>\n      <td>2023-06-01</td>\n      <td>-0.2</td>\n    </tr>\n    <tr>\n      <th>96</th>\n      <td>2500.340</td>\n      <td>3806.868</td>\n      <td>6051.460</td>\n      <td>6574.758</td>\n      <td>2023-07-01</td>\n      <td>-0.2</td>\n    </tr>\n    <tr>\n      <th>97</th>\n      <td>2534.474</td>\n      <td>3892.882</td>\n      <td>6042.312</td>\n      <td>6612.884</td>\n      <td>2023-08-01</td>\n      <td>0.2</td>\n    </tr>\n  </tbody>\n</table>\n<p>98 rows × 6 columns</p>\n</div>"
     },
     "execution_count": 31,
     "metadata": {},
     "output_type": "execute_result"
    }
   ],
   "source": [
    "stock_CPI"
   ],
   "metadata": {
    "collapsed": false
   }
  },
  {
   "cell_type": "code",
   "execution_count": 32,
   "outputs": [
    {
     "data": {
      "text/plain": "          农产品        能化       贵金属       date  cpi\n1   -0.046553  0.062026  0.016850 2012-11-01 -0.1\n2    0.007599  0.018933 -0.037144 2012-12-01  0.1\n3   -0.007796  0.010192 -0.009151 2013-01-01  0.8\n4    0.007378  0.094861 -0.078392 2013-02-01  1.0\n5    0.014571  0.017998  0.030602 2013-03-01  1.1\n..        ...       ...       ...        ...  ...\n118  0.006993  0.005859 -0.033377 2023-04-01 -0.3\n119 -0.052511 -0.032269  0.059718 2023-05-01 -0.1\n120 -0.017969 -0.101378  0.061216 2023-06-01 -0.2\n121 -0.014572 -0.035387 -0.026344 2023-07-01 -0.2\n122  0.093135  0.043586 -0.001105 2023-08-01  0.2\n\n[122 rows x 5 columns]",
      "text/html": "<div>\n<style scoped>\n    .dataframe tbody tr th:only-of-type {\n        vertical-align: middle;\n    }\n\n    .dataframe tbody tr th {\n        vertical-align: top;\n    }\n\n    .dataframe thead th {\n        text-align: right;\n    }\n</style>\n<table border=\"1\" class=\"dataframe\">\n  <thead>\n    <tr style=\"text-align: right;\">\n      <th></th>\n      <th>农产品</th>\n      <th>能化</th>\n      <th>贵金属</th>\n      <th>date</th>\n      <th>cpi</th>\n    </tr>\n  </thead>\n  <tbody>\n    <tr>\n      <th>1</th>\n      <td>-0.046553</td>\n      <td>0.062026</td>\n      <td>0.016850</td>\n      <td>2012-11-01</td>\n      <td>-0.1</td>\n    </tr>\n    <tr>\n      <th>2</th>\n      <td>0.007599</td>\n      <td>0.018933</td>\n      <td>-0.037144</td>\n      <td>2012-12-01</td>\n      <td>0.1</td>\n    </tr>\n    <tr>\n      <th>3</th>\n      <td>-0.007796</td>\n      <td>0.010192</td>\n      <td>-0.009151</td>\n      <td>2013-01-01</td>\n      <td>0.8</td>\n    </tr>\n    <tr>\n      <th>4</th>\n      <td>0.007378</td>\n      <td>0.094861</td>\n      <td>-0.078392</td>\n      <td>2013-02-01</td>\n      <td>1.0</td>\n    </tr>\n    <tr>\n      <th>5</th>\n      <td>0.014571</td>\n      <td>0.017998</td>\n      <td>0.030602</td>\n      <td>2013-03-01</td>\n      <td>1.1</td>\n    </tr>\n    <tr>\n      <th>...</th>\n      <td>...</td>\n      <td>...</td>\n      <td>...</td>\n      <td>...</td>\n      <td>...</td>\n    </tr>\n    <tr>\n      <th>118</th>\n      <td>0.006993</td>\n      <td>0.005859</td>\n      <td>-0.033377</td>\n      <td>2023-04-01</td>\n      <td>-0.3</td>\n    </tr>\n    <tr>\n      <th>119</th>\n      <td>-0.052511</td>\n      <td>-0.032269</td>\n      <td>0.059718</td>\n      <td>2023-05-01</td>\n      <td>-0.1</td>\n    </tr>\n    <tr>\n      <th>120</th>\n      <td>-0.017969</td>\n      <td>-0.101378</td>\n      <td>0.061216</td>\n      <td>2023-06-01</td>\n      <td>-0.2</td>\n    </tr>\n    <tr>\n      <th>121</th>\n      <td>-0.014572</td>\n      <td>-0.035387</td>\n      <td>-0.026344</td>\n      <td>2023-07-01</td>\n      <td>-0.2</td>\n    </tr>\n    <tr>\n      <th>122</th>\n      <td>0.093135</td>\n      <td>0.043586</td>\n      <td>-0.001105</td>\n      <td>2023-08-01</td>\n      <td>0.2</td>\n    </tr>\n  </tbody>\n</table>\n<p>122 rows × 5 columns</p>\n</div>"
     },
     "execution_count": 32,
     "metadata": {},
     "output_type": "execute_result"
    }
   ],
   "source": [
    "\"\"\"\n",
    "进行线性回归，并且获取R2的大小\n",
    "\"\"\"\n",
    "# NH_CPI[['date', 'cpi']]\n",
    "NH_CPI_pct = NH_CPI[['农产品', '能化', '贵金属']].pct_change().join(NH_CPI[['date', 'cpi']])\n",
    "stock_CPI_pct = stock_CPI[['上证50', '沪深300', '中证500', '中证1000']].pct_change().join(stock_CPI[['date', 'cpi']])\n",
    "NH_CPI_pct.dropna(inplace=True)\n",
    "stock_CPI_pct.dropna(inplace=True)\n",
    "NH_CPI_pct"
   ],
   "metadata": {
    "collapsed": false
   }
  },
  {
   "cell_type": "code",
   "execution_count": 33,
   "outputs": [
    {
     "data": {
      "text/plain": "0.008905703967200806"
     },
     "execution_count": 33,
     "metadata": {},
     "output_type": "execute_result"
    }
   ],
   "source": [
    "# 先假设时间滞后为0，测试一下代码\n",
    "from sklearn.linear_model import LinearRegression\n",
    "\n",
    "LR = LinearRegression()\n",
    "reg = LR.fit(NH_CPI_pct[['cpi']], NH_CPI_pct[['农产品']])\n",
    "reg.score(NH_CPI_pct[['cpi']], NH_CPI_pct[['农产品']])"
   ],
   "metadata": {
    "collapsed": false
   }
  },
  {
   "cell_type": "code",
   "execution_count": 34,
   "outputs": [],
   "source": [
    "inflation_result = {}\n",
    "for delay in range(-8, 8):\n",
    "    if delay > 0:\n",
    "        # delay > 0是滞后\n",
    "        reg_inflation0 = LR.fit(NH_CPI_pct[['cpi']].iloc[:-delay], NH_CPI_pct[['农产品']].iloc[delay:])\n",
    "        R2_0 = reg_inflation0.score(NH_CPI_pct[['cpi']].iloc[:-delay], NH_CPI_pct[['农产品']].iloc[delay:])\n",
    "        reg_inflation1 = LR.fit(NH_CPI_pct[['cpi']].iloc[:-delay], NH_CPI_pct[['能化']].iloc[delay:])\n",
    "        R2_1 = reg_inflation1.score(NH_CPI_pct[['cpi']].iloc[:-delay], NH_CPI_pct[['能化']].iloc[delay:])\n",
    "        reg_inflation2 = LR.fit(NH_CPI_pct[['cpi']].iloc[:-delay], NH_CPI_pct[['贵金属']].iloc[delay:])\n",
    "        R2_2 = reg_inflation2.score(NH_CPI_pct[['cpi']].iloc[:-delay], NH_CPI_pct[['贵金属']].iloc[delay:])\n",
    "\n",
    "        reg_inflation3 = LR.fit(stock_CPI_pct[['cpi']].iloc[:-delay], stock_CPI_pct[['上证50']].iloc[delay:])\n",
    "        R2_3 = reg_inflation3.score(stock_CPI_pct[['cpi']].iloc[:-delay], stock_CPI_pct[['上证50']].iloc[delay:])\n",
    "        reg_inflation4 = LR.fit(stock_CPI_pct[['cpi']].iloc[:-delay], stock_CPI_pct[['沪深300']].iloc[delay:])\n",
    "        R2_4 = reg_inflation4.score(stock_CPI_pct[['cpi']].iloc[:-delay], stock_CPI_pct[['沪深300']].iloc[delay:])\n",
    "        reg_inflation5 = LR.fit(stock_CPI_pct[['cpi']].iloc[:-delay], stock_CPI_pct[['中证500']].iloc[delay:])\n",
    "        R2_5 = reg_inflation5.score(stock_CPI_pct[['cpi']].iloc[:-delay], stock_CPI_pct[['中证500']].iloc[delay:])\n",
    "        reg_inflation6 = LR.fit(stock_CPI_pct[['cpi']].iloc[:-delay], stock_CPI_pct[['中证1000']].iloc[delay:])\n",
    "        R2_6 = reg_inflation6.score(stock_CPI_pct[['cpi']].iloc[:-delay], stock_CPI_pct[['中证1000']].iloc[delay:])\n",
    "    elif delay < 0:\n",
    "        reg_inflation0 = LR.fit(NH_CPI_pct[['cpi']].iloc[-delay:], NH_CPI_pct[['农产品']].iloc[:delay])\n",
    "        R2_0 = reg_inflation0.score(NH_CPI_pct[['cpi']].iloc[-delay:], NH_CPI_pct[['农产品']].iloc[:delay])\n",
    "        reg_inflation1 = LR.fit(NH_CPI_pct[['cpi']].iloc[-delay:], NH_CPI_pct[['能化']].iloc[:delay])\n",
    "        R2_1 = reg_inflation1.score(NH_CPI_pct[['cpi']].iloc[-delay:], NH_CPI_pct[['能化']].iloc[:delay])\n",
    "        reg_inflation2 = LR.fit(NH_CPI_pct[['cpi']].iloc[-delay:], NH_CPI_pct[['贵金属']].iloc[:delay])\n",
    "        R2_2 = reg_inflation2.score(NH_CPI_pct[['cpi']].iloc[-delay:], NH_CPI_pct[['贵金属']].iloc[:delay])\n",
    "\n",
    "        reg_inflation3 = LR.fit(stock_CPI_pct[['cpi']].iloc[-delay:], stock_CPI_pct[['上证50']].iloc[:delay])\n",
    "        R2_3 = reg_inflation3.score(stock_CPI_pct[['cpi']].iloc[-delay:], stock_CPI_pct[['上证50']].iloc[:delay])\n",
    "        reg_inflation4 = LR.fit(stock_CPI_pct[['cpi']].iloc[-delay:], stock_CPI_pct[['沪深300']].iloc[:delay])\n",
    "        R2_4 = reg_inflation4.score(stock_CPI_pct[['cpi']].iloc[-delay:], stock_CPI_pct[['沪深300']].iloc[:delay])\n",
    "        reg_inflation5 = LR.fit(stock_CPI_pct[['cpi']].iloc[-delay:], stock_CPI_pct[['中证500']].iloc[:delay])\n",
    "        R2_5 = reg_inflation5.score(stock_CPI_pct[['cpi']].iloc[-delay:], stock_CPI_pct[['中证500']].iloc[:delay])\n",
    "        reg_inflation6 = LR.fit(stock_CPI_pct[['cpi']].iloc[-delay:], stock_CPI_pct[['中证1000']].iloc[:delay])\n",
    "        R2_6 = reg_inflation6.score(stock_CPI_pct[['cpi']].iloc[-delay:], stock_CPI_pct[['中证1000']].iloc[:delay])\n",
    "    else:\n",
    "        reg_inflation0 = LR.fit(NH_CPI_pct[['cpi']], NH_CPI_pct[['农产品']])\n",
    "        R2_0 = reg_inflation0.score(NH_CPI_pct[['cpi']], NH_CPI_pct[['农产品']])\n",
    "        reg_inflation1 = LR.fit(NH_CPI_pct[['cpi']], NH_CPI_pct[['农产品']])\n",
    "        R2_1 = reg_inflation1.score(NH_CPI_pct[['cpi']], NH_CPI_pct[['农产品']])\n",
    "        reg_inflation2 = LR.fit(NH_CPI_pct[['cpi']], NH_CPI_pct[['农产品']])\n",
    "        R2_2 = reg_inflation2.score(NH_CPI_pct[['cpi']], NH_CPI_pct[['农产品']])\n",
    "\n",
    "        reg_inflation3 = LR.fit(NH_CPI_pct[['cpi']], NH_CPI_pct[['农产品']])\n",
    "        R2_3 = reg_inflation3.score(NH_CPI_pct[['cpi']], NH_CPI_pct[['农产品']])\n",
    "        reg_inflation4 = LR.fit(NH_CPI_pct[['cpi']], NH_CPI_pct[['农产品']])\n",
    "        R2_4 = reg_inflation4.score(NH_CPI_pct[['cpi']], NH_CPI_pct[['农产品']])\n",
    "        reg_inflation5 = LR.fit(NH_CPI_pct[['cpi']], NH_CPI_pct[['农产品']])\n",
    "        R2_5 = reg_inflation5.score(NH_CPI_pct[['cpi']], NH_CPI_pct[['农产品']])\n",
    "        reg_inflation6 = LR.fit(NH_CPI_pct[['cpi']], NH_CPI_pct[['农产品']])\n",
    "        R2_6 = reg_inflation6.score(NH_CPI_pct[['cpi']], NH_CPI_pct[['农产品']])\n",
    "\n",
    "    inflation_result[delay] = [R2_0, R2_1, R2_2, R2_3, R2_4, R2_5, R2_6]"
   ],
   "metadata": {
    "collapsed": false
   }
  },
  {
   "cell_type": "code",
   "execution_count": 35,
   "outputs": [],
   "source": [
    "inflation_result_df = pd.DataFrame(inflation_result, index=['农产品', '能化', '贵金属', '上证50', '沪深300', '中证500', '中证1000'])\n",
    "inflation_result_df.to_excel('通胀回归结果.xlsx')"
   ],
   "metadata": {
    "collapsed": false
   }
  },
  {
   "cell_type": "markdown",
   "source": [
    "经过回归，我们得到如下结果：\n",
    "\n",
    "![通胀回归结果](通胀回归结果.png)\n",
    "\n",
    "表中所有值都是回归得到的R2\n",
    "\n",
    "接下来为了更加直观地展示结果，绘制热力图"
   ],
   "metadata": {
    "collapsed": false
   }
  },
  {
   "cell_type": "code",
   "execution_count": 36,
   "outputs": [
    {
     "data": {
      "text/plain": "<Figure size 1200x500 with 2 Axes>",
      "image/png": "[encoded data removed]"
     },
     "metadata": {},
     "output_type": "display_data"
    }
   ],
   "source": [
    "plt.rcParams['font.family'] = 'SimSun'\n",
    "ax_heatmap = sns.heatmap(inflation_result_df, cmap='Blues')\n",
    "ax_heatmap.figure.set_size_inches(12, 5)"
   ],
   "metadata": {
    "collapsed": false
   }
  },
  {
   "cell_type": "markdown",
   "source": [
    "趋势策略是CTA策略最主要的组成部分，趋势策略的本质在于趋势的可持续性和度量趋势的方法"
   ],
   "metadata": {
    "collapsed": false
   }
  },
  {
   "cell_type": "markdown",
   "source": [
    "# 趋势可持续性的度量\n",
    "\n",
    "趋势可持续性的度量应该由下面的公式所决定：\n",
    "\n",
    "![](趋势度量回归公式.png)\n",
    "\n",
    "以周为时间单位，sigma代表已实现波动率的指数加权，为了使得品种间的收益率具有可比性，对不同品种的周度收益做波动率矫正，记录回归后 Beta 系数的T值显著性。这么做的目的在于，趋势跟踪策略为时序动量，过去表现好（差）的资产在未来会继续上涨（下跌），因此若回归后 Beta 系数的T值越大，收益率的正负号“粘性”越大，代表收益率的持续性越好"
   ],
   "metadata": {
    "collapsed": false
   }
  },
  {
   "cell_type": "code",
   "execution_count": 37,
   "outputs": [
    {
     "data": {
      "text/plain": "                   农产品          能化         贵金属\ndate                                          \n2012-09-09   941.30000  1255.76000  1000.00000\n2012-09-16   945.00000  1303.32000  1020.41000\n2012-09-23   937.78000  1358.14000  1039.17000\n2012-09-30   913.27000  1325.57000  1019.47000\n2012-10-07         NaN         NaN         NaN\n...                ...         ...         ...\n2023-07-23  1125.17802  1771.20237   772.58936\n2023-07-30  1135.74123  1810.00820   778.11762\n2023-08-06  1151.73973  1869.48090   769.49829\n2023-08-13  1158.23979  1859.57055   763.88935\n2023-08-20  1153.69835  1865.94113   760.86030\n\n[572 rows x 3 columns]",
      "text/html": "<div>\n<style scoped>\n    .dataframe tbody tr th:only-of-type {\n        vertical-align: middle;\n    }\n\n    .dataframe tbody tr th {\n        vertical-align: top;\n    }\n\n    .dataframe thead th {\n        text-align: right;\n    }\n</style>\n<table border=\"1\" class=\"dataframe\">\n  <thead>\n    <tr style=\"text-align: right;\">\n      <th></th>\n      <th>农产品</th>\n      <th>能化</th>\n      <th>贵金属</th>\n    </tr>\n    <tr>\n      <th>date</th>\n      <th></th>\n      <th></th>\n      <th></th>\n    </tr>\n  </thead>\n  <tbody>\n    <tr>\n      <th>2012-09-09</th>\n      <td>941.30000</td>\n      <td>1255.76000</td>\n      <td>1000.00000</td>\n    </tr>\n    <tr>\n      <th>2012-09-16</th>\n      <td>945.00000</td>\n      <td>1303.32000</td>\n      <td>1020.41000</td>\n    </tr>\n    <tr>\n      <th>2012-09-23</th>\n      <td>937.78000</td>\n      <td>1358.14000</td>\n      <td>1039.17000</td>\n    </tr>\n    <tr>\n      <th>2012-09-30</th>\n      <td>913.27000</td>\n      <td>1325.57000</td>\n      <td>1019.47000</td>\n    </tr>\n    <tr>\n      <th>2012-10-07</th>\n      <td>NaN</td>\n      <td>NaN</td>\n      <td>NaN</td>\n    </tr>\n    <tr>\n      <th>...</th>\n      <td>...</td>\n      <td>...</td>\n      <td>...</td>\n    </tr>\n    <tr>\n      <th>2023-07-23</th>\n      <td>1125.17802</td>\n      <td>1771.20237</td>\n      <td>772.58936</td>\n    </tr>\n    <tr>\n      <th>2023-07-30</th>\n      <td>1135.74123</td>\n      <td>1810.00820</td>\n      <td>778.11762</td>\n    </tr>\n    <tr>\n      <th>2023-08-06</th>\n      <td>1151.73973</td>\n      <td>1869.48090</td>\n      <td>769.49829</td>\n    </tr>\n    <tr>\n      <th>2023-08-13</th>\n      <td>1158.23979</td>\n      <td>1859.57055</td>\n      <td>763.88935</td>\n    </tr>\n    <tr>\n      <th>2023-08-20</th>\n      <td>1153.69835</td>\n      <td>1865.94113</td>\n      <td>760.86030</td>\n    </tr>\n  </tbody>\n</table>\n<p>572 rows × 3 columns</p>\n</div>"
     },
     "execution_count": 37,
     "metadata": {},
     "output_type": "execute_result"
    }
   ],
   "source": [
    "NH_data.resample('W').first()"
   ],
   "metadata": {
    "collapsed": false
   }
  },
  {
   "cell_type": "code",
   "execution_count": 38,
   "outputs": [
    {
     "data": {
      "text/plain": "                 农产品         能化        贵金属\ndate                                      \n2012-09-16  2.473617  28.801315  15.989626\n2012-09-23  3.724617  23.920477  15.681584\n2012-09-30  9.482230  16.658281  10.682232\n2012-10-07       NaN        NaN        NaN\n2012-10-14  5.973127  10.218739  10.448717\n...              ...        ...        ...\n2023-07-23  1.805560  18.217080   7.726407\n2023-07-30  5.999361  10.492470   4.601562\n2023-08-06  9.695944  28.164505   4.534513\n2023-08-13  4.344277  24.136989   6.234897\n2023-08-20  4.728949  12.481977   2.098275\n\n[571 rows x 3 columns]",
      "text/html": "<div>\n<style scoped>\n    .dataframe tbody tr th:only-of-type {\n        vertical-align: middle;\n    }\n\n    .dataframe tbody tr th {\n        vertical-align: top;\n    }\n\n    .dataframe thead th {\n        text-align: right;\n    }\n</style>\n<table border=\"1\" class=\"dataframe\">\n  <thead>\n    <tr style=\"text-align: right;\">\n      <th></th>\n      <th>农产品</th>\n      <th>能化</th>\n      <th>贵金属</th>\n    </tr>\n    <tr>\n      <th>date</th>\n      <th></th>\n      <th></th>\n      <th></th>\n    </tr>\n  </thead>\n  <tbody>\n    <tr>\n      <th>2012-09-16</th>\n      <td>2.473617</td>\n      <td>28.801315</td>\n      <td>15.989626</td>\n    </tr>\n    <tr>\n      <th>2012-09-23</th>\n      <td>3.724617</td>\n      <td>23.920477</td>\n      <td>15.681584</td>\n    </tr>\n    <tr>\n      <th>2012-09-30</th>\n      <td>9.482230</td>\n      <td>16.658281</td>\n      <td>10.682232</td>\n    </tr>\n    <tr>\n      <th>2012-10-07</th>\n      <td>NaN</td>\n      <td>NaN</td>\n      <td>NaN</td>\n    </tr>\n    <tr>\n      <th>2012-10-14</th>\n      <td>5.973127</td>\n      <td>10.218739</td>\n      <td>10.448717</td>\n    </tr>\n    <tr>\n      <th>...</th>\n      <td>...</td>\n      <td>...</td>\n      <td>...</td>\n    </tr>\n    <tr>\n      <th>2023-07-23</th>\n      <td>1.805560</td>\n      <td>18.217080</td>\n      <td>7.726407</td>\n    </tr>\n    <tr>\n      <th>2023-07-30</th>\n      <td>5.999361</td>\n      <td>10.492470</td>\n      <td>4.601562</td>\n    </tr>\n    <tr>\n      <th>2023-08-06</th>\n      <td>9.695944</td>\n      <td>28.164505</td>\n      <td>4.534513</td>\n    </tr>\n    <tr>\n      <th>2023-08-13</th>\n      <td>4.344277</td>\n      <td>24.136989</td>\n      <td>6.234897</td>\n    </tr>\n    <tr>\n      <th>2023-08-20</th>\n      <td>4.728949</td>\n      <td>12.481977</td>\n      <td>2.098275</td>\n    </tr>\n  </tbody>\n</table>\n<p>571 rows × 3 columns</p>\n</div>"
     },
     "execution_count": 38,
     "metadata": {},
     "output_type": "execute_result"
    }
   ],
   "source": [
    "NH_std = NH_data.rolling(5).std()\n",
    "NH_std.dropna(inplace=True)\n",
    "NH_std.resample('W').first()"
   ],
   "metadata": {
    "collapsed": false
   }
  }
 ],
 "metadata": {
  "kernelspec": {
   "display_name": "Python 3",
   "language": "python",
   "name": "python3"
  },
  "language_info": {
   "codemirror_mode": {
    "name": "ipython",
    "version": 2
   },
   "file_extension": ".py",
   "mimetype": "text/x-python",
   "name": "python",
   "nbconvert_exporter": "python",
   "pygments_lexer": "ipython2",
   "version": "2.7.6"
  }
 },
 "nbformat": 4,
 "nbformat_minor": 0
}
