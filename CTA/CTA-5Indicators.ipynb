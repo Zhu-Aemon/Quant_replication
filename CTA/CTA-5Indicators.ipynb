{
 "cells": [
  {
   "cell_type": "markdown",
   "source": [
    "# CTA策略研报复现1\n",
    "\n",
    "## CTA策略的配置价值在于长期低相关性与抗通胀性\n",
    "\n",
    "### 长期低相关性\n",
    "\n",
    "商品市场长期与股票、债券市场具有低相关性"
   ],
   "metadata": {
    "collapsed": false
   }
  },
  {
   "cell_type": "code",
   "execution_count": 1,
   "outputs": [
    {
     "name": "stderr",
     "output_type": "stream",
     "text": [
      "                                             \r"
     ]
    }
   ],
   "source": [
    "import akshare as ak\n",
    "\n",
    "# 测试接口，返回所有指数实时数据\n",
    "index_info = ak.stock_zh_index_spot()"
   ],
   "metadata": {
    "collapsed": false
   }
  },
  {
   "cell_type": "code",
   "execution_count": 2,
   "outputs": [
    {
     "data": {
      "text/plain": "           代码    名称         最新价      涨跌额    涨跌幅          昨收          今开  \\\n0    sh000001  上证指数   3288.0842    7.622  0.232   3280.4626   3296.0944   \n1    sh000002  Ａ股指数   3447.0108    7.970  0.232   3439.0407   3455.4472   \n2    sh000003  Ｂ股指数    277.7048    1.857  0.673    275.8473    276.0191   \n3    sh000004  工业指数   2962.0942    3.957  0.134   2958.1370   2967.2722   \n4    sh000005  商业指数   2714.7849   10.866  0.402   2703.9188   2726.5255   \n..        ...   ...         ...      ...    ...         ...         ...   \n539  sz980015         8712.9480  -81.344 -0.925   8794.2920   8813.4560   \n540  sz980016         7095.4510  -74.331 -1.037   7169.7820   7187.4340   \n541  sz980028        10698.9740    1.090  0.010  10697.8840  10733.5050   \n542  sz980030         4725.0820   -3.439 -0.073   4728.5210   4735.7320   \n543  sz980032        12469.8580  119.342  0.966  12350.5160  12426.5400   \n\n             最高          最低         成交量           成交额  \n0     3315.0492   3281.7343   470927697  497188089389  \n1     3475.3284   3440.3659   470620202  496933467330  \n2      278.1193    276.0191      264116     112469279  \n3     2982.0156   2954.2919   186009246  247968542664  \n4     2757.4852   2705.4325    86328280   74652212834  \n..          ...         ...         ...           ...  \n539   8842.5260   8706.3410   452757819   18653726379  \n540   7209.3060   7092.0840   624876262   23697580563  \n541  10835.8180  10665.8050   215733658    6122477419  \n542   4768.3890   4691.4530  1160896015   22273547265  \n543  12564.1950  12332.4320   383785854   21948399496  \n\n[544 rows x 11 columns]",
      "text/html": "<div>\n<style scoped>\n    .dataframe tbody tr th:only-of-type {\n        vertical-align: middle;\n    }\n\n    .dataframe tbody tr th {\n        vertical-align: top;\n    }\n\n    .dataframe thead th {\n        text-align: right;\n    }\n</style>\n<table border=\"1\" class=\"dataframe\">\n  <thead>\n    <tr style=\"text-align: right;\">\n      <th></th>\n      <th>代码</th>\n      <th>名称</th>\n      <th>最新价</th>\n      <th>涨跌额</th>\n      <th>涨跌幅</th>\n      <th>昨收</th>\n      <th>今开</th>\n      <th>最高</th>\n      <th>最低</th>\n      <th>成交量</th>\n      <th>成交额</th>\n    </tr>\n  </thead>\n  <tbody>\n    <tr>\n      <th>0</th>\n      <td>sh000001</td>\n      <td>上证指数</td>\n      <td>3288.0842</td>\n      <td>7.622</td>\n      <td>0.232</td>\n      <td>3280.4626</td>\n      <td>3296.0944</td>\n      <td>3315.0492</td>\n      <td>3281.7343</td>\n      <td>470927697</td>\n      <td>497188089389</td>\n    </tr>\n    <tr>\n      <th>1</th>\n      <td>sh000002</td>\n      <td>Ａ股指数</td>\n      <td>3447.0108</td>\n      <td>7.970</td>\n      <td>0.232</td>\n      <td>3439.0407</td>\n      <td>3455.4472</td>\n      <td>3475.3284</td>\n      <td>3440.3659</td>\n      <td>470620202</td>\n      <td>496933467330</td>\n    </tr>\n    <tr>\n      <th>2</th>\n      <td>sh000003</td>\n      <td>Ｂ股指数</td>\n      <td>277.7048</td>\n      <td>1.857</td>\n      <td>0.673</td>\n      <td>275.8473</td>\n      <td>276.0191</td>\n      <td>278.1193</td>\n      <td>276.0191</td>\n      <td>264116</td>\n      <td>112469279</td>\n    </tr>\n    <tr>\n      <th>3</th>\n      <td>sh000004</td>\n      <td>工业指数</td>\n      <td>2962.0942</td>\n      <td>3.957</td>\n      <td>0.134</td>\n      <td>2958.1370</td>\n      <td>2967.2722</td>\n      <td>2982.0156</td>\n      <td>2954.2919</td>\n      <td>186009246</td>\n      <td>247968542664</td>\n    </tr>\n    <tr>\n      <th>4</th>\n      <td>sh000005</td>\n      <td>商业指数</td>\n      <td>2714.7849</td>\n      <td>10.866</td>\n      <td>0.402</td>\n      <td>2703.9188</td>\n      <td>2726.5255</td>\n      <td>2757.4852</td>\n      <td>2705.4325</td>\n      <td>86328280</td>\n      <td>74652212834</td>\n    </tr>\n    <tr>\n      <th>...</th>\n      <td>...</td>\n      <td>...</td>\n      <td>...</td>\n      <td>...</td>\n      <td>...</td>\n      <td>...</td>\n      <td>...</td>\n      <td>...</td>\n      <td>...</td>\n      <td>...</td>\n      <td>...</td>\n    </tr>\n    <tr>\n      <th>539</th>\n      <td>sz980015</td>\n      <td></td>\n      <td>8712.9480</td>\n      <td>-81.344</td>\n      <td>-0.925</td>\n      <td>8794.2920</td>\n      <td>8813.4560</td>\n      <td>8842.5260</td>\n      <td>8706.3410</td>\n      <td>452757819</td>\n      <td>18653726379</td>\n    </tr>\n    <tr>\n      <th>540</th>\n      <td>sz980016</td>\n      <td></td>\n      <td>7095.4510</td>\n      <td>-74.331</td>\n      <td>-1.037</td>\n      <td>7169.7820</td>\n      <td>7187.4340</td>\n      <td>7209.3060</td>\n      <td>7092.0840</td>\n      <td>624876262</td>\n      <td>23697580563</td>\n    </tr>\n    <tr>\n      <th>541</th>\n      <td>sz980028</td>\n      <td></td>\n      <td>10698.9740</td>\n      <td>1.090</td>\n      <td>0.010</td>\n      <td>10697.8840</td>\n      <td>10733.5050</td>\n      <td>10835.8180</td>\n      <td>10665.8050</td>\n      <td>215733658</td>\n      <td>6122477419</td>\n    </tr>\n    <tr>\n      <th>542</th>\n      <td>sz980030</td>\n      <td></td>\n      <td>4725.0820</td>\n      <td>-3.439</td>\n      <td>-0.073</td>\n      <td>4728.5210</td>\n      <td>4735.7320</td>\n      <td>4768.3890</td>\n      <td>4691.4530</td>\n      <td>1160896015</td>\n      <td>22273547265</td>\n    </tr>\n    <tr>\n      <th>543</th>\n      <td>sz980032</td>\n      <td></td>\n      <td>12469.8580</td>\n      <td>119.342</td>\n      <td>0.966</td>\n      <td>12350.5160</td>\n      <td>12426.5400</td>\n      <td>12564.1950</td>\n      <td>12332.4320</td>\n      <td>383785854</td>\n      <td>21948399496</td>\n    </tr>\n  </tbody>\n</table>\n<p>544 rows × 11 columns</p>\n</div>"
     },
     "execution_count": 2,
     "metadata": {},
     "output_type": "execute_result"
    }
   ],
   "source": [
    "index_info"
   ],
   "metadata": {
    "collapsed": false
   }
  },
  {
   "cell_type": "code",
   "execution_count": 3,
   "outputs": [
    {
     "name": "stdout",
     "output_type": "stream",
     "text": [
      "            date      open      high       low     close       volume\n",
      "0     1990-12-19    96.050    99.980    95.790    99.980       126000\n",
      "1     1990-12-20   104.300   104.390    99.980   104.390        19700\n",
      "2     1990-12-21   109.070   109.130   103.730   109.130         2800\n",
      "3     1990-12-24   113.570   114.550   109.130   114.550         3200\n",
      "4     1990-12-25   120.090   120.250   114.550   120.250         1500\n",
      "...          ...       ...       ...       ...       ...          ...\n",
      "7966  2023-07-31  3287.209  3322.129  3281.013  3291.040  45903099400\n",
      "7967  2023-08-01  3288.760  3305.340  3279.566  3290.949  45989083300\n",
      "7968  2023-08-02  3281.858  3290.820  3252.304  3261.690  40534149900\n",
      "7969  2023-08-03  3254.565  3280.864  3247.272  3280.463  38469131700\n",
      "7970  2023-08-04  3296.094  3315.049  3281.734  3288.084  47092769700\n",
      "\n",
      "[7971 rows x 6 columns]\n",
      "            date       value\n",
      "0     2004-06-01  1000.00000\n",
      "1     2004-06-02  1010.57000\n",
      "2     2004-06-03   992.78000\n",
      "3     2004-06-04   990.27000\n",
      "4     2004-06-07   996.31000\n",
      "...          ...         ...\n",
      "4659  2023-07-31  2446.67688\n",
      "4660  2023-08-01  2472.71590\n",
      "4661  2023-08-02  2467.15055\n",
      "4662  2023-08-03  2410.74911\n",
      "4663  2023-08-04  2431.79587\n",
      "\n",
      "[4664 rows x 2 columns]\n",
      "            date     value\n",
      "0     2002-01-03   99.9731\n",
      "1     2002-01-06  100.0149\n",
      "2     2002-01-07   99.8273\n",
      "3     2002-01-08  100.0203\n",
      "4     2002-01-09   99.9317\n",
      "...          ...       ...\n",
      "5398  2023-07-30  226.0833\n",
      "5399  2023-07-31  226.1471\n",
      "5400  2023-08-01  226.2194\n",
      "5401  2023-08-02  226.3256\n",
      "5402  2023-08-03  226.3582\n",
      "\n",
      "[5403 rows x 2 columns]\n"
     ]
    }
   ],
   "source": [
    "# 获取万得全A（用上证代替）、中债新综合指数和中证商品期货指数（替换为南华商品指数）的相关信息\n",
    "stock_index_df = ak.stock_zh_index_daily(symbol='sh000001')\n",
    "commodity_index_df = ak.futures_return_index_nh(symbol='NHCI')\n",
    "bond_index_df = ak.bond_new_composite_index_cbond()\n",
    "print(stock_index_df)\n",
    "print(commodity_index_df)\n",
    "print(bond_index_df)"
   ],
   "metadata": {
    "collapsed": false
   }
  },
  {
   "cell_type": "code",
   "execution_count": 4,
   "outputs": [
    {
     "data": {
      "text/plain": "            date     stock   commodity      bond\n0     2004-06-01  1579.658  1000.00000  104.5886\n1     2004-06-02  1567.067  1010.57000  104.7350\n2     2004-06-03  1543.527   992.78000  104.4258\n3     2004-06-07  1517.145   996.31000  104.1311\n4     2004-06-08  1493.814   992.67000  104.3620\n...          ...       ...         ...       ...\n3733  2023-07-25  3231.521  2438.52069  225.9850\n3734  2023-07-31  3291.040  2446.67688  226.1471\n3735  2023-08-01  3290.949  2472.71590  226.2194\n3736  2023-08-02  3261.690  2467.15055  226.3256\n3737  2023-08-03  3280.463  2410.74911  226.3582\n\n[3738 rows x 4 columns]",
      "text/html": "<div>\n<style scoped>\n    .dataframe tbody tr th:only-of-type {\n        vertical-align: middle;\n    }\n\n    .dataframe tbody tr th {\n        vertical-align: top;\n    }\n\n    .dataframe thead th {\n        text-align: right;\n    }\n</style>\n<table border=\"1\" class=\"dataframe\">\n  <thead>\n    <tr style=\"text-align: right;\">\n      <th></th>\n      <th>date</th>\n      <th>stock</th>\n      <th>commodity</th>\n      <th>bond</th>\n    </tr>\n  </thead>\n  <tbody>\n    <tr>\n      <th>0</th>\n      <td>2004-06-01</td>\n      <td>1579.658</td>\n      <td>1000.00000</td>\n      <td>104.5886</td>\n    </tr>\n    <tr>\n      <th>1</th>\n      <td>2004-06-02</td>\n      <td>1567.067</td>\n      <td>1010.57000</td>\n      <td>104.7350</td>\n    </tr>\n    <tr>\n      <th>2</th>\n      <td>2004-06-03</td>\n      <td>1543.527</td>\n      <td>992.78000</td>\n      <td>104.4258</td>\n    </tr>\n    <tr>\n      <th>3</th>\n      <td>2004-06-07</td>\n      <td>1517.145</td>\n      <td>996.31000</td>\n      <td>104.1311</td>\n    </tr>\n    <tr>\n      <th>4</th>\n      <td>2004-06-08</td>\n      <td>1493.814</td>\n      <td>992.67000</td>\n      <td>104.3620</td>\n    </tr>\n    <tr>\n      <th>...</th>\n      <td>...</td>\n      <td>...</td>\n      <td>...</td>\n      <td>...</td>\n    </tr>\n    <tr>\n      <th>3733</th>\n      <td>2023-07-25</td>\n      <td>3231.521</td>\n      <td>2438.52069</td>\n      <td>225.9850</td>\n    </tr>\n    <tr>\n      <th>3734</th>\n      <td>2023-07-31</td>\n      <td>3291.040</td>\n      <td>2446.67688</td>\n      <td>226.1471</td>\n    </tr>\n    <tr>\n      <th>3735</th>\n      <td>2023-08-01</td>\n      <td>3290.949</td>\n      <td>2472.71590</td>\n      <td>226.2194</td>\n    </tr>\n    <tr>\n      <th>3736</th>\n      <td>2023-08-02</td>\n      <td>3261.690</td>\n      <td>2467.15055</td>\n      <td>226.3256</td>\n    </tr>\n    <tr>\n      <th>3737</th>\n      <td>2023-08-03</td>\n      <td>3280.463</td>\n      <td>2410.74911</td>\n      <td>226.3582</td>\n    </tr>\n  </tbody>\n</table>\n<p>3738 rows × 4 columns</p>\n</div>"
     },
     "execution_count": 4,
     "metadata": {},
     "output_type": "execute_result"
    }
   ],
   "source": [
    "# 把数据整合到一个dataframe里面\n",
    "import pandas as pd\n",
    "\n",
    "stock_index_df.rename(columns={'close': 'stock'}, inplace=True)\n",
    "commodity_index_df.rename(columns={'value': 'commodity'}, inplace=True)\n",
    "bond_index_df.rename(columns={'value': 'bond'}, inplace=True)\n",
    "merged_df = pd.merge(stock_index_df.loc[:, ['date', 'stock']], commodity_index_df)\n",
    "merged_df = pd.merge(merged_df, bond_index_df)\n",
    "merged_df"
   ],
   "metadata": {
    "collapsed": false
   }
  },
  {
   "cell_type": "markdown",
   "source": [
    "低相关性1：计算相关性并且画图"
   ],
   "metadata": {
    "collapsed": false
   }
  },
  {
   "cell_type": "code",
   "execution_count": 5,
   "outputs": [
    {
     "data": {
      "text/plain": "               stock  commodity      bond\ndate                                     \n2004-06-02 -0.007971   0.010570  0.001400\n2004-06-03 -0.015022  -0.017604 -0.002952\n2004-06-07 -0.017092   0.003556 -0.002822\n2004-06-08 -0.015378  -0.003653  0.002217\n2004-06-09 -0.017233  -0.007908 -0.004253\n...              ...        ...       ...\n2023-07-25  0.021288   0.012755  0.000063\n2023-07-31  0.018418   0.003345  0.000717\n2023-08-01 -0.000028   0.010643  0.000320\n2023-08-02 -0.008891  -0.002251  0.000469\n2023-08-03  0.005756  -0.022861  0.000144\n\n[3737 rows x 3 columns]",
      "text/html": "<div>\n<style scoped>\n    .dataframe tbody tr th:only-of-type {\n        vertical-align: middle;\n    }\n\n    .dataframe tbody tr th {\n        vertical-align: top;\n    }\n\n    .dataframe thead th {\n        text-align: right;\n    }\n</style>\n<table border=\"1\" class=\"dataframe\">\n  <thead>\n    <tr style=\"text-align: right;\">\n      <th></th>\n      <th>stock</th>\n      <th>commodity</th>\n      <th>bond</th>\n    </tr>\n    <tr>\n      <th>date</th>\n      <th></th>\n      <th></th>\n      <th></th>\n    </tr>\n  </thead>\n  <tbody>\n    <tr>\n      <th>2004-06-02</th>\n      <td>-0.007971</td>\n      <td>0.010570</td>\n      <td>0.001400</td>\n    </tr>\n    <tr>\n      <th>2004-06-03</th>\n      <td>-0.015022</td>\n      <td>-0.017604</td>\n      <td>-0.002952</td>\n    </tr>\n    <tr>\n      <th>2004-06-07</th>\n      <td>-0.017092</td>\n      <td>0.003556</td>\n      <td>-0.002822</td>\n    </tr>\n    <tr>\n      <th>2004-06-08</th>\n      <td>-0.015378</td>\n      <td>-0.003653</td>\n      <td>0.002217</td>\n    </tr>\n    <tr>\n      <th>2004-06-09</th>\n      <td>-0.017233</td>\n      <td>-0.007908</td>\n      <td>-0.004253</td>\n    </tr>\n    <tr>\n      <th>...</th>\n      <td>...</td>\n      <td>...</td>\n      <td>...</td>\n    </tr>\n    <tr>\n      <th>2023-07-25</th>\n      <td>0.021288</td>\n      <td>0.012755</td>\n      <td>0.000063</td>\n    </tr>\n    <tr>\n      <th>2023-07-31</th>\n      <td>0.018418</td>\n      <td>0.003345</td>\n      <td>0.000717</td>\n    </tr>\n    <tr>\n      <th>2023-08-01</th>\n      <td>-0.000028</td>\n      <td>0.010643</td>\n      <td>0.000320</td>\n    </tr>\n    <tr>\n      <th>2023-08-02</th>\n      <td>-0.008891</td>\n      <td>-0.002251</td>\n      <td>0.000469</td>\n    </tr>\n    <tr>\n      <th>2023-08-03</th>\n      <td>0.005756</td>\n      <td>-0.022861</td>\n      <td>0.000144</td>\n    </tr>\n  </tbody>\n</table>\n<p>3737 rows × 3 columns</p>\n</div>"
     },
     "execution_count": 5,
     "metadata": {},
     "output_type": "execute_result"
    }
   ],
   "source": [
    "# 计算收益率\n",
    "pct_df = merged_df.loc[:, ['stock', 'commodity', 'bond']].pct_change()\n",
    "pct_df = pd.concat([merged_df.loc[:, ['date']], pct_df], axis=1)\n",
    "pct_df.dropna(inplace=True)\n",
    "pct_df['date'] = pd.to_datetime(pct_df['date'])\n",
    "pct_df.set_index('date', inplace=True)\n",
    "pct_df"
   ],
   "metadata": {
    "collapsed": false
   }
  },
  {
   "cell_type": "code",
   "execution_count": 6,
   "outputs": [
    {
     "data": {
      "text/plain": "                         stock  commodity      bond\ndate                                               \n2005-09-05 stock      1.000000   0.132050  0.054052\n           commodity  0.132050   1.000000  0.112058\n           bond       0.054052   0.112058  1.000000\n2005-09-06 stock      1.000000   0.134665  0.055381\n           commodity  0.134665   1.000000  0.109532\n...                        ...        ...       ...\n2023-08-02 commodity  0.441362   1.000000 -0.112434\n           bond      -0.116695  -0.112434  1.000000\n2023-08-03 stock      1.000000   0.442400 -0.121976\n           commodity  0.442400   1.000000 -0.103825\n           bond      -0.121976  -0.103825  1.000000\n\n[10464 rows x 3 columns]",
      "text/html": "<div>\n<style scoped>\n    .dataframe tbody tr th:only-of-type {\n        vertical-align: middle;\n    }\n\n    .dataframe tbody tr th {\n        vertical-align: top;\n    }\n\n    .dataframe thead th {\n        text-align: right;\n    }\n</style>\n<table border=\"1\" class=\"dataframe\">\n  <thead>\n    <tr style=\"text-align: right;\">\n      <th></th>\n      <th></th>\n      <th>stock</th>\n      <th>commodity</th>\n      <th>bond</th>\n    </tr>\n    <tr>\n      <th>date</th>\n      <th></th>\n      <th></th>\n      <th></th>\n      <th></th>\n    </tr>\n  </thead>\n  <tbody>\n    <tr>\n      <th rowspan=\"3\" valign=\"top\">2005-09-05</th>\n      <th>stock</th>\n      <td>1.000000</td>\n      <td>0.132050</td>\n      <td>0.054052</td>\n    </tr>\n    <tr>\n      <th>commodity</th>\n      <td>0.132050</td>\n      <td>1.000000</td>\n      <td>0.112058</td>\n    </tr>\n    <tr>\n      <th>bond</th>\n      <td>0.054052</td>\n      <td>0.112058</td>\n      <td>1.000000</td>\n    </tr>\n    <tr>\n      <th rowspan=\"2\" valign=\"top\">2005-09-06</th>\n      <th>stock</th>\n      <td>1.000000</td>\n      <td>0.134665</td>\n      <td>0.055381</td>\n    </tr>\n    <tr>\n      <th>commodity</th>\n      <td>0.134665</td>\n      <td>1.000000</td>\n      <td>0.109532</td>\n    </tr>\n    <tr>\n      <th>...</th>\n      <th>...</th>\n      <td>...</td>\n      <td>...</td>\n      <td>...</td>\n    </tr>\n    <tr>\n      <th rowspan=\"2\" valign=\"top\">2023-08-02</th>\n      <th>commodity</th>\n      <td>0.441362</td>\n      <td>1.000000</td>\n      <td>-0.112434</td>\n    </tr>\n    <tr>\n      <th>bond</th>\n      <td>-0.116695</td>\n      <td>-0.112434</td>\n      <td>1.000000</td>\n    </tr>\n    <tr>\n      <th rowspan=\"3\" valign=\"top\">2023-08-03</th>\n      <th>stock</th>\n      <td>1.000000</td>\n      <td>0.442400</td>\n      <td>-0.121976</td>\n    </tr>\n    <tr>\n      <th>commodity</th>\n      <td>0.442400</td>\n      <td>1.000000</td>\n      <td>-0.103825</td>\n    </tr>\n    <tr>\n      <th>bond</th>\n      <td>-0.121976</td>\n      <td>-0.103825</td>\n      <td>1.000000</td>\n    </tr>\n  </tbody>\n</table>\n<p>10464 rows × 3 columns</p>\n</div>"
     },
     "execution_count": 6,
     "metadata": {},
     "output_type": "execute_result"
    }
   ],
   "source": [
    "# 计算250日相关系数\n",
    "lookback_period = 250\n",
    "correlation_df = pct_df.rolling(lookback_period).corr()\n",
    "correlation_df.dropna(inplace=True)\n",
    "correlation_df"
   ],
   "metadata": {
    "collapsed": false
   }
  },
  {
   "cell_type": "code",
   "execution_count": 7,
   "outputs": [
    {
     "name": "stderr",
     "output_type": "stream",
     "text": [
      "C:\\Users\\sersmile\\AppData\\Local\\Temp\\ipykernel_18668\\3142223450.py:3: SettingWithCopyWarning: \n",
      "A value is trying to be set on a copy of a slice from a DataFrame\n",
      "\n",
      "See the caveats in the documentation: https://pandas.pydata.org/pandas-docs/stable/user_guide/indexing.html#returning-a-view-versus-a-copy\n",
      "  commodity_correlation_df.drop('level_1', axis=1, inplace=True)\n",
      "C:\\Users\\sersmile\\AppData\\Local\\Temp\\ipykernel_18668\\3142223450.py:4: SettingWithCopyWarning: \n",
      "A value is trying to be set on a copy of a slice from a DataFrame\n",
      "\n",
      "See the caveats in the documentation: https://pandas.pydata.org/pandas-docs/stable/user_guide/indexing.html#returning-a-view-versus-a-copy\n",
      "  commodity_correlation_df.drop('commodity', axis=1, inplace=True)\n",
      "C:\\Users\\sersmile\\AppData\\Local\\Temp\\ipykernel_18668\\3142223450.py:5: SettingWithCopyWarning: \n",
      "A value is trying to be set on a copy of a slice from a DataFrame\n",
      "\n",
      "See the caveats in the documentation: https://pandas.pydata.org/pandas-docs/stable/user_guide/indexing.html#returning-a-view-versus-a-copy\n",
      "  commodity_correlation_df.rename(columns={'stock': '与上证指数相关系数', 'bond': '与中债新指数相关系数'}, inplace=True)\n"
     ]
    },
    {
     "data": {
      "text/plain": "           date  与上证指数相关系数  与中债新指数相关系数\n0    2005-09-05   0.132050    0.112058\n1    2005-09-06   0.134665    0.109532\n2    2005-09-07   0.125999    0.095184\n3    2005-09-08   0.127947    0.097975\n4    2005-09-12   0.127375    0.098733\n...         ...        ...         ...\n3483 2023-07-25   0.451026   -0.111489\n3484 2023-07-31   0.444646   -0.112591\n3485 2023-08-01   0.444008   -0.111501\n3486 2023-08-02   0.441362   -0.112434\n3487 2023-08-03   0.442400   -0.103825\n\n[3488 rows x 3 columns]",
      "text/html": "<div>\n<style scoped>\n    .dataframe tbody tr th:only-of-type {\n        vertical-align: middle;\n    }\n\n    .dataframe tbody tr th {\n        vertical-align: top;\n    }\n\n    .dataframe thead th {\n        text-align: right;\n    }\n</style>\n<table border=\"1\" class=\"dataframe\">\n  <thead>\n    <tr style=\"text-align: right;\">\n      <th></th>\n      <th>date</th>\n      <th>与上证指数相关系数</th>\n      <th>与中债新指数相关系数</th>\n    </tr>\n  </thead>\n  <tbody>\n    <tr>\n      <th>0</th>\n      <td>2005-09-05</td>\n      <td>0.132050</td>\n      <td>0.112058</td>\n    </tr>\n    <tr>\n      <th>1</th>\n      <td>2005-09-06</td>\n      <td>0.134665</td>\n      <td>0.109532</td>\n    </tr>\n    <tr>\n      <th>2</th>\n      <td>2005-09-07</td>\n      <td>0.125999</td>\n      <td>0.095184</td>\n    </tr>\n    <tr>\n      <th>3</th>\n      <td>2005-09-08</td>\n      <td>0.127947</td>\n      <td>0.097975</td>\n    </tr>\n    <tr>\n      <th>4</th>\n      <td>2005-09-12</td>\n      <td>0.127375</td>\n      <td>0.098733</td>\n    </tr>\n    <tr>\n      <th>...</th>\n      <td>...</td>\n      <td>...</td>\n      <td>...</td>\n    </tr>\n    <tr>\n      <th>3483</th>\n      <td>2023-07-25</td>\n      <td>0.451026</td>\n      <td>-0.111489</td>\n    </tr>\n    <tr>\n      <th>3484</th>\n      <td>2023-07-31</td>\n      <td>0.444646</td>\n      <td>-0.112591</td>\n    </tr>\n    <tr>\n      <th>3485</th>\n      <td>2023-08-01</td>\n      <td>0.444008</td>\n      <td>-0.111501</td>\n    </tr>\n    <tr>\n      <th>3486</th>\n      <td>2023-08-02</td>\n      <td>0.441362</td>\n      <td>-0.112434</td>\n    </tr>\n    <tr>\n      <th>3487</th>\n      <td>2023-08-03</td>\n      <td>0.442400</td>\n      <td>-0.103825</td>\n    </tr>\n  </tbody>\n</table>\n<p>3488 rows × 3 columns</p>\n</div>"
     },
     "execution_count": 7,
     "metadata": {},
     "output_type": "execute_result"
    }
   ],
   "source": [
    "commodity_correlation_df = correlation_df.iloc[range(1, len(correlation_df), 3)]\n",
    "commodity_correlation_df.reset_index(inplace=True)\n",
    "commodity_correlation_df.drop('level_1', axis=1, inplace=True)\n",
    "commodity_correlation_df.drop('commodity', axis=1, inplace=True)\n",
    "commodity_correlation_df.rename(columns={'stock': '与上证指数相关系数', 'bond': '与中债新指数相关系数'}, inplace=True)\n",
    "commodity_correlation_df"
   ],
   "metadata": {
    "collapsed": false
   }
  },
  {
   "cell_type": "code",
   "execution_count": 8,
   "outputs": [
    {
     "data": {
      "text/plain": "(-1.0, 1.0)"
     },
     "execution_count": 8,
     "metadata": {},
     "output_type": "execute_result"
    },
    {
     "data": {
      "text/plain": "<Figure size 1200x400 with 1 Axes>",
      "image/png": "[encoded data removed]"
     },
     "metadata": {},
     "output_type": "display_data"
    }
   ],
   "source": [
    "import matplotlib.pyplot as plt\n",
    "import seaborn as sns\n",
    "\n",
    "plt.rcParams['font.family'] = 'SimSun'\n",
    "plt.rcParams['axes.unicode_minus'] = False\n",
    "\n",
    "ax = sns.lineplot(data=commodity_correlation_df, x='date', y='与上证指数相关系数', color='#d20000')\n",
    "sns.lineplot(data=commodity_correlation_df, x='date', y='与中债新指数相关系数', color='#8c8c8c')\n",
    "ax.legend(['与上证指数相关系数', '与中债新指数相关系数'])\n",
    "sns.move_legend(ax, 'upper left', title='相关系数')\n",
    "sns.set_style('white')\n",
    "sns.despine()\n",
    "ax.figure.set_size_inches(12, 4)\n",
    "ax.set_xlabel('日期')\n",
    "ax.set_ylabel('相关系数')\n",
    "ax.set_ylim(-1, 1)"
   ],
   "metadata": {
    "collapsed": false
   }
  },
  {
   "cell_type": "markdown",
   "source": [
    "低相关性2：投资组合中采用商品期货指数能提高夏普"
   ],
   "metadata": {
    "collapsed": false
   }
  },
  {
   "cell_type": "code",
   "execution_count": 9,
   "outputs": [],
   "source": [
    "\"\"\"\n",
    "分别计算年化收益率，年华波动率与年化夏普比\n",
    "年华收益率：\n",
    "(1+r)^{n} = P_{t} / P_{0}\n",
    "r = (P_{t} / P_{0})^{1 / n} - 1\n",
    "\"\"\"\n",
    "merged_df['date'] = pd.to_datetime(merged_df['date'])\n",
    "price_2005 = merged_df[merged_df['date'].dt.year == 2005].iloc[0]\n",
    "price_2022 = merged_df[merged_df['date'].dt.year == 2022].iloc[-1]"
   ],
   "metadata": {
    "collapsed": false
   }
  },
  {
   "cell_type": "code",
   "execution_count": 10,
   "outputs": [
    {
     "data": {
      "text/plain": "date         2005-01-04 00:00:00\nstock                   1242.774\ncommodity                 960.79\nbond                    105.9273\nName: 119, dtype: object"
     },
     "execution_count": 10,
     "metadata": {},
     "output_type": "execute_result"
    }
   ],
   "source": [
    "price_2005"
   ],
   "metadata": {
    "collapsed": false
   }
  },
  {
   "cell_type": "code",
   "execution_count": 11,
   "outputs": [
    {
     "data": {
      "text/plain": "date         2022-12-30 00:00:00\nstock                   3089.258\ncommodity             2380.65809\nbond                    219.4264\nName: 3625, dtype: object"
     },
     "execution_count": 11,
     "metadata": {},
     "output_type": "execute_result"
    }
   ],
   "source": [
    "price_2022"
   ],
   "metadata": {
    "collapsed": false
   }
  },
  {
   "cell_type": "code",
   "execution_count": 12,
   "outputs": [
    {
     "data": {
      "text/plain": "stock        0.051889\ncommodity    0.051702\nbond         0.041289\ndtype: object"
     },
     "execution_count": 12,
     "metadata": {},
     "output_type": "execute_result"
    }
   ],
   "source": [
    "yearly_yield = (price_2022[['stock', 'commodity', 'bond']] / price_2005[['stock', 'commodity', 'bond']]) ** (1 / 18) - 1\n",
    "yearly_yield"
   ],
   "metadata": {
    "collapsed": false
   }
  },
  {
   "cell_type": "code",
   "execution_count": 13,
   "outputs": [
    {
     "data": {
      "text/plain": "stock        0.076963\ncommodity    0.047010\nbond         0.003879\ndtype: float64"
     },
     "execution_count": 13,
     "metadata": {},
     "output_type": "execute_result"
    }
   ],
   "source": [
    "\"\"\"\n",
    "接下来计算年化波动率\n",
    "年化波动率=std(收益率序列) * ( (天数/252) ** (1 / 2) )\n",
    "\"\"\"\n",
    "import numpy as np\n",
    "\n",
    "yearly_volatility = pct_df.iloc[price_2005.name: price_2022.name].std() * np.sqrt(18)\n",
    "yearly_volatility"
   ],
   "metadata": {
    "collapsed": false
   }
  },
  {
   "cell_type": "code",
   "execution_count": 14,
   "outputs": [
    {
     "data": {
      "text/plain": "stock        0.284414\ncommodity    0.461649\nbond         2.910191\ndtype: object"
     },
     "execution_count": 14,
     "metadata": {},
     "output_type": "execute_result"
    }
   ],
   "source": [
    "\"\"\"\n",
    "接下来计算sharpe比率\n",
    "sharpe = (年化收益率 - 年化无风险利率) / 策略年化波动率\n",
    "\"\"\"\n",
    "sharpe = (yearly_yield - 0.03) / yearly_volatility\n",
    "sharpe"
   ],
   "metadata": {
    "collapsed": false
   }
  },
  {
   "cell_type": "code",
   "execution_count": 15,
   "outputs": [
    {
     "data": {
      "text/plain": "           date     stock   commodity      bond  stock-bond  \\\n0    2004-06-01  1579.658  1000.00000  104.5886   989.63024   \n1    2004-06-02  1567.067  1010.57000  104.7350   982.13420   \n2    2004-06-03  1543.527   992.78000  104.4258   967.88652   \n3    2004-06-07  1517.145   996.31000  104.1311   951.93944   \n4    2004-06-08  1493.814   992.67000  104.3620   938.03320   \n...         ...       ...         ...       ...         ...   \n3733 2023-07-25  3231.521  2438.52069  225.9850  2029.30660   \n3734 2023-07-31  3291.040  2446.67688  226.1471  2065.08284   \n3735 2023-08-01  3290.949  2472.71590  226.2194  2065.05716   \n3736 2023-08-02  3261.690  2467.15055  226.3256  2047.54424   \n3737 2023-08-03  3280.463  2410.74911  226.3582  2058.82108   \n\n      commodity-stock-bond  \n0               990.667216  \n1               984.977780  \n2               970.375868  \n3               956.376496  \n4               943.496880  \n...                    ...  \n3733           2070.228009  \n3734           2103.242244  \n3735           2105.823034  \n3736           2089.504871  \n3737           2094.013883  \n\n[3738 rows x 6 columns]",
      "text/html": "<div>\n<style scoped>\n    .dataframe tbody tr th:only-of-type {\n        vertical-align: middle;\n    }\n\n    .dataframe tbody tr th {\n        vertical-align: top;\n    }\n\n    .dataframe thead th {\n        text-align: right;\n    }\n</style>\n<table border=\"1\" class=\"dataframe\">\n  <thead>\n    <tr style=\"text-align: right;\">\n      <th></th>\n      <th>date</th>\n      <th>stock</th>\n      <th>commodity</th>\n      <th>bond</th>\n      <th>stock-bond</th>\n      <th>commodity-stock-bond</th>\n    </tr>\n  </thead>\n  <tbody>\n    <tr>\n      <th>0</th>\n      <td>2004-06-01</td>\n      <td>1579.658</td>\n      <td>1000.00000</td>\n      <td>104.5886</td>\n      <td>989.63024</td>\n      <td>990.667216</td>\n    </tr>\n    <tr>\n      <th>1</th>\n      <td>2004-06-02</td>\n      <td>1567.067</td>\n      <td>1010.57000</td>\n      <td>104.7350</td>\n      <td>982.13420</td>\n      <td>984.977780</td>\n    </tr>\n    <tr>\n      <th>2</th>\n      <td>2004-06-03</td>\n      <td>1543.527</td>\n      <td>992.78000</td>\n      <td>104.4258</td>\n      <td>967.88652</td>\n      <td>970.375868</td>\n    </tr>\n    <tr>\n      <th>3</th>\n      <td>2004-06-07</td>\n      <td>1517.145</td>\n      <td>996.31000</td>\n      <td>104.1311</td>\n      <td>951.93944</td>\n      <td>956.376496</td>\n    </tr>\n    <tr>\n      <th>4</th>\n      <td>2004-06-08</td>\n      <td>1493.814</td>\n      <td>992.67000</td>\n      <td>104.3620</td>\n      <td>938.03320</td>\n      <td>943.496880</td>\n    </tr>\n    <tr>\n      <th>...</th>\n      <td>...</td>\n      <td>...</td>\n      <td>...</td>\n      <td>...</td>\n      <td>...</td>\n      <td>...</td>\n    </tr>\n    <tr>\n      <th>3733</th>\n      <td>2023-07-25</td>\n      <td>3231.521</td>\n      <td>2438.52069</td>\n      <td>225.9850</td>\n      <td>2029.30660</td>\n      <td>2070.228009</td>\n    </tr>\n    <tr>\n      <th>3734</th>\n      <td>2023-07-31</td>\n      <td>3291.040</td>\n      <td>2446.67688</td>\n      <td>226.1471</td>\n      <td>2065.08284</td>\n      <td>2103.242244</td>\n    </tr>\n    <tr>\n      <th>3735</th>\n      <td>2023-08-01</td>\n      <td>3290.949</td>\n      <td>2472.71590</td>\n      <td>226.2194</td>\n      <td>2065.05716</td>\n      <td>2105.823034</td>\n    </tr>\n    <tr>\n      <th>3736</th>\n      <td>2023-08-02</td>\n      <td>3261.690</td>\n      <td>2467.15055</td>\n      <td>226.3256</td>\n      <td>2047.54424</td>\n      <td>2089.504871</td>\n    </tr>\n    <tr>\n      <th>3737</th>\n      <td>2023-08-03</td>\n      <td>3280.463</td>\n      <td>2410.74911</td>\n      <td>226.3582</td>\n      <td>2058.82108</td>\n      <td>2094.013883</td>\n    </tr>\n  </tbody>\n</table>\n<p>3738 rows × 6 columns</p>\n</div>"
     },
     "execution_count": 15,
     "metadata": {},
     "output_type": "execute_result"
    }
   ],
   "source": [
    "\"\"\"\n",
    "验证投资组合的风险分散能力\n",
    "60/40股债组合\n",
    "10%商品+90%股债组合\n",
    "\"\"\"\n",
    "merged_df['stock-bond'] = 0.6 * merged_df['stock'] + 0.4 * merged_df['bond']\n",
    "merged_df['commodity-stock-bond'] = 0.1 * merged_df['commodity'] + 0.9 * merged_df['stock-bond']\n",
    "merged_df"
   ],
   "metadata": {
    "collapsed": false
   }
  },
  {
   "cell_type": "code",
   "execution_count": 16,
   "outputs": [
    {
     "data": {
      "text/plain": "               stock  commodity      bond  stock-bond  commodity-stock-bond\ndate                                                                       \n2004-06-02 -0.007971   0.010570  0.001400   -0.007575             -0.005743\n2004-06-03 -0.015022  -0.017604 -0.002952   -0.014507             -0.014825\n2004-06-07 -0.017092   0.003556 -0.002822   -0.016476             -0.014427\n2004-06-08 -0.015378  -0.003653  0.002217   -0.014608             -0.013467\n2004-06-09 -0.017233  -0.007908 -0.004253   -0.016655             -0.015735\n...              ...        ...       ...         ...                   ...\n2023-07-25  0.021288   0.012755  0.000063    0.020324              0.019426\n2023-07-31  0.018418   0.003345  0.000717    0.017630              0.015947\n2023-08-01 -0.000028   0.010643  0.000320   -0.000012              0.001227\n2023-08-02 -0.008891  -0.002251  0.000469   -0.008481             -0.007749\n2023-08-03  0.005756  -0.022861  0.000144    0.005507              0.002158\n\n[3737 rows x 5 columns]",
      "text/html": "<div>\n<style scoped>\n    .dataframe tbody tr th:only-of-type {\n        vertical-align: middle;\n    }\n\n    .dataframe tbody tr th {\n        vertical-align: top;\n    }\n\n    .dataframe thead th {\n        text-align: right;\n    }\n</style>\n<table border=\"1\" class=\"dataframe\">\n  <thead>\n    <tr style=\"text-align: right;\">\n      <th></th>\n      <th>stock</th>\n      <th>commodity</th>\n      <th>bond</th>\n      <th>stock-bond</th>\n      <th>commodity-stock-bond</th>\n    </tr>\n    <tr>\n      <th>date</th>\n      <th></th>\n      <th></th>\n      <th></th>\n      <th></th>\n      <th></th>\n    </tr>\n  </thead>\n  <tbody>\n    <tr>\n      <th>2004-06-02</th>\n      <td>-0.007971</td>\n      <td>0.010570</td>\n      <td>0.001400</td>\n      <td>-0.007575</td>\n      <td>-0.005743</td>\n    </tr>\n    <tr>\n      <th>2004-06-03</th>\n      <td>-0.015022</td>\n      <td>-0.017604</td>\n      <td>-0.002952</td>\n      <td>-0.014507</td>\n      <td>-0.014825</td>\n    </tr>\n    <tr>\n      <th>2004-06-07</th>\n      <td>-0.017092</td>\n      <td>0.003556</td>\n      <td>-0.002822</td>\n      <td>-0.016476</td>\n      <td>-0.014427</td>\n    </tr>\n    <tr>\n      <th>2004-06-08</th>\n      <td>-0.015378</td>\n      <td>-0.003653</td>\n      <td>0.002217</td>\n      <td>-0.014608</td>\n      <td>-0.013467</td>\n    </tr>\n    <tr>\n      <th>2004-06-09</th>\n      <td>-0.017233</td>\n      <td>-0.007908</td>\n      <td>-0.004253</td>\n      <td>-0.016655</td>\n      <td>-0.015735</td>\n    </tr>\n    <tr>\n      <th>...</th>\n      <td>...</td>\n      <td>...</td>\n      <td>...</td>\n      <td>...</td>\n      <td>...</td>\n    </tr>\n    <tr>\n      <th>2023-07-25</th>\n      <td>0.021288</td>\n      <td>0.012755</td>\n      <td>0.000063</td>\n      <td>0.020324</td>\n      <td>0.019426</td>\n    </tr>\n    <tr>\n      <th>2023-07-31</th>\n      <td>0.018418</td>\n      <td>0.003345</td>\n      <td>0.000717</td>\n      <td>0.017630</td>\n      <td>0.015947</td>\n    </tr>\n    <tr>\n      <th>2023-08-01</th>\n      <td>-0.000028</td>\n      <td>0.010643</td>\n      <td>0.000320</td>\n      <td>-0.000012</td>\n      <td>0.001227</td>\n    </tr>\n    <tr>\n      <th>2023-08-02</th>\n      <td>-0.008891</td>\n      <td>-0.002251</td>\n      <td>0.000469</td>\n      <td>-0.008481</td>\n      <td>-0.007749</td>\n    </tr>\n    <tr>\n      <th>2023-08-03</th>\n      <td>0.005756</td>\n      <td>-0.022861</td>\n      <td>0.000144</td>\n      <td>0.005507</td>\n      <td>0.002158</td>\n    </tr>\n  </tbody>\n</table>\n<p>3737 rows × 5 columns</p>\n</div>"
     },
     "execution_count": 16,
     "metadata": {},
     "output_type": "execute_result"
    }
   ],
   "source": [
    "# 计算收益率\n",
    "pct_df_new = merged_df.loc[:, ['stock', 'commodity', 'bond', 'stock-bond', 'commodity-stock-bond']].pct_change()\n",
    "pct_df_new = pd.concat([merged_df.loc[:, ['date']], pct_df_new], axis=1)\n",
    "pct_df_new.dropna(inplace=True)\n",
    "pct_df_new['date'] = pd.to_datetime(pct_df_new['date'])\n",
    "pct_df_new.set_index('date', inplace=True)\n",
    "pct_df_new"
   ],
   "metadata": {
    "collapsed": false
   }
  },
  {
   "cell_type": "code",
   "execution_count": 17,
   "outputs": [],
   "source": [
    "price_2005 = merged_df[merged_df['date'].dt.year == 2005].iloc[0]\n",
    "price_2022 = merged_df[merged_df['date'].dt.year == 2022].iloc[-1]"
   ],
   "metadata": {
    "collapsed": false
   }
  },
  {
   "cell_type": "code",
   "execution_count": 18,
   "outputs": [
    {
     "data": {
      "text/plain": "date                    2005-01-04 00:00:00\nstock                              1242.774\ncommodity                            960.79\nbond                               105.9273\nstock-bond                        788.03532\ncommodity-stock-bond             805.310788\nName: 119, dtype: object"
     },
     "execution_count": 18,
     "metadata": {},
     "output_type": "execute_result"
    }
   ],
   "source": [
    "price_2005"
   ],
   "metadata": {
    "collapsed": false
   }
  },
  {
   "cell_type": "code",
   "execution_count": 19,
   "outputs": [
    {
     "data": {
      "text/plain": "date                    2022-12-30 00:00:00\nstock                              3089.258\ncommodity                        2380.65809\nbond                               219.4264\nstock-bond                       1941.32536\ncommodity-stock-bond            1985.258633\nName: 3625, dtype: object"
     },
     "execution_count": 19,
     "metadata": {},
     "output_type": "execute_result"
    }
   ],
   "source": [
    "price_2022"
   ],
   "metadata": {
    "collapsed": false
   }
  },
  {
   "cell_type": "code",
   "execution_count": 20,
   "outputs": [
    {
     "data": {
      "text/plain": "stock                   0.051889\ncommodity               0.051702\nbond                    0.041289\nstock-bond              0.051364\ncommodity-stock-bond    0.051404\ndtype: object"
     },
     "execution_count": 20,
     "metadata": {},
     "output_type": "execute_result"
    }
   ],
   "source": [
    "yearly_yield_new = (price_2022[['stock', 'commodity', 'bond', 'stock-bond', 'commodity-stock-bond']] / price_2005[['stock', 'commodity', 'bond', 'stock-bond', 'commodity-stock-bond']]) ** (1 / 18) - 1\n",
    "yearly_yield_new"
   ],
   "metadata": {
    "collapsed": false
   }
  },
  {
   "cell_type": "code",
   "execution_count": 21,
   "outputs": [
    {
     "data": {
      "text/plain": "stock                   0.076963\ncommodity               0.047010\nbond                    0.003879\nstock-bond              0.074371\ncommodity-stock-bond    0.070201\ndtype: float64"
     },
     "execution_count": 21,
     "metadata": {},
     "output_type": "execute_result"
    }
   ],
   "source": [
    "import numpy as np\n",
    "\n",
    "yearly_volatility_new = pct_df_new.iloc[price_2005.name: price_2022.name].std() * np.sqrt(18)\n",
    "yearly_volatility_new"
   ],
   "metadata": {
    "collapsed": false
   }
  },
  {
   "cell_type": "code",
   "execution_count": 22,
   "outputs": [
    {
     "data": {
      "text/plain": "stock                   0.284414\ncommodity               0.461649\nbond                    2.910191\nstock-bond              0.287256\ncommodity-stock-bond    0.304897\ndtype: object"
     },
     "execution_count": 22,
     "metadata": {},
     "output_type": "execute_result"
    }
   ],
   "source": [
    "sharpe = (yearly_yield_new - 0.03) / yearly_volatility_new\n",
    "sharpe"
   ],
   "metadata": {
    "collapsed": false
   }
  },
  {
   "cell_type": "markdown",
   "source": [
    "最后的结果展示如下：\n",
    "\n",
    "![投资组合结果展示](投资组合结果.png)\n",
    "\n",
    "从上图可以看出，商品组合的加入增加了股债组合夏普比率，这是由于商品组合具有低相关性的特征"
   ],
   "metadata": {
    "collapsed": false
   }
  },
  {
   "cell_type": "markdown",
   "source": [
    "### 抗通胀性"
   ],
   "metadata": {
    "collapsed": false
   }
  },
  {
   "cell_type": "code",
   "execution_count": 42,
   "outputs": [],
   "source": [
    "\"\"\"\n",
    "将资产收益率对时间滞后项做线性回归，看R2的大小\n",
    "资产池：农产品、能化、贵金属、有色金属、黑色、上证50、沪深300、中证500、中证1000、国债、信用债、金融债\n",
    "\"\"\"\n",
    "# 先获取资产池内的所有数据，整合到一个dataframe里\n",
    "NHAI_data = ak.futures_return_index_nh(symbol='NHAI')  # 南华农产品指数\n",
    "NHECI_data = ak.futures_return_index_nh(symbol='NHECI')  # 南华能化指数\n",
    "NHPMI_data = ak.futures_return_index_nh(symbol='NHPMI')  # 南华贵金属指数\n",
    "# NH0070_data = ak.futures_return_index_nh(symbol='NH0070')  # 南华有色金属指数\n",
    "# NH0800_data = ak.futures_return_index_nh(symbol='NH0080')  # 南华黑色指数\n",
    "SZ50_data = ak.stock_zh_index_daily(symbol='sh000016')  # 上证50\n",
    "HS300_data = ak.stock_zh_index_daily(symbol='sh000300')  # 沪深300\n",
    "ZZ500_data = ak.stock_zh_index_daily(symbol='sz399905')  # 中证500\n",
    "ZZ1000_data = ak.stock_zh_index_daily(symbol='sh000852')  # 中证1000\n",
    "# Bond_10 = ak.futures_zh_daily_sina(symbol='T9999.CCFX')  # 十年期国债主力合约\n",
    "# Bond_5 = ak.futures_zh_daily_sina(symbol='TF9999.CCFX')  # 五年期国债主力合约\n",
    "# Bond_2 = ak.futures_zh_daily_sina(symbol='TS9999.CCFX')  # 两年期国债主力合约"
   ],
   "metadata": {
    "collapsed": false
   }
  },
  {
   "cell_type": "code",
   "execution_count": 50,
   "outputs": [
    {
     "data": {
      "text/plain": "            date         农产品          能化         贵金属\n0     2012-09-06   941.30000  1255.76000  1000.00000\n1     2012-09-07   938.74000  1266.98000   983.26000\n2     2012-09-10   945.00000  1303.32000  1020.41000\n3     2012-09-11   939.84000  1311.14000  1017.93000\n4     2012-09-12   942.85000  1321.74000  1017.70000\n...          ...         ...         ...         ...\n2648  2023-07-31  1151.73973  1869.48090   769.49829\n2649  2023-08-01  1157.63579  1897.70876   774.96446\n2650  2023-08-02  1162.04495  1898.09861   772.16719\n2651  2023-08-03  1150.86147  1843.93129   762.52940\n2652  2023-08-04  1160.83031  1864.95753   761.02192\n\n[2653 rows x 4 columns]",
      "text/html": "<div>\n<style scoped>\n    .dataframe tbody tr th:only-of-type {\n        vertical-align: middle;\n    }\n\n    .dataframe tbody tr th {\n        vertical-align: top;\n    }\n\n    .dataframe thead th {\n        text-align: right;\n    }\n</style>\n<table border=\"1\" class=\"dataframe\">\n  <thead>\n    <tr style=\"text-align: right;\">\n      <th></th>\n      <th>date</th>\n      <th>农产品</th>\n      <th>能化</th>\n      <th>贵金属</th>\n    </tr>\n  </thead>\n  <tbody>\n    <tr>\n      <th>0</th>\n      <td>2012-09-06</td>\n      <td>941.30000</td>\n      <td>1255.76000</td>\n      <td>1000.00000</td>\n    </tr>\n    <tr>\n      <th>1</th>\n      <td>2012-09-07</td>\n      <td>938.74000</td>\n      <td>1266.98000</td>\n      <td>983.26000</td>\n    </tr>\n    <tr>\n      <th>2</th>\n      <td>2012-09-10</td>\n      <td>945.00000</td>\n      <td>1303.32000</td>\n      <td>1020.41000</td>\n    </tr>\n    <tr>\n      <th>3</th>\n      <td>2012-09-11</td>\n      <td>939.84000</td>\n      <td>1311.14000</td>\n      <td>1017.93000</td>\n    </tr>\n    <tr>\n      <th>4</th>\n      <td>2012-09-12</td>\n      <td>942.85000</td>\n      <td>1321.74000</td>\n      <td>1017.70000</td>\n    </tr>\n    <tr>\n      <th>...</th>\n      <td>...</td>\n      <td>...</td>\n      <td>...</td>\n      <td>...</td>\n    </tr>\n    <tr>\n      <th>2648</th>\n      <td>2023-07-31</td>\n      <td>1151.73973</td>\n      <td>1869.48090</td>\n      <td>769.49829</td>\n    </tr>\n    <tr>\n      <th>2649</th>\n      <td>2023-08-01</td>\n      <td>1157.63579</td>\n      <td>1897.70876</td>\n      <td>774.96446</td>\n    </tr>\n    <tr>\n      <th>2650</th>\n      <td>2023-08-02</td>\n      <td>1162.04495</td>\n      <td>1898.09861</td>\n      <td>772.16719</td>\n    </tr>\n    <tr>\n      <th>2651</th>\n      <td>2023-08-03</td>\n      <td>1150.86147</td>\n      <td>1843.93129</td>\n      <td>762.52940</td>\n    </tr>\n    <tr>\n      <th>2652</th>\n      <td>2023-08-04</td>\n      <td>1160.83031</td>\n      <td>1864.95753</td>\n      <td>761.02192</td>\n    </tr>\n  </tbody>\n</table>\n<p>2653 rows × 4 columns</p>\n</div>"
     },
     "execution_count": 50,
     "metadata": {},
     "output_type": "execute_result"
    }
   ],
   "source": [
    "NHAI_data.rename(columns={'value': '农产品'}, inplace=True)\n",
    "NHECI_data.rename(columns={'value': '能化'}, inplace=True)\n",
    "NHPMI_data.rename(columns={'value': '贵金属'}, inplace=True)\n",
    "NH_data = pd.merge(NHAI_data, NHECI_data)\n",
    "NH_data = pd.merge(NH_data, NHPMI_data)\n",
    "NH_data"
   ],
   "metadata": {
    "collapsed": false
   }
  },
  {
   "cell_type": "code",
   "execution_count": 51,
   "outputs": [
    {
     "name": "stderr",
     "output_type": "stream",
     "text": [
      "C:\\Users\\sersmile\\AppData\\Local\\Temp\\ipykernel_18668\\1849258902.py:2: SettingWithCopyWarning: \n",
      "A value is trying to be set on a copy of a slice from a DataFrame\n",
      "\n",
      "See the caveats in the documentation: https://pandas.pydata.org/pandas-docs/stable/user_guide/indexing.html#returning-a-view-versus-a-copy\n",
      "  SZ_50_part.rename(columns={'close': '上证50'}, inplace=True)\n",
      "C:\\Users\\sersmile\\AppData\\Local\\Temp\\ipykernel_18668\\1849258902.py:4: SettingWithCopyWarning: \n",
      "A value is trying to be set on a copy of a slice from a DataFrame\n",
      "\n",
      "See the caveats in the documentation: https://pandas.pydata.org/pandas-docs/stable/user_guide/indexing.html#returning-a-view-versus-a-copy\n",
      "  HS300_part.rename(columns={'close': '沪深300'}, inplace=True)\n",
      "C:\\Users\\sersmile\\AppData\\Local\\Temp\\ipykernel_18668\\1849258902.py:6: SettingWithCopyWarning: \n",
      "A value is trying to be set on a copy of a slice from a DataFrame\n",
      "\n",
      "See the caveats in the documentation: https://pandas.pydata.org/pandas-docs/stable/user_guide/indexing.html#returning-a-view-versus-a-copy\n",
      "  ZZ500_part.rename(columns={'close': '中证500'}, inplace=True)\n",
      "C:\\Users\\sersmile\\AppData\\Local\\Temp\\ipykernel_18668\\1849258902.py:8: SettingWithCopyWarning: \n",
      "A value is trying to be set on a copy of a slice from a DataFrame\n",
      "\n",
      "See the caveats in the documentation: https://pandas.pydata.org/pandas-docs/stable/user_guide/indexing.html#returning-a-view-versus-a-copy\n",
      "  ZZ1000_part.rename(columns={'close': '中证1000'}, inplace=True)\n"
     ]
    },
    {
     "data": {
      "text/plain": "            date      上证50     沪深300     中证500    中证1000\n0     2014-10-17  1608.516  2441.732  4860.732  6058.668\n1     2014-10-20  1612.402  2454.711  4929.160  6154.520\n2     2014-10-21  1600.844  2433.391  4884.024  6103.008\n3     2014-10-22  1597.125  2418.641  4825.609  6027.510\n4     2014-10-23  1586.557  2395.936  4755.231  5930.483\n...          ...       ...       ...       ...       ...\n2139  2023-07-31  2653.369  4014.630  6088.243  6515.849\n2140  2023-08-01  2645.893  3998.001  6098.879  6507.412\n2141  2023-08-02  2620.684  3969.895  6077.464  6496.022\n2142  2023-08-03  2645.153  4004.984  6098.687  6499.545\n2143  2023-08-04  2648.845  4020.579  6128.556  6535.322\n\n[2144 rows x 5 columns]",
      "text/html": "<div>\n<style scoped>\n    .dataframe tbody tr th:only-of-type {\n        vertical-align: middle;\n    }\n\n    .dataframe tbody tr th {\n        vertical-align: top;\n    }\n\n    .dataframe thead th {\n        text-align: right;\n    }\n</style>\n<table border=\"1\" class=\"dataframe\">\n  <thead>\n    <tr style=\"text-align: right;\">\n      <th></th>\n      <th>date</th>\n      <th>上证50</th>\n      <th>沪深300</th>\n      <th>中证500</th>\n      <th>中证1000</th>\n    </tr>\n  </thead>\n  <tbody>\n    <tr>\n      <th>0</th>\n      <td>2014-10-17</td>\n      <td>1608.516</td>\n      <td>2441.732</td>\n      <td>4860.732</td>\n      <td>6058.668</td>\n    </tr>\n    <tr>\n      <th>1</th>\n      <td>2014-10-20</td>\n      <td>1612.402</td>\n      <td>2454.711</td>\n      <td>4929.160</td>\n      <td>6154.520</td>\n    </tr>\n    <tr>\n      <th>2</th>\n      <td>2014-10-21</td>\n      <td>1600.844</td>\n      <td>2433.391</td>\n      <td>4884.024</td>\n      <td>6103.008</td>\n    </tr>\n    <tr>\n      <th>3</th>\n      <td>2014-10-22</td>\n      <td>1597.125</td>\n      <td>2418.641</td>\n      <td>4825.609</td>\n      <td>6027.510</td>\n    </tr>\n    <tr>\n      <th>4</th>\n      <td>2014-10-23</td>\n      <td>1586.557</td>\n      <td>2395.936</td>\n      <td>4755.231</td>\n      <td>5930.483</td>\n    </tr>\n    <tr>\n      <th>...</th>\n      <td>...</td>\n      <td>...</td>\n      <td>...</td>\n      <td>...</td>\n      <td>...</td>\n    </tr>\n    <tr>\n      <th>2139</th>\n      <td>2023-07-31</td>\n      <td>2653.369</td>\n      <td>4014.630</td>\n      <td>6088.243</td>\n      <td>6515.849</td>\n    </tr>\n    <tr>\n      <th>2140</th>\n      <td>2023-08-01</td>\n      <td>2645.893</td>\n      <td>3998.001</td>\n      <td>6098.879</td>\n      <td>6507.412</td>\n    </tr>\n    <tr>\n      <th>2141</th>\n      <td>2023-08-02</td>\n      <td>2620.684</td>\n      <td>3969.895</td>\n      <td>6077.464</td>\n      <td>6496.022</td>\n    </tr>\n    <tr>\n      <th>2142</th>\n      <td>2023-08-03</td>\n      <td>2645.153</td>\n      <td>4004.984</td>\n      <td>6098.687</td>\n      <td>6499.545</td>\n    </tr>\n    <tr>\n      <th>2143</th>\n      <td>2023-08-04</td>\n      <td>2648.845</td>\n      <td>4020.579</td>\n      <td>6128.556</td>\n      <td>6535.322</td>\n    </tr>\n  </tbody>\n</table>\n<p>2144 rows × 5 columns</p>\n</div>"
     },
     "execution_count": 51,
     "metadata": {},
     "output_type": "execute_result"
    }
   ],
   "source": [
    "SZ_50_part = SZ50_data[['date', 'close']]\n",
    "SZ_50_part.rename(columns={'close': '上证50'}, inplace=True)\n",
    "HS300_part = HS300_data[['date', 'close']]\n",
    "HS300_part.rename(columns={'close': '沪深300'}, inplace=True)\n",
    "ZZ500_part = ZZ500_data[['date', 'close']]\n",
    "ZZ500_part.rename(columns={'close': '中证500'}, inplace=True)\n",
    "ZZ1000_part = ZZ1000_data[['date', 'close']]\n",
    "ZZ1000_part.rename(columns={'close': '中证1000'}, inplace=True)\n",
    "Stock_data = pd.merge(SZ_50_part, HS300_part)\n",
    "Stock_data = pd.merge(Stock_data, ZZ500_part)\n",
    "Stock_data = pd.merge(Stock_data, ZZ1000_part)\n",
    "Stock_data"
   ],
   "metadata": {
    "collapsed": false
   }
  },
  {
   "cell_type": "markdown",
   "source": [
    "由于找不到PPI的月度数据，因此获取CPI月度数据进行回归，应该也有一定的相关性"
   ],
   "metadata": {
    "collapsed": false
   }
  },
  {
   "cell_type": "code",
   "execution_count": 52,
   "outputs": [
    {
     "data": {
      "text/plain": "1996-02-01    2.1\n1996-03-01    2.3\n1996-04-01    0.6\n1996-05-01    0.7\n1996-06-01   -0.5\n             ... \n2023-03-09   -0.5\n2023-04-11   -0.3\n2023-05-11   -0.1\n2023-06-09   -0.2\n2023-07-10   -0.2\nName: cpi, Length: 322, dtype: float64"
     },
     "execution_count": 52,
     "metadata": {},
     "output_type": "execute_result"
    }
   ],
   "source": [
    "CPI_monthly = ak.macro_china_cpi_monthly()\n",
    "CPI_monthly.index = pd.to_datetime(CPI_monthly.index)\n",
    "CPI_monthly"
   ],
   "metadata": {
    "collapsed": false
   }
  },
  {
   "cell_type": "code",
   "execution_count": 53,
   "outputs": [
    {
     "name": "stderr",
     "output_type": "stream",
     "text": [
      "C:\\Users\\sersmile\\AppData\\Local\\Temp\\ipykernel_18668\\1254288156.py:3: FutureWarning: 'loffset' in .resample() and in Grouper() is deprecated.\n",
      "\n",
      ">>> df.resample(freq=\"3s\", loffset=\"8H\")\n",
      "\n",
      "becomes:\n",
      "\n",
      ">>> from pandas.tseries.frequencies import to_offset\n",
      ">>> df = df.resample(freq=\"3s\").mean()\n",
      ">>> df.index = df.index.to_timestamp() + to_offset(\"8H\")\n",
      "\n",
      "  NH_data_monthly = NH_data.resample('M', loffset=pd.offsets.MonthBegin(0)).first()\n"
     ]
    },
    {
     "data": {
      "text/plain": "                   农产品          能化         贵金属\ndate                                          \n2012-10-01   941.30000  1255.76000  1000.00000\n2012-11-01   897.48000  1333.65000  1016.85000\n2012-12-01   904.30000  1358.90000   979.08000\n2013-01-01   897.25000  1372.75000   970.12000\n2013-02-01   903.87000  1502.97000   894.07000\n...                ...         ...         ...\n2023-05-01  1070.64294  1891.56504   728.06302\n2023-06-01  1051.40443  1699.80289   772.63247\n2023-07-01  1036.08326  1639.65273   752.27846\n2023-08-01  1132.57853  1711.11819   751.44710\n2023-09-01  1157.63579  1897.70876   774.96446\n\n[132 rows x 3 columns]",
      "text/html": "<div>\n<style scoped>\n    .dataframe tbody tr th:only-of-type {\n        vertical-align: middle;\n    }\n\n    .dataframe tbody tr th {\n        vertical-align: top;\n    }\n\n    .dataframe thead th {\n        text-align: right;\n    }\n</style>\n<table border=\"1\" class=\"dataframe\">\n  <thead>\n    <tr style=\"text-align: right;\">\n      <th></th>\n      <th>农产品</th>\n      <th>能化</th>\n      <th>贵金属</th>\n    </tr>\n    <tr>\n      <th>date</th>\n      <th></th>\n      <th></th>\n      <th></th>\n    </tr>\n  </thead>\n  <tbody>\n    <tr>\n      <th>2012-10-01</th>\n      <td>941.30000</td>\n      <td>1255.76000</td>\n      <td>1000.00000</td>\n    </tr>\n    <tr>\n      <th>2012-11-01</th>\n      <td>897.48000</td>\n      <td>1333.65000</td>\n      <td>1016.85000</td>\n    </tr>\n    <tr>\n      <th>2012-12-01</th>\n      <td>904.30000</td>\n      <td>1358.90000</td>\n      <td>979.08000</td>\n    </tr>\n    <tr>\n      <th>2013-01-01</th>\n      <td>897.25000</td>\n      <td>1372.75000</td>\n      <td>970.12000</td>\n    </tr>\n    <tr>\n      <th>2013-02-01</th>\n      <td>903.87000</td>\n      <td>1502.97000</td>\n      <td>894.07000</td>\n    </tr>\n    <tr>\n      <th>...</th>\n      <td>...</td>\n      <td>...</td>\n      <td>...</td>\n    </tr>\n    <tr>\n      <th>2023-05-01</th>\n      <td>1070.64294</td>\n      <td>1891.56504</td>\n      <td>728.06302</td>\n    </tr>\n    <tr>\n      <th>2023-06-01</th>\n      <td>1051.40443</td>\n      <td>1699.80289</td>\n      <td>772.63247</td>\n    </tr>\n    <tr>\n      <th>2023-07-01</th>\n      <td>1036.08326</td>\n      <td>1639.65273</td>\n      <td>752.27846</td>\n    </tr>\n    <tr>\n      <th>2023-08-01</th>\n      <td>1132.57853</td>\n      <td>1711.11819</td>\n      <td>751.44710</td>\n    </tr>\n    <tr>\n      <th>2023-09-01</th>\n      <td>1157.63579</td>\n      <td>1897.70876</td>\n      <td>774.96446</td>\n    </tr>\n  </tbody>\n</table>\n<p>132 rows × 3 columns</p>\n</div>"
     },
     "execution_count": 53,
     "metadata": {},
     "output_type": "execute_result"
    }
   ],
   "source": [
    "NH_data['date'] = pd.to_datetime(NH_data['date'])\n",
    "NH_data.set_index('date', inplace=True)\n",
    "NH_data_monthly = NH_data.resample('M', loffset=pd.offsets.MonthBegin(0)).first()\n",
    "NH_data_monthly"
   ],
   "metadata": {
    "collapsed": false
   }
  },
  {
   "cell_type": "code",
   "execution_count": 54,
   "outputs": [
    {
     "name": "stderr",
     "output_type": "stream",
     "text": [
      "C:\\Users\\sersmile\\AppData\\Local\\Temp\\ipykernel_18668\\2531406584.py:3: FutureWarning: 'loffset' in .resample() and in Grouper() is deprecated.\n",
      "\n",
      ">>> df.resample(freq=\"3s\", loffset=\"8H\")\n",
      "\n",
      "becomes:\n",
      "\n",
      ">>> from pandas.tseries.frequencies import to_offset\n",
      ">>> df = df.resample(freq=\"3s\").mean()\n",
      ">>> df.index = df.index.to_timestamp() + to_offset(\"8H\")\n",
      "\n",
      "  Stock_data_monthly = Stock_data.resample('M', loffset=pd.offsets.MonthBegin(0)).first()\n"
     ]
    },
    {
     "data": {
      "text/plain": "                上证50     沪深300     中证500    中证1000\ndate                                              \n2014-11-01  1608.516  2441.732  4860.732  6058.668\n2014-12-01  1651.052  2512.548  5028.698  6275.993\n2015-01-01  1920.380  2819.812  5208.139  6392.464\n2015-02-01  2649.639  3641.541  5417.017  6049.787\n2015-03-01  2332.533  3353.960  5609.389  6535.903\n...              ...       ...       ...       ...\n2023-05-01  2665.723  4090.568  6413.807  6962.205\n2023-06-01  2692.691  4030.247  6262.389  6733.969\n2023-07-01  2500.340  3806.868  6051.460  6574.758\n2023-08-01  2534.474  3892.882  6042.312  6612.884\n2023-09-01  2645.893  3998.001  6098.879  6507.412\n\n[107 rows x 4 columns]",
      "text/html": "<div>\n<style scoped>\n    .dataframe tbody tr th:only-of-type {\n        vertical-align: middle;\n    }\n\n    .dataframe tbody tr th {\n        vertical-align: top;\n    }\n\n    .dataframe thead th {\n        text-align: right;\n    }\n</style>\n<table border=\"1\" class=\"dataframe\">\n  <thead>\n    <tr style=\"text-align: right;\">\n      <th></th>\n      <th>上证50</th>\n      <th>沪深300</th>\n      <th>中证500</th>\n      <th>中证1000</th>\n    </tr>\n    <tr>\n      <th>date</th>\n      <th></th>\n      <th></th>\n      <th></th>\n      <th></th>\n    </tr>\n  </thead>\n  <tbody>\n    <tr>\n      <th>2014-11-01</th>\n      <td>1608.516</td>\n      <td>2441.732</td>\n      <td>4860.732</td>\n      <td>6058.668</td>\n    </tr>\n    <tr>\n      <th>2014-12-01</th>\n      <td>1651.052</td>\n      <td>2512.548</td>\n      <td>5028.698</td>\n      <td>6275.993</td>\n    </tr>\n    <tr>\n      <th>2015-01-01</th>\n      <td>1920.380</td>\n      <td>2819.812</td>\n      <td>5208.139</td>\n      <td>6392.464</td>\n    </tr>\n    <tr>\n      <th>2015-02-01</th>\n      <td>2649.639</td>\n      <td>3641.541</td>\n      <td>5417.017</td>\n      <td>6049.787</td>\n    </tr>\n    <tr>\n      <th>2015-03-01</th>\n      <td>2332.533</td>\n      <td>3353.960</td>\n      <td>5609.389</td>\n      <td>6535.903</td>\n    </tr>\n    <tr>\n      <th>...</th>\n      <td>...</td>\n      <td>...</td>\n      <td>...</td>\n      <td>...</td>\n    </tr>\n    <tr>\n      <th>2023-05-01</th>\n      <td>2665.723</td>\n      <td>4090.568</td>\n      <td>6413.807</td>\n      <td>6962.205</td>\n    </tr>\n    <tr>\n      <th>2023-06-01</th>\n      <td>2692.691</td>\n      <td>4030.247</td>\n      <td>6262.389</td>\n      <td>6733.969</td>\n    </tr>\n    <tr>\n      <th>2023-07-01</th>\n      <td>2500.340</td>\n      <td>3806.868</td>\n      <td>6051.460</td>\n      <td>6574.758</td>\n    </tr>\n    <tr>\n      <th>2023-08-01</th>\n      <td>2534.474</td>\n      <td>3892.882</td>\n      <td>6042.312</td>\n      <td>6612.884</td>\n    </tr>\n    <tr>\n      <th>2023-09-01</th>\n      <td>2645.893</td>\n      <td>3998.001</td>\n      <td>6098.879</td>\n      <td>6507.412</td>\n    </tr>\n  </tbody>\n</table>\n<p>107 rows × 4 columns</p>\n</div>"
     },
     "execution_count": 54,
     "metadata": {},
     "output_type": "execute_result"
    }
   ],
   "source": [
    "Stock_data['date'] = pd.to_datetime(Stock_data['date'])\n",
    "Stock_data.set_index('date', inplace=True)\n",
    "Stock_data_monthly = Stock_data.resample('M', loffset=pd.offsets.MonthBegin(0)).first()\n",
    "Stock_data_monthly"
   ],
   "metadata": {
    "collapsed": false
   }
  },
  {
   "cell_type": "code",
   "execution_count": 55,
   "outputs": [],
   "source": [
    "NH_data_monthly['date'] = NH_data_monthly.index\n",
    "NH_data_monthly.reset_index(drop=True, inplace=True)\n",
    "Stock_data_monthly['date'] = Stock_data_monthly.index\n",
    "Stock_data_monthly.reset_index(drop=True, inplace=True)\n",
    "CPI_monthly = pd.DataFrame(CPI_monthly)\n",
    "CPI_monthly['date'] = CPI_monthly.index\n",
    "CPI_monthly.reset_index(drop=True, inplace=True)\n",
    "CPI_monthly['date'] = CPI_monthly['date'].dt.to_period('M').dt.to_timestamp()\n",
    "\n",
    "NH_CPI = pd.merge(NH_data_monthly, CPI_monthly, on='date')\n",
    "stock_CPI = pd.merge(Stock_data_monthly, CPI_monthly, on='date')"
   ],
   "metadata": {
    "collapsed": false
   }
  },
  {
   "cell_type": "code",
   "execution_count": 56,
   "outputs": [
    {
     "data": {
      "text/plain": "            农产品          能化         贵金属       date  cpi\n0     941.30000  1255.76000  1000.00000 2012-10-01  0.3\n1     897.48000  1333.65000  1016.85000 2012-11-01 -0.1\n2     904.30000  1358.90000   979.08000 2012-12-01  0.1\n3     897.25000  1372.75000   970.12000 2013-01-01  0.8\n4     903.87000  1502.97000   894.07000 2013-02-01  1.0\n..          ...         ...         ...        ...  ...\n117  1122.13230  1943.25377   710.75758 2023-03-01 -0.5\n118  1129.97973  1954.63847   687.03464 2023-04-01 -0.3\n119  1070.64294  1891.56504   728.06302 2023-05-01 -0.1\n120  1051.40443  1699.80289   772.63247 2023-06-01 -0.2\n121  1036.08326  1639.65273   752.27846 2023-07-01 -0.2\n\n[122 rows x 5 columns]",
      "text/html": "<div>\n<style scoped>\n    .dataframe tbody tr th:only-of-type {\n        vertical-align: middle;\n    }\n\n    .dataframe tbody tr th {\n        vertical-align: top;\n    }\n\n    .dataframe thead th {\n        text-align: right;\n    }\n</style>\n<table border=\"1\" class=\"dataframe\">\n  <thead>\n    <tr style=\"text-align: right;\">\n      <th></th>\n      <th>农产品</th>\n      <th>能化</th>\n      <th>贵金属</th>\n      <th>date</th>\n      <th>cpi</th>\n    </tr>\n  </thead>\n  <tbody>\n    <tr>\n      <th>0</th>\n      <td>941.30000</td>\n      <td>1255.76000</td>\n      <td>1000.00000</td>\n      <td>2012-10-01</td>\n      <td>0.3</td>\n    </tr>\n    <tr>\n      <th>1</th>\n      <td>897.48000</td>\n      <td>1333.65000</td>\n      <td>1016.85000</td>\n      <td>2012-11-01</td>\n      <td>-0.1</td>\n    </tr>\n    <tr>\n      <th>2</th>\n      <td>904.30000</td>\n      <td>1358.90000</td>\n      <td>979.08000</td>\n      <td>2012-12-01</td>\n      <td>0.1</td>\n    </tr>\n    <tr>\n      <th>3</th>\n      <td>897.25000</td>\n      <td>1372.75000</td>\n      <td>970.12000</td>\n      <td>2013-01-01</td>\n      <td>0.8</td>\n    </tr>\n    <tr>\n      <th>4</th>\n      <td>903.87000</td>\n      <td>1502.97000</td>\n      <td>894.07000</td>\n      <td>2013-02-01</td>\n      <td>1.0</td>\n    </tr>\n    <tr>\n      <th>...</th>\n      <td>...</td>\n      <td>...</td>\n      <td>...</td>\n      <td>...</td>\n      <td>...</td>\n    </tr>\n    <tr>\n      <th>117</th>\n      <td>1122.13230</td>\n      <td>1943.25377</td>\n      <td>710.75758</td>\n      <td>2023-03-01</td>\n      <td>-0.5</td>\n    </tr>\n    <tr>\n      <th>118</th>\n      <td>1129.97973</td>\n      <td>1954.63847</td>\n      <td>687.03464</td>\n      <td>2023-04-01</td>\n      <td>-0.3</td>\n    </tr>\n    <tr>\n      <th>119</th>\n      <td>1070.64294</td>\n      <td>1891.56504</td>\n      <td>728.06302</td>\n      <td>2023-05-01</td>\n      <td>-0.1</td>\n    </tr>\n    <tr>\n      <th>120</th>\n      <td>1051.40443</td>\n      <td>1699.80289</td>\n      <td>772.63247</td>\n      <td>2023-06-01</td>\n      <td>-0.2</td>\n    </tr>\n    <tr>\n      <th>121</th>\n      <td>1036.08326</td>\n      <td>1639.65273</td>\n      <td>752.27846</td>\n      <td>2023-07-01</td>\n      <td>-0.2</td>\n    </tr>\n  </tbody>\n</table>\n<p>122 rows × 5 columns</p>\n</div>"
     },
     "execution_count": 56,
     "metadata": {},
     "output_type": "execute_result"
    }
   ],
   "source": [
    "NH_CPI"
   ],
   "metadata": {
    "collapsed": false
   }
  },
  {
   "cell_type": "code",
   "execution_count": 57,
   "outputs": [
    {
     "data": {
      "text/plain": "        上证50     沪深300     中证500    中证1000       date  cpi\n0   1608.516  2441.732  4860.732  6058.668 2014-11-01  0.0\n1   1651.052  2512.548  5028.698  6275.993 2014-12-01 -0.2\n2   1920.380  2819.812  5208.139  6392.464 2015-01-01  0.3\n3   2649.639  3641.541  5417.017  6049.787 2015-02-01  0.3\n4   2332.533  3353.960  5609.389  6535.903 2015-03-01  1.2\n..       ...       ...       ...       ...        ...  ...\n92  2820.874  4195.933  6365.905  6916.720 2023-03-01 -0.5\n93  2773.649  4126.942  6402.141  7002.771 2023-04-01 -0.3\n94  2665.723  4090.568  6413.807  6962.205 2023-05-01 -0.1\n95  2692.691  4030.247  6262.389  6733.969 2023-06-01 -0.2\n96  2500.340  3806.868  6051.460  6574.758 2023-07-01 -0.2\n\n[97 rows x 6 columns]",
      "text/html": "<div>\n<style scoped>\n    .dataframe tbody tr th:only-of-type {\n        vertical-align: middle;\n    }\n\n    .dataframe tbody tr th {\n        vertical-align: top;\n    }\n\n    .dataframe thead th {\n        text-align: right;\n    }\n</style>\n<table border=\"1\" class=\"dataframe\">\n  <thead>\n    <tr style=\"text-align: right;\">\n      <th></th>\n      <th>上证50</th>\n      <th>沪深300</th>\n      <th>中证500</th>\n      <th>中证1000</th>\n      <th>date</th>\n      <th>cpi</th>\n    </tr>\n  </thead>\n  <tbody>\n    <tr>\n      <th>0</th>\n      <td>1608.516</td>\n      <td>2441.732</td>\n      <td>4860.732</td>\n      <td>6058.668</td>\n      <td>2014-11-01</td>\n      <td>0.0</td>\n    </tr>\n    <tr>\n      <th>1</th>\n      <td>1651.052</td>\n      <td>2512.548</td>\n      <td>5028.698</td>\n      <td>6275.993</td>\n      <td>2014-12-01</td>\n      <td>-0.2</td>\n    </tr>\n    <tr>\n      <th>2</th>\n      <td>1920.380</td>\n      <td>2819.812</td>\n      <td>5208.139</td>\n      <td>6392.464</td>\n      <td>2015-01-01</td>\n      <td>0.3</td>\n    </tr>\n    <tr>\n      <th>3</th>\n      <td>2649.639</td>\n      <td>3641.541</td>\n      <td>5417.017</td>\n      <td>6049.787</td>\n      <td>2015-02-01</td>\n      <td>0.3</td>\n    </tr>\n    <tr>\n      <th>4</th>\n      <td>2332.533</td>\n      <td>3353.960</td>\n      <td>5609.389</td>\n      <td>6535.903</td>\n      <td>2015-03-01</td>\n      <td>1.2</td>\n    </tr>\n    <tr>\n      <th>...</th>\n      <td>...</td>\n      <td>...</td>\n      <td>...</td>\n      <td>...</td>\n      <td>...</td>\n      <td>...</td>\n    </tr>\n    <tr>\n      <th>92</th>\n      <td>2820.874</td>\n      <td>4195.933</td>\n      <td>6365.905</td>\n      <td>6916.720</td>\n      <td>2023-03-01</td>\n      <td>-0.5</td>\n    </tr>\n    <tr>\n      <th>93</th>\n      <td>2773.649</td>\n      <td>4126.942</td>\n      <td>6402.141</td>\n      <td>7002.771</td>\n      <td>2023-04-01</td>\n      <td>-0.3</td>\n    </tr>\n    <tr>\n      <th>94</th>\n      <td>2665.723</td>\n      <td>4090.568</td>\n      <td>6413.807</td>\n      <td>6962.205</td>\n      <td>2023-05-01</td>\n      <td>-0.1</td>\n    </tr>\n    <tr>\n      <th>95</th>\n      <td>2692.691</td>\n      <td>4030.247</td>\n      <td>6262.389</td>\n      <td>6733.969</td>\n      <td>2023-06-01</td>\n      <td>-0.2</td>\n    </tr>\n    <tr>\n      <th>96</th>\n      <td>2500.340</td>\n      <td>3806.868</td>\n      <td>6051.460</td>\n      <td>6574.758</td>\n      <td>2023-07-01</td>\n      <td>-0.2</td>\n    </tr>\n  </tbody>\n</table>\n<p>97 rows × 6 columns</p>\n</div>"
     },
     "execution_count": 57,
     "metadata": {},
     "output_type": "execute_result"
    }
   ],
   "source": [
    "stock_CPI"
   ],
   "metadata": {
    "collapsed": false
   }
  },
  {
   "cell_type": "code",
   "execution_count": 70,
   "outputs": [
    {
     "data": {
      "text/plain": "          农产品        能化       贵金属       date  cpi\n1   -0.046553  0.062026  0.016850 2012-11-01 -0.1\n2    0.007599  0.018933 -0.037144 2012-12-01  0.1\n3   -0.007796  0.010192 -0.009151 2013-01-01  0.8\n4    0.007378  0.094861 -0.078392 2013-02-01  1.0\n5    0.014571  0.017998  0.030602 2013-03-01  1.1\n..        ...       ...       ...        ...  ...\n117 -0.004311  0.021848 -0.001116 2023-03-01 -0.5\n118  0.006993  0.005859 -0.033377 2023-04-01 -0.3\n119 -0.052511 -0.032269  0.059718 2023-05-01 -0.1\n120 -0.017969 -0.101378  0.061216 2023-06-01 -0.2\n121 -0.014572 -0.035387 -0.026344 2023-07-01 -0.2\n\n[121 rows x 5 columns]",
      "text/html": "<div>\n<style scoped>\n    .dataframe tbody tr th:only-of-type {\n        vertical-align: middle;\n    }\n\n    .dataframe tbody tr th {\n        vertical-align: top;\n    }\n\n    .dataframe thead th {\n        text-align: right;\n    }\n</style>\n<table border=\"1\" class=\"dataframe\">\n  <thead>\n    <tr style=\"text-align: right;\">\n      <th></th>\n      <th>农产品</th>\n      <th>能化</th>\n      <th>贵金属</th>\n      <th>date</th>\n      <th>cpi</th>\n    </tr>\n  </thead>\n  <tbody>\n    <tr>\n      <th>1</th>\n      <td>-0.046553</td>\n      <td>0.062026</td>\n      <td>0.016850</td>\n      <td>2012-11-01</td>\n      <td>-0.1</td>\n    </tr>\n    <tr>\n      <th>2</th>\n      <td>0.007599</td>\n      <td>0.018933</td>\n      <td>-0.037144</td>\n      <td>2012-12-01</td>\n      <td>0.1</td>\n    </tr>\n    <tr>\n      <th>3</th>\n      <td>-0.007796</td>\n      <td>0.010192</td>\n      <td>-0.009151</td>\n      <td>2013-01-01</td>\n      <td>0.8</td>\n    </tr>\n    <tr>\n      <th>4</th>\n      <td>0.007378</td>\n      <td>0.094861</td>\n      <td>-0.078392</td>\n      <td>2013-02-01</td>\n      <td>1.0</td>\n    </tr>\n    <tr>\n      <th>5</th>\n      <td>0.014571</td>\n      <td>0.017998</td>\n      <td>0.030602</td>\n      <td>2013-03-01</td>\n      <td>1.1</td>\n    </tr>\n    <tr>\n      <th>...</th>\n      <td>...</td>\n      <td>...</td>\n      <td>...</td>\n      <td>...</td>\n      <td>...</td>\n    </tr>\n    <tr>\n      <th>117</th>\n      <td>-0.004311</td>\n      <td>0.021848</td>\n      <td>-0.001116</td>\n      <td>2023-03-01</td>\n      <td>-0.5</td>\n    </tr>\n    <tr>\n      <th>118</th>\n      <td>0.006993</td>\n      <td>0.005859</td>\n      <td>-0.033377</td>\n      <td>2023-04-01</td>\n      <td>-0.3</td>\n    </tr>\n    <tr>\n      <th>119</th>\n      <td>-0.052511</td>\n      <td>-0.032269</td>\n      <td>0.059718</td>\n      <td>2023-05-01</td>\n      <td>-0.1</td>\n    </tr>\n    <tr>\n      <th>120</th>\n      <td>-0.017969</td>\n      <td>-0.101378</td>\n      <td>0.061216</td>\n      <td>2023-06-01</td>\n      <td>-0.2</td>\n    </tr>\n    <tr>\n      <th>121</th>\n      <td>-0.014572</td>\n      <td>-0.035387</td>\n      <td>-0.026344</td>\n      <td>2023-07-01</td>\n      <td>-0.2</td>\n    </tr>\n  </tbody>\n</table>\n<p>121 rows × 5 columns</p>\n</div>"
     },
     "execution_count": 70,
     "metadata": {},
     "output_type": "execute_result"
    }
   ],
   "source": [
    "\"\"\"\n",
    "进行线性回归，并且获取R2的大小\n",
    "\"\"\"\n",
    "# NH_CPI[['date', 'cpi']]\n",
    "NH_CPI_pct = NH_CPI[['农产品', '能化', '贵金属']].pct_change().join(NH_CPI[['date', 'cpi']])\n",
    "stock_CPI_pct = stock_CPI[['上证50', '沪深300', '中证500', '中证1000']].pct_change().join(stock_CPI[['date', 'cpi']])\n",
    "NH_CPI_pct.dropna(inplace=True)\n",
    "stock_CPI_pct.dropna(inplace=True)\n",
    "NH_CPI_pct"
   ],
   "metadata": {
    "collapsed": false
   }
  },
  {
   "cell_type": "code",
   "execution_count": 74,
   "outputs": [
    {
     "data": {
      "text/plain": "0.009895244844534412"
     },
     "execution_count": 74,
     "metadata": {},
     "output_type": "execute_result"
    }
   ],
   "source": [
    "# 先假设时间滞后为0\n",
    "from sklearn.linear_model import LinearRegression\n",
    "\n",
    "LR = LinearRegression()\n",
    "reg = LR.fit(NH_CPI_pct[['农产品']], NH_CPI_pct[['cpi']])\n",
    "reg.score(NH_CPI_pct[['农产品']], NH_CPI_pct[['cpi']])"
   ],
   "metadata": {
    "collapsed": false
   }
  },
  {
   "cell_type": "code",
   "execution_count": null,
   "outputs": [],
   "source": [],
   "metadata": {
    "collapsed": false
   }
  }
 ],
 "metadata": {
  "kernelspec": {
   "display_name": "Python 3",
   "language": "python",
   "name": "python3"
  },
  "language_info": {
   "codemirror_mode": {
    "name": "ipython",
    "version": 2
   },
   "file_extension": ".py",
   "mimetype": "text/x-python",
   "name": "python",
   "nbconvert_exporter": "python",
   "pygments_lexer": "ipython2",
   "version": "2.7.6"
  }
 },
 "nbformat": 4,
 "nbformat_minor": 0
}
