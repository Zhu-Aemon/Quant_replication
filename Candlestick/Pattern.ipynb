{
 "cells": [
  {
   "cell_type": "code",
   "execution_count": 58,
   "metadata": {
    "collapsed": true
   },
   "outputs": [
    {
     "data": {
      "text/plain": "                   证券代码  证券名称       交易时间       开盘价       最高价       最低价  \\\n0                300164  通源石油 2011-01-13  9.008070  9.523183  8.798506   \n1                300164  通源石油 2011-01-14  8.961679  8.987274  8.435368   \n2                300164  通源石油 2011-01-17  8.139418  8.366579  7.920255   \n3                300164  通源石油 2011-01-18  7.998641  7.998641  7.680295   \n4                300164  通源石油 2011-01-19  7.837070  8.006640  7.819472   \n...                 ...   ...        ...       ...       ...       ...   \n2791                NaN   NaN        NaT       NaN       NaN       NaN   \n2792                NaN   NaN        NaT       NaN       NaN       NaN   \n2793                NaN   NaN        NaT       NaN       NaN       NaN   \n2794                NaN   NaN        NaT       NaN       NaN       NaN   \n2795  数据来源：东方财富Choice数据   NaN        NaT       NaN       NaN       NaN   \n\n           收盘价        涨跌      涨跌幅%         成交量          成交额  盘后量  盘后额  \n0     9.372808        ——        ——  10825154.0  626364272.0  0.0  0.0  \n1     8.435368 -0.937441 -10.00171   6344591.0  337741849.0  0.0  0.0  \n2     8.157015 -0.278353 -3.299829   3279010.0  165847606.0  0.0  0.0  \n3     7.837070 -0.319945 -3.922334   2287376.0  112105361.0  0.0  0.0  \n4     7.982645  0.145575  1.857519   1615372.0   79809744.0  0.0  0.0  \n...        ...       ...       ...         ...          ...  ...  ...  \n2791       NaN       NaN       NaN         NaN          NaN  NaN  NaN  \n2792       NaN       NaN       NaN         NaN          NaN  NaN  NaN  \n2793       NaN       NaN       NaN         NaN          NaN  NaN  NaN  \n2794       NaN       NaN       NaN         NaN          NaN  NaN  NaN  \n2795       NaN       NaN       NaN         NaN          NaN  NaN  NaN  \n\n[2796 rows x 13 columns]",
      "text/html": "<div>\n<style scoped>\n    .dataframe tbody tr th:only-of-type {\n        vertical-align: middle;\n    }\n\n    .dataframe tbody tr th {\n        vertical-align: top;\n    }\n\n    .dataframe thead th {\n        text-align: right;\n    }\n</style>\n<table border=\"1\" class=\"dataframe\">\n  <thead>\n    <tr style=\"text-align: right;\">\n      <th></th>\n      <th>证券代码</th>\n      <th>证券名称</th>\n      <th>交易时间</th>\n      <th>开盘价</th>\n      <th>最高价</th>\n      <th>最低价</th>\n      <th>收盘价</th>\n      <th>涨跌</th>\n      <th>涨跌幅%</th>\n      <th>成交量</th>\n      <th>成交额</th>\n      <th>盘后量</th>\n      <th>盘后额</th>\n    </tr>\n  </thead>\n  <tbody>\n    <tr>\n      <th>0</th>\n      <td>300164</td>\n      <td>通源石油</td>\n      <td>2011-01-13</td>\n      <td>9.008070</td>\n      <td>9.523183</td>\n      <td>8.798506</td>\n      <td>9.372808</td>\n      <td>——</td>\n      <td>——</td>\n      <td>10825154.0</td>\n      <td>626364272.0</td>\n      <td>0.0</td>\n      <td>0.0</td>\n    </tr>\n    <tr>\n      <th>1</th>\n      <td>300164</td>\n      <td>通源石油</td>\n      <td>2011-01-14</td>\n      <td>8.961679</td>\n      <td>8.987274</td>\n      <td>8.435368</td>\n      <td>8.435368</td>\n      <td>-0.937441</td>\n      <td>-10.00171</td>\n      <td>6344591.0</td>\n      <td>337741849.0</td>\n      <td>0.0</td>\n      <td>0.0</td>\n    </tr>\n    <tr>\n      <th>2</th>\n      <td>300164</td>\n      <td>通源石油</td>\n      <td>2011-01-17</td>\n      <td>8.139418</td>\n      <td>8.366579</td>\n      <td>7.920255</td>\n      <td>8.157015</td>\n      <td>-0.278353</td>\n      <td>-3.299829</td>\n      <td>3279010.0</td>\n      <td>165847606.0</td>\n      <td>0.0</td>\n      <td>0.0</td>\n    </tr>\n    <tr>\n      <th>3</th>\n      <td>300164</td>\n      <td>通源石油</td>\n      <td>2011-01-18</td>\n      <td>7.998641</td>\n      <td>7.998641</td>\n      <td>7.680295</td>\n      <td>7.837070</td>\n      <td>-0.319945</td>\n      <td>-3.922334</td>\n      <td>2287376.0</td>\n      <td>112105361.0</td>\n      <td>0.0</td>\n      <td>0.0</td>\n    </tr>\n    <tr>\n      <th>4</th>\n      <td>300164</td>\n      <td>通源石油</td>\n      <td>2011-01-19</td>\n      <td>7.837070</td>\n      <td>8.006640</td>\n      <td>7.819472</td>\n      <td>7.982645</td>\n      <td>0.145575</td>\n      <td>1.857519</td>\n      <td>1615372.0</td>\n      <td>79809744.0</td>\n      <td>0.0</td>\n      <td>0.0</td>\n    </tr>\n    <tr>\n      <th>...</th>\n      <td>...</td>\n      <td>...</td>\n      <td>...</td>\n      <td>...</td>\n      <td>...</td>\n      <td>...</td>\n      <td>...</td>\n      <td>...</td>\n      <td>...</td>\n      <td>...</td>\n      <td>...</td>\n      <td>...</td>\n      <td>...</td>\n    </tr>\n    <tr>\n      <th>2791</th>\n      <td>NaN</td>\n      <td>NaN</td>\n      <td>NaT</td>\n      <td>NaN</td>\n      <td>NaN</td>\n      <td>NaN</td>\n      <td>NaN</td>\n      <td>NaN</td>\n      <td>NaN</td>\n      <td>NaN</td>\n      <td>NaN</td>\n      <td>NaN</td>\n      <td>NaN</td>\n    </tr>\n    <tr>\n      <th>2792</th>\n      <td>NaN</td>\n      <td>NaN</td>\n      <td>NaT</td>\n      <td>NaN</td>\n      <td>NaN</td>\n      <td>NaN</td>\n      <td>NaN</td>\n      <td>NaN</td>\n      <td>NaN</td>\n      <td>NaN</td>\n      <td>NaN</td>\n      <td>NaN</td>\n      <td>NaN</td>\n    </tr>\n    <tr>\n      <th>2793</th>\n      <td>NaN</td>\n      <td>NaN</td>\n      <td>NaT</td>\n      <td>NaN</td>\n      <td>NaN</td>\n      <td>NaN</td>\n      <td>NaN</td>\n      <td>NaN</td>\n      <td>NaN</td>\n      <td>NaN</td>\n      <td>NaN</td>\n      <td>NaN</td>\n      <td>NaN</td>\n    </tr>\n    <tr>\n      <th>2794</th>\n      <td>NaN</td>\n      <td>NaN</td>\n      <td>NaT</td>\n      <td>NaN</td>\n      <td>NaN</td>\n      <td>NaN</td>\n      <td>NaN</td>\n      <td>NaN</td>\n      <td>NaN</td>\n      <td>NaN</td>\n      <td>NaN</td>\n      <td>NaN</td>\n      <td>NaN</td>\n    </tr>\n    <tr>\n      <th>2795</th>\n      <td>数据来源：东方财富Choice数据</td>\n      <td>NaN</td>\n      <td>NaT</td>\n      <td>NaN</td>\n      <td>NaN</td>\n      <td>NaN</td>\n      <td>NaN</td>\n      <td>NaN</td>\n      <td>NaN</td>\n      <td>NaN</td>\n      <td>NaN</td>\n      <td>NaN</td>\n      <td>NaN</td>\n    </tr>\n  </tbody>\n</table>\n<p>2796 rows × 13 columns</p>\n</div>"
     },
     "execution_count": 58,
     "metadata": {},
     "output_type": "execute_result"
    }
   ],
   "source": [
    "import pandas as pd\n",
    "import numpy as np\n",
    "\n",
    "data = pd.read_excel('300164.xls')\n",
    "data"
   ]
  },
  {
   "cell_type": "markdown",
   "source": [
    "## 寻找由字线和甲字线"
   ],
   "metadata": {
    "collapsed": false
   }
  },
  {
   "cell_type": "code",
   "execution_count": 2,
   "outputs": [],
   "source": [
    "def is_lower_hammer(data, lam=2):\n",
    "    \"\"\"\n",
    "    由字线的判断：一侧wick长度是body长度两倍以上，另一侧wick长度显著更小\n",
    "    :param data: 数据，包括OLHC\n",
    "    :param O: 开盘价，numpy 1d array\n",
    "    :param H: 最高价，numpy 1d array\n",
    "    :param L: 最低价，numpy 1d array\n",
    "    :param C: 收盘价，numpy 1d array\n",
    "    :param lam: 一个控制严格程度的参数（蜡烛主体长度要大于较短影线的多少倍）\n",
    "    :return: Boolean\n",
    "    \"\"\"\n",
    "    O = np.array(data['开盘价'])\n",
    "    L = np.array(data['最低价'])\n",
    "    H = np.array(data['最高价'])\n",
    "    C = np.array(data['收盘价'])\n",
    "    body_size = np.abs(O - C)  # 开盘价与收盘价之间差的绝对值为蜡烛主体长度\n",
    "    wick_size_upper = np.abs(H - np.maximum(O, C))  # 一根影线的长度，有H >= max(O, C)\n",
    "    wick_size_lower = np.abs(np.minimum(O, C) - L)  # 另一根影线长度，同理\n",
    "    return (2 * body_size < wick_size_upper) & (body_size > lam * wick_size_lower)"
   ],
   "metadata": {
    "collapsed": false
   }
  },
  {
   "cell_type": "code",
   "execution_count": 3,
   "outputs": [],
   "source": [
    "lower_hammer_mask = is_lower_hammer(data)"
   ],
   "metadata": {
    "collapsed": false
   }
  },
  {
   "cell_type": "code",
   "execution_count": 4,
   "outputs": [
    {
     "data": {
      "text/plain": "        证券代码   证券名称       交易时间       开盘价       最高价       最低价       收盘价  \\\n5     300313  *ST天山 2012-05-04  7.759188  8.360982  7.729592  7.941700   \n7     300313  *ST天山 2012-05-08  7.966363  8.494165  7.960937  8.129143   \n23    300313  *ST天山 2012-05-30  7.113000  7.369502  7.108068  7.157395   \n43    300313  *ST天山 2012-06-28  7.231386  7.458292  7.231386  7.275781   \n157   300313  *ST天山 2012-12-12  5.324883  5.558780  5.324883  5.399531   \n...      ...    ...        ...       ...       ...       ...       ...   \n2338  300313  *ST天山 2023-02-02  6.350000  6.580000  6.240000  6.240000   \n2390  300313  *ST天山 2023-04-18  6.000000  6.300000  5.980000  6.070000   \n2400  300313  *ST天山 2023-05-08  5.500000  5.800000  5.490000  5.590000   \n2435  300313  *ST天山 2023-06-28  4.910000  5.080000  4.890000  4.960000   \n2451  300313  *ST天山 2023-07-20  4.870000  4.920000  4.870000  4.880000   \n\n            涨跌      涨跌幅%      成交量        成交额  盘后量  盘后额  \n5     0.088789  1.130651  7346334  119100367    0    0  \n7     0.335425  4.303792  8243071  136944001    0    0  \n23   -0.004933 -0.068873  1641707   24116528    0    0  \n43           0         0  1517670   22618479    0    0  \n157   0.074648  1.401869  1073478   11738404    0    0  \n...        ...       ...      ...        ...  ...  ...  \n2338     -0.06 -0.952388  6030936   38545101    0    0  \n2390      0.07  1.166669  6861718   41802251    0    0  \n2400      0.06   1.08499  3468900   19547975    0    0  \n2435      0.06  1.224489  3689083   18452422    0    0  \n2451         0         0  1055200    5163641    0    0  \n\n[105 rows x 13 columns]",
      "text/html": "<div>\n<style scoped>\n    .dataframe tbody tr th:only-of-type {\n        vertical-align: middle;\n    }\n\n    .dataframe tbody tr th {\n        vertical-align: top;\n    }\n\n    .dataframe thead th {\n        text-align: right;\n    }\n</style>\n<table border=\"1\" class=\"dataframe\">\n  <thead>\n    <tr style=\"text-align: right;\">\n      <th></th>\n      <th>证券代码</th>\n      <th>证券名称</th>\n      <th>交易时间</th>\n      <th>开盘价</th>\n      <th>最高价</th>\n      <th>最低价</th>\n      <th>收盘价</th>\n      <th>涨跌</th>\n      <th>涨跌幅%</th>\n      <th>成交量</th>\n      <th>成交额</th>\n      <th>盘后量</th>\n      <th>盘后额</th>\n    </tr>\n  </thead>\n  <tbody>\n    <tr>\n      <th>5</th>\n      <td>300313</td>\n      <td>*ST天山</td>\n      <td>2012-05-04</td>\n      <td>7.759188</td>\n      <td>8.360982</td>\n      <td>7.729592</td>\n      <td>7.941700</td>\n      <td>0.088789</td>\n      <td>1.130651</td>\n      <td>7346334</td>\n      <td>119100367</td>\n      <td>0</td>\n      <td>0</td>\n    </tr>\n    <tr>\n      <th>7</th>\n      <td>300313</td>\n      <td>*ST天山</td>\n      <td>2012-05-08</td>\n      <td>7.966363</td>\n      <td>8.494165</td>\n      <td>7.960937</td>\n      <td>8.129143</td>\n      <td>0.335425</td>\n      <td>4.303792</td>\n      <td>8243071</td>\n      <td>136944001</td>\n      <td>0</td>\n      <td>0</td>\n    </tr>\n    <tr>\n      <th>23</th>\n      <td>300313</td>\n      <td>*ST天山</td>\n      <td>2012-05-30</td>\n      <td>7.113000</td>\n      <td>7.369502</td>\n      <td>7.108068</td>\n      <td>7.157395</td>\n      <td>-0.004933</td>\n      <td>-0.068873</td>\n      <td>1641707</td>\n      <td>24116528</td>\n      <td>0</td>\n      <td>0</td>\n    </tr>\n    <tr>\n      <th>43</th>\n      <td>300313</td>\n      <td>*ST天山</td>\n      <td>2012-06-28</td>\n      <td>7.231386</td>\n      <td>7.458292</td>\n      <td>7.231386</td>\n      <td>7.275781</td>\n      <td>0</td>\n      <td>0</td>\n      <td>1517670</td>\n      <td>22618479</td>\n      <td>0</td>\n      <td>0</td>\n    </tr>\n    <tr>\n      <th>157</th>\n      <td>300313</td>\n      <td>*ST天山</td>\n      <td>2012-12-12</td>\n      <td>5.324883</td>\n      <td>5.558780</td>\n      <td>5.324883</td>\n      <td>5.399531</td>\n      <td>0.074648</td>\n      <td>1.401869</td>\n      <td>1073478</td>\n      <td>11738404</td>\n      <td>0</td>\n      <td>0</td>\n    </tr>\n    <tr>\n      <th>...</th>\n      <td>...</td>\n      <td>...</td>\n      <td>...</td>\n      <td>...</td>\n      <td>...</td>\n      <td>...</td>\n      <td>...</td>\n      <td>...</td>\n      <td>...</td>\n      <td>...</td>\n      <td>...</td>\n      <td>...</td>\n      <td>...</td>\n    </tr>\n    <tr>\n      <th>2338</th>\n      <td>300313</td>\n      <td>*ST天山</td>\n      <td>2023-02-02</td>\n      <td>6.350000</td>\n      <td>6.580000</td>\n      <td>6.240000</td>\n      <td>6.240000</td>\n      <td>-0.06</td>\n      <td>-0.952388</td>\n      <td>6030936</td>\n      <td>38545101</td>\n      <td>0</td>\n      <td>0</td>\n    </tr>\n    <tr>\n      <th>2390</th>\n      <td>300313</td>\n      <td>*ST天山</td>\n      <td>2023-04-18</td>\n      <td>6.000000</td>\n      <td>6.300000</td>\n      <td>5.980000</td>\n      <td>6.070000</td>\n      <td>0.07</td>\n      <td>1.166669</td>\n      <td>6861718</td>\n      <td>41802251</td>\n      <td>0</td>\n      <td>0</td>\n    </tr>\n    <tr>\n      <th>2400</th>\n      <td>300313</td>\n      <td>*ST天山</td>\n      <td>2023-05-08</td>\n      <td>5.500000</td>\n      <td>5.800000</td>\n      <td>5.490000</td>\n      <td>5.590000</td>\n      <td>0.06</td>\n      <td>1.08499</td>\n      <td>3468900</td>\n      <td>19547975</td>\n      <td>0</td>\n      <td>0</td>\n    </tr>\n    <tr>\n      <th>2435</th>\n      <td>300313</td>\n      <td>*ST天山</td>\n      <td>2023-06-28</td>\n      <td>4.910000</td>\n      <td>5.080000</td>\n      <td>4.890000</td>\n      <td>4.960000</td>\n      <td>0.06</td>\n      <td>1.224489</td>\n      <td>3689083</td>\n      <td>18452422</td>\n      <td>0</td>\n      <td>0</td>\n    </tr>\n    <tr>\n      <th>2451</th>\n      <td>300313</td>\n      <td>*ST天山</td>\n      <td>2023-07-20</td>\n      <td>4.870000</td>\n      <td>4.920000</td>\n      <td>4.870000</td>\n      <td>4.880000</td>\n      <td>0</td>\n      <td>0</td>\n      <td>1055200</td>\n      <td>5163641</td>\n      <td>0</td>\n      <td>0</td>\n    </tr>\n  </tbody>\n</table>\n<p>105 rows × 13 columns</p>\n</div>"
     },
     "execution_count": 4,
     "metadata": {},
     "output_type": "execute_result"
    }
   ],
   "source": [
    "data[lower_hammer_mask]"
   ],
   "metadata": {
    "collapsed": false
   }
  },
  {
   "cell_type": "code",
   "execution_count": 5,
   "outputs": [],
   "source": [
    "def is_upper_hammer(data, lam=2):\n",
    "    \"\"\"\n",
    "    甲字线的判断：一侧wick长度是body长度两倍以上，另一侧wick长度显著更小\n",
    "    :param data: 数据，包括OLHC\n",
    "    :param O: 开盘价，numpy 1d array\n",
    "    :param H: 最高价，numpy 1d array\n",
    "    :param L: 最低价，numpy 1d array\n",
    "    :param C: 收盘价，numpy 1d array\n",
    "    :param lam: 一个控制严格程度的参数（蜡烛主体长度要大于较短影线的多少倍）\n",
    "    :return: Boolean\n",
    "    \"\"\"\n",
    "    O = np.array(data['开盘价'])\n",
    "    L = np.array(data['最低价'])\n",
    "    H = np.array(data['最高价'])\n",
    "    C = np.array(data['收盘价'])\n",
    "    body_size = np.abs(O - C)  # 开盘价与收盘价之间差的绝对值为蜡烛主体长度\n",
    "    wick_size_upper = np.abs(H - np.maximum(O, C))  # 一根影线的长度，有H >= max(O, C)\n",
    "    wick_size_lower = np.abs(np.minimum(O, C) - L)  # 另一根影线长度，同理\n",
    "    return (2 * body_size < wick_size_lower) & (body_size > lam * wick_size_upper)"
   ],
   "metadata": {
    "collapsed": false
   }
  },
  {
   "cell_type": "code",
   "execution_count": 6,
   "outputs": [
    {
     "data": {
      "text/plain": "        证券代码   证券名称       交易时间       开盘价       最高价       最低价       收盘价  \\\n6     300313  *ST天山 2012-05-07  7.680264  7.823314  7.408965  7.793717   \n76    300313  *ST天山 2012-08-14  6.027799  6.091925  5.869952  6.077127   \n117   300313  *ST天山 2012-10-17  5.623315  5.623315  5.519728  5.608517   \n131   300313  *ST天山 2012-11-06  5.867324  5.867324  5.723005  5.822536   \n132   300313  *ST天山 2012-11-07  5.812583  5.847418  5.747888  5.837465   \n...      ...    ...        ...       ...       ...       ...       ...   \n2320  300313  *ST天山 2022-12-30  6.140000  6.160000  6.090000  6.160000   \n2335  300313  *ST天山 2023-01-30  5.910000  6.030000  5.650000  6.020000   \n2440  300313  *ST天山 2023-07-05  5.010000  5.050000  4.940000  5.040000   \n2442  300313  *ST天山 2023-07-07  4.950000  4.950000  4.830000  4.920000   \n2501  300313  *ST天山 2023-10-10  6.780000  6.890000  6.400000  6.890000   \n\n            涨跌      涨跌幅%      成交量       成交额  盘后量   盘后额  \n6    -0.147982 -1.863356  5054014  78654417    0     0  \n76    0.029596  0.489395  1017155  12348524    0     0  \n117   0.014798  0.264541   397552   4495825    0     0  \n131  -0.069672 -1.182437   391542   4545571    0     0  \n132   0.014929  0.256405   323151   3770722    0     0  \n...        ...       ...      ...       ...  ...   ...  \n2320      0.06  0.983606  2211300  13539028    0     0  \n2335      0.02  0.333333  5321218  31263544  800  4816  \n2440     -0.04 -0.787401  1960600   9793736    0     0  \n2442     -0.01 -0.202835  2021900   9910884    0     0  \n2501      1.15  20.03485  5832400  39622526    0     0  \n\n[64 rows x 13 columns]",
      "text/html": "<div>\n<style scoped>\n    .dataframe tbody tr th:only-of-type {\n        vertical-align: middle;\n    }\n\n    .dataframe tbody tr th {\n        vertical-align: top;\n    }\n\n    .dataframe thead th {\n        text-align: right;\n    }\n</style>\n<table border=\"1\" class=\"dataframe\">\n  <thead>\n    <tr style=\"text-align: right;\">\n      <th></th>\n      <th>证券代码</th>\n      <th>证券名称</th>\n      <th>交易时间</th>\n      <th>开盘价</th>\n      <th>最高价</th>\n      <th>最低价</th>\n      <th>收盘价</th>\n      <th>涨跌</th>\n      <th>涨跌幅%</th>\n      <th>成交量</th>\n      <th>成交额</th>\n      <th>盘后量</th>\n      <th>盘后额</th>\n    </tr>\n  </thead>\n  <tbody>\n    <tr>\n      <th>6</th>\n      <td>300313</td>\n      <td>*ST天山</td>\n      <td>2012-05-07</td>\n      <td>7.680264</td>\n      <td>7.823314</td>\n      <td>7.408965</td>\n      <td>7.793717</td>\n      <td>-0.147982</td>\n      <td>-1.863356</td>\n      <td>5054014</td>\n      <td>78654417</td>\n      <td>0</td>\n      <td>0</td>\n    </tr>\n    <tr>\n      <th>76</th>\n      <td>300313</td>\n      <td>*ST天山</td>\n      <td>2012-08-14</td>\n      <td>6.027799</td>\n      <td>6.091925</td>\n      <td>5.869952</td>\n      <td>6.077127</td>\n      <td>0.029596</td>\n      <td>0.489395</td>\n      <td>1017155</td>\n      <td>12348524</td>\n      <td>0</td>\n      <td>0</td>\n    </tr>\n    <tr>\n      <th>117</th>\n      <td>300313</td>\n      <td>*ST天山</td>\n      <td>2012-10-17</td>\n      <td>5.623315</td>\n      <td>5.623315</td>\n      <td>5.519728</td>\n      <td>5.608517</td>\n      <td>0.014798</td>\n      <td>0.264541</td>\n      <td>397552</td>\n      <td>4495825</td>\n      <td>0</td>\n      <td>0</td>\n    </tr>\n    <tr>\n      <th>131</th>\n      <td>300313</td>\n      <td>*ST天山</td>\n      <td>2012-11-06</td>\n      <td>5.867324</td>\n      <td>5.867324</td>\n      <td>5.723005</td>\n      <td>5.822536</td>\n      <td>-0.069672</td>\n      <td>-1.182437</td>\n      <td>391542</td>\n      <td>4545571</td>\n      <td>0</td>\n      <td>0</td>\n    </tr>\n    <tr>\n      <th>132</th>\n      <td>300313</td>\n      <td>*ST天山</td>\n      <td>2012-11-07</td>\n      <td>5.812583</td>\n      <td>5.847418</td>\n      <td>5.747888</td>\n      <td>5.837465</td>\n      <td>0.014929</td>\n      <td>0.256405</td>\n      <td>323151</td>\n      <td>3770722</td>\n      <td>0</td>\n      <td>0</td>\n    </tr>\n    <tr>\n      <th>...</th>\n      <td>...</td>\n      <td>...</td>\n      <td>...</td>\n      <td>...</td>\n      <td>...</td>\n      <td>...</td>\n      <td>...</td>\n      <td>...</td>\n      <td>...</td>\n      <td>...</td>\n      <td>...</td>\n      <td>...</td>\n      <td>...</td>\n    </tr>\n    <tr>\n      <th>2320</th>\n      <td>300313</td>\n      <td>*ST天山</td>\n      <td>2022-12-30</td>\n      <td>6.140000</td>\n      <td>6.160000</td>\n      <td>6.090000</td>\n      <td>6.160000</td>\n      <td>0.06</td>\n      <td>0.983606</td>\n      <td>2211300</td>\n      <td>13539028</td>\n      <td>0</td>\n      <td>0</td>\n    </tr>\n    <tr>\n      <th>2335</th>\n      <td>300313</td>\n      <td>*ST天山</td>\n      <td>2023-01-30</td>\n      <td>5.910000</td>\n      <td>6.030000</td>\n      <td>5.650000</td>\n      <td>6.020000</td>\n      <td>0.02</td>\n      <td>0.333333</td>\n      <td>5321218</td>\n      <td>31263544</td>\n      <td>800</td>\n      <td>4816</td>\n    </tr>\n    <tr>\n      <th>2440</th>\n      <td>300313</td>\n      <td>*ST天山</td>\n      <td>2023-07-05</td>\n      <td>5.010000</td>\n      <td>5.050000</td>\n      <td>4.940000</td>\n      <td>5.040000</td>\n      <td>-0.04</td>\n      <td>-0.787401</td>\n      <td>1960600</td>\n      <td>9793736</td>\n      <td>0</td>\n      <td>0</td>\n    </tr>\n    <tr>\n      <th>2442</th>\n      <td>300313</td>\n      <td>*ST天山</td>\n      <td>2023-07-07</td>\n      <td>4.950000</td>\n      <td>4.950000</td>\n      <td>4.830000</td>\n      <td>4.920000</td>\n      <td>-0.01</td>\n      <td>-0.202835</td>\n      <td>2021900</td>\n      <td>9910884</td>\n      <td>0</td>\n      <td>0</td>\n    </tr>\n    <tr>\n      <th>2501</th>\n      <td>300313</td>\n      <td>*ST天山</td>\n      <td>2023-10-10</td>\n      <td>6.780000</td>\n      <td>6.890000</td>\n      <td>6.400000</td>\n      <td>6.890000</td>\n      <td>1.15</td>\n      <td>20.03485</td>\n      <td>5832400</td>\n      <td>39622526</td>\n      <td>0</td>\n      <td>0</td>\n    </tr>\n  </tbody>\n</table>\n<p>64 rows × 13 columns</p>\n</div>"
     },
     "execution_count": 6,
     "metadata": {},
     "output_type": "execute_result"
    }
   ],
   "source": [
    "upper_hammer_mask = is_upper_hammer(data)\n",
    "data[upper_hammer_mask]"
   ],
   "metadata": {
    "collapsed": false
   }
  },
  {
   "cell_type": "markdown",
   "source": [
    "# 好友反攻"
   ],
   "metadata": {
    "collapsed": false
   }
  },
  {
   "cell_type": "code",
   "execution_count": 7,
   "outputs": [],
   "source": [
    "def long_bull_candle(stock_data, lam=3, factor=1):\n",
    "    \"\"\"\n",
    "    判断是否是大阳线，标准：主体占大部分（主体大于 影线长度 * lam），其次判断是否足够长，标准：长度大于平均值+n个标准差\n",
    "    :param stock_data: 数据，包括OLHC\n",
    "    :param O: open numpy 1d array\n",
    "    :param H: high numpy 1d array\n",
    "    :param L: low numpy 1d array\n",
    "    :param C: close numpy 1d array\n",
    "    :param lam: controlling parameter\n",
    "    :param data: the given dataframe\n",
    "    :param factor: how many times of std is body_size supposed to excess\n",
    "    :return: mask matrix numpy 1d array\n",
    "    \"\"\"\n",
    "    O = np.array(stock_data['开盘价'])\n",
    "    L = np.array(stock_data['最低价'])\n",
    "    H = np.array(stock_data['最高价'])\n",
    "    C = np.array(stock_data['收盘价'])\n",
    "    body_size = np.abs(O - C)\n",
    "    upper_wick_size = np.abs(H - np.maximum(O, C))\n",
    "    lower_wick_size = np.abs(np.minimum(O, C) - L)\n",
    "    data_feature_body = np.abs(stock_data['开盘价'] - stock_data['收盘价']) / stock_data['收盘价']\n",
    "    return (body_size / C > data_feature_body.mean() + data_feature_body.std() * factor) & (body_size > lam * upper_wick_size) & (body_size > lower_wick_size) & (O < C)"
   ],
   "metadata": {
    "collapsed": false
   }
  },
  {
   "cell_type": "code",
   "execution_count": 8,
   "outputs": [],
   "source": [
    "def long_bear_candle(stock_data, lam=3, factor=1):\n",
    "    \"\"\"\n",
    "    判断是否是大阳线，标准：主体占大部分（主体大于 影线长度 * lam），其次判断是否足够长，标准：长度大于平均值+n个标准差\n",
    "    :param stock_data: 数据，包括OLHC\n",
    "    :param O: open numpy 1d array\n",
    "    :param H: high numpy 1d array\n",
    "    :param L: low numpy 1d array\n",
    "    :param C: close numpy 1d array\n",
    "    :param lam: controlling parameter\n",
    "    :param data: the given dataframe\n",
    "    :param factor: how many times of std is body_size supposed to excess\n",
    "    :return: mask matrix numpy 1d array\n",
    "    \"\"\"\n",
    "    O = np.array(stock_data['开盘价'])\n",
    "    L = np.array(stock_data['最低价'])\n",
    "    H = np.array(stock_data['最高价'])\n",
    "    C = np.array(stock_data['收盘价'])\n",
    "    body_size = np.abs(O - C)\n",
    "    upper_wick_size = np.abs(H - np.maximum(O, C))\n",
    "    lower_wick_size = np.abs(np.minimum(O, C) - L)\n",
    "    data_feature_body = np.abs(stock_data['开盘价'] - stock_data['收盘价']) / stock_data['收盘价']\n",
    "    return (body_size / C > data_feature_body.mean() + data_feature_body.std() * factor) & (body_size > lam * upper_wick_size) & (body_size > lower_wick_size) & (O > C)"
   ],
   "metadata": {
    "collapsed": false
   }
  },
  {
   "cell_type": "code",
   "execution_count": 9,
   "outputs": [],
   "source": [
    "def is_friend_counter(stock_data, lam=1, factor=1):\n",
    "    \"\"\"\n",
    "    判断是否为好友反攻\n",
    "    :param stock_data: 股票数据，dataframe\n",
    "    :param lam: controlling param\n",
    "    :param factor: controlling param\n",
    "    :return: mask numpy 1d array\n",
    "    \"\"\"\n",
    "    O = np.array(stock_data['开盘价'])\n",
    "    L = np.array(stock_data['最低价'])\n",
    "    H = np.array(stock_data['最高价'])\n",
    "    C = np.array(stock_data['收盘价'])\n",
    "    body_size = np.abs(O - C)\n",
    "    long_bull_candle_mask = long_bull_candle(data, lam=lam, factor=factor)\n",
    "    long_bear_candle_mask = long_bear_candle(data, lam=lam, factor=factor)\n",
    "    return long_bull_candle_mask & np.roll(long_bear_candle_mask, 1) & (np.abs(C - np.roll(C, 1)) < ((1 / 3) * body_size))"
   ],
   "metadata": {
    "collapsed": false
   }
  },
  {
   "cell_type": "code",
   "execution_count": 10,
   "outputs": [
    {
     "data": {
      "text/plain": "        证券代码   证券名称       交易时间    开盘价    最高价    最低价    收盘价        涨跌  \\\n1142  300313  *ST天山 2018-02-02  10.02  11.50  10.02  10.94  0.139999   \n1825  300313  *ST天山 2020-12-16  22.80  25.17  22.22  24.05  0.269999   \n\n          涨跌幅%       成交量        成交额   盘后量    盘后额  \n1142  1.296291   2832805   30783819     0      0  \n1825  1.135402  33553284  807635984  1900  45695  ",
      "text/html": "<div>\n<style scoped>\n    .dataframe tbody tr th:only-of-type {\n        vertical-align: middle;\n    }\n\n    .dataframe tbody tr th {\n        vertical-align: top;\n    }\n\n    .dataframe thead th {\n        text-align: right;\n    }\n</style>\n<table border=\"1\" class=\"dataframe\">\n  <thead>\n    <tr style=\"text-align: right;\">\n      <th></th>\n      <th>证券代码</th>\n      <th>证券名称</th>\n      <th>交易时间</th>\n      <th>开盘价</th>\n      <th>最高价</th>\n      <th>最低价</th>\n      <th>收盘价</th>\n      <th>涨跌</th>\n      <th>涨跌幅%</th>\n      <th>成交量</th>\n      <th>成交额</th>\n      <th>盘后量</th>\n      <th>盘后额</th>\n    </tr>\n  </thead>\n  <tbody>\n    <tr>\n      <th>1142</th>\n      <td>300313</td>\n      <td>*ST天山</td>\n      <td>2018-02-02</td>\n      <td>10.02</td>\n      <td>11.50</td>\n      <td>10.02</td>\n      <td>10.94</td>\n      <td>0.139999</td>\n      <td>1.296291</td>\n      <td>2832805</td>\n      <td>30783819</td>\n      <td>0</td>\n      <td>0</td>\n    </tr>\n    <tr>\n      <th>1825</th>\n      <td>300313</td>\n      <td>*ST天山</td>\n      <td>2020-12-16</td>\n      <td>22.80</td>\n      <td>25.17</td>\n      <td>22.22</td>\n      <td>24.05</td>\n      <td>0.269999</td>\n      <td>1.135402</td>\n      <td>33553284</td>\n      <td>807635984</td>\n      <td>1900</td>\n      <td>45695</td>\n    </tr>\n  </tbody>\n</table>\n</div>"
     },
     "execution_count": 10,
     "metadata": {},
     "output_type": "execute_result"
    }
   ],
   "source": [
    "data[is_friend_counter(data)]"
   ],
   "metadata": {
    "collapsed": false
   }
  },
  {
   "cell_type": "code",
   "execution_count": 11,
   "outputs": [],
   "source": [
    "def is_oldmam_counter(stock_data, lam=1, factor=1):\n",
    "    \"\"\"\n",
    "    判断是否为淡友反攻\n",
    "    :param stock_data: 股票数据，dataframe\n",
    "    :param lam: controlling param\n",
    "    :param factor: controlling param\n",
    "    :return: mask numpy 1d array\n",
    "    \"\"\"\n",
    "    O = np.array(stock_data['开盘价'])\n",
    "    L = np.array(stock_data['最低价'])\n",
    "    H = np.array(stock_data['最高价'])\n",
    "    C = np.array(stock_data['收盘价'])\n",
    "    body_size = np.abs(O - C)\n",
    "    long_bull_candle_mask = long_bull_candle(data, lam=lam, factor=factor)\n",
    "    long_bear_candle_mask = long_bear_candle(data, lam=lam, factor=factor)\n",
    "    return long_bear_candle_mask & np.roll(long_bull_candle_mask, 1) & (np.abs(C - np.roll(C, 1)) < ((1 / 3) * body_size))"
   ],
   "metadata": {
    "collapsed": false
   }
  },
  {
   "cell_type": "code",
   "execution_count": 12,
   "outputs": [
    {
     "data": {
      "text/plain": "       证券代码   证券名称       交易时间    开盘价    最高价    最低价    收盘价        涨跌      涨跌幅%  \\\n789  300313  *ST天山 2016-04-15  22.35  22.65  20.26  21.05 -0.370001 -1.727362   \n\n          成交量        成交额  盘后量  盘后额  \n789  19646278  415637888    0    0  ",
      "text/html": "<div>\n<style scoped>\n    .dataframe tbody tr th:only-of-type {\n        vertical-align: middle;\n    }\n\n    .dataframe tbody tr th {\n        vertical-align: top;\n    }\n\n    .dataframe thead th {\n        text-align: right;\n    }\n</style>\n<table border=\"1\" class=\"dataframe\">\n  <thead>\n    <tr style=\"text-align: right;\">\n      <th></th>\n      <th>证券代码</th>\n      <th>证券名称</th>\n      <th>交易时间</th>\n      <th>开盘价</th>\n      <th>最高价</th>\n      <th>最低价</th>\n      <th>收盘价</th>\n      <th>涨跌</th>\n      <th>涨跌幅%</th>\n      <th>成交量</th>\n      <th>成交额</th>\n      <th>盘后量</th>\n      <th>盘后额</th>\n    </tr>\n  </thead>\n  <tbody>\n    <tr>\n      <th>789</th>\n      <td>300313</td>\n      <td>*ST天山</td>\n      <td>2016-04-15</td>\n      <td>22.35</td>\n      <td>22.65</td>\n      <td>20.26</td>\n      <td>21.05</td>\n      <td>-0.370001</td>\n      <td>-1.727362</td>\n      <td>19646278</td>\n      <td>415637888</td>\n      <td>0</td>\n      <td>0</td>\n    </tr>\n  </tbody>\n</table>\n</div>"
     },
     "execution_count": 12,
     "metadata": {},
     "output_type": "execute_result"
    }
   ],
   "source": [
    "data[is_oldmam_counter(data)]"
   ],
   "metadata": {
    "collapsed": false
   }
  },
  {
   "cell_type": "code",
   "execution_count": 13,
   "outputs": [],
   "source": [
    "def beam_of_light(stock_data, lam=1, factor=1):\n",
    "    \"\"\"\n",
    "    判断是否为曙光初现\n",
    "    :param stock_data: 股票数据，dataframe\n",
    "    :param lam: controlling param\n",
    "    :param factor: controlling param\n",
    "    :return: mask numpy 1d array\n",
    "    \"\"\"\n",
    "    O = np.array(stock_data['开盘价'])\n",
    "    L = np.array(stock_data['最低价'])\n",
    "    H = np.array(stock_data['最高价'])\n",
    "    C = np.array(stock_data['收盘价'])\n",
    "    body_size = np.abs(O - C)\n",
    "    long_bull_candle_mask = long_bull_candle(data, lam=lam, factor=factor)\n",
    "    long_bear_candle_mask = long_bear_candle(data, lam=lam, factor=factor)\n",
    "    return long_bull_candle_mask & np.roll(long_bear_candle_mask, 1) & (np.abs(C - np.roll(C, 1)) < ((1 / 2) * np.roll(body_size, 1)))"
   ],
   "metadata": {
    "collapsed": false
   }
  },
  {
   "cell_type": "code",
   "execution_count": 14,
   "outputs": [
    {
     "data": {
      "text/plain": "        证券代码   证券名称       交易时间    开盘价    最高价    最低价    收盘价        涨跌  \\\n745   300313  *ST天山 2015-08-19  16.47  18.03  15.50  18.00  0.780001   \n1142  300313  *ST天山 2018-02-02  10.02  11.50  10.02  10.94  0.139999   \n1825  300313  *ST天山 2020-12-16  22.80  25.17  22.22  24.05  0.269999   \n1996  300313  *ST天山 2021-08-30   7.88   8.60   7.88   8.33      0.29   \n2033  300313  *ST天山 2021-10-29   9.16  10.08   9.16   9.70      0.24   \n\n          涨跌幅%       成交量        成交额   盘后量    盘后额  \n745   4.529621   5180538   86293240     0      0  \n1142  1.296291   2832805   30783819     0      0  \n1825  1.135402  33553284  807635984  1900  45695  \n1996  3.606965  13268300  110914420     0      0  \n2033  2.536995   7895255   76872581     0      0  ",
      "text/html": "<div>\n<style scoped>\n    .dataframe tbody tr th:only-of-type {\n        vertical-align: middle;\n    }\n\n    .dataframe tbody tr th {\n        vertical-align: top;\n    }\n\n    .dataframe thead th {\n        text-align: right;\n    }\n</style>\n<table border=\"1\" class=\"dataframe\">\n  <thead>\n    <tr style=\"text-align: right;\">\n      <th></th>\n      <th>证券代码</th>\n      <th>证券名称</th>\n      <th>交易时间</th>\n      <th>开盘价</th>\n      <th>最高价</th>\n      <th>最低价</th>\n      <th>收盘价</th>\n      <th>涨跌</th>\n      <th>涨跌幅%</th>\n      <th>成交量</th>\n      <th>成交额</th>\n      <th>盘后量</th>\n      <th>盘后额</th>\n    </tr>\n  </thead>\n  <tbody>\n    <tr>\n      <th>745</th>\n      <td>300313</td>\n      <td>*ST天山</td>\n      <td>2015-08-19</td>\n      <td>16.47</td>\n      <td>18.03</td>\n      <td>15.50</td>\n      <td>18.00</td>\n      <td>0.780001</td>\n      <td>4.529621</td>\n      <td>5180538</td>\n      <td>86293240</td>\n      <td>0</td>\n      <td>0</td>\n    </tr>\n    <tr>\n      <th>1142</th>\n      <td>300313</td>\n      <td>*ST天山</td>\n      <td>2018-02-02</td>\n      <td>10.02</td>\n      <td>11.50</td>\n      <td>10.02</td>\n      <td>10.94</td>\n      <td>0.139999</td>\n      <td>1.296291</td>\n      <td>2832805</td>\n      <td>30783819</td>\n      <td>0</td>\n      <td>0</td>\n    </tr>\n    <tr>\n      <th>1825</th>\n      <td>300313</td>\n      <td>*ST天山</td>\n      <td>2020-12-16</td>\n      <td>22.80</td>\n      <td>25.17</td>\n      <td>22.22</td>\n      <td>24.05</td>\n      <td>0.269999</td>\n      <td>1.135402</td>\n      <td>33553284</td>\n      <td>807635984</td>\n      <td>1900</td>\n      <td>45695</td>\n    </tr>\n    <tr>\n      <th>1996</th>\n      <td>300313</td>\n      <td>*ST天山</td>\n      <td>2021-08-30</td>\n      <td>7.88</td>\n      <td>8.60</td>\n      <td>7.88</td>\n      <td>8.33</td>\n      <td>0.29</td>\n      <td>3.606965</td>\n      <td>13268300</td>\n      <td>110914420</td>\n      <td>0</td>\n      <td>0</td>\n    </tr>\n    <tr>\n      <th>2033</th>\n      <td>300313</td>\n      <td>*ST天山</td>\n      <td>2021-10-29</td>\n      <td>9.16</td>\n      <td>10.08</td>\n      <td>9.16</td>\n      <td>9.70</td>\n      <td>0.24</td>\n      <td>2.536995</td>\n      <td>7895255</td>\n      <td>76872581</td>\n      <td>0</td>\n      <td>0</td>\n    </tr>\n  </tbody>\n</table>\n</div>"
     },
     "execution_count": 14,
     "metadata": {},
     "output_type": "execute_result"
    }
   ],
   "source": [
    "data[beam_of_light(data)]"
   ],
   "metadata": {
    "collapsed": false
   }
  },
  {
   "cell_type": "code",
   "execution_count": 17,
   "outputs": [],
   "source": [
    "def rising_sun(stock_data, lam=0.2):\n",
    "    \"\"\"\n",
    "    判断是否为旭日东升\n",
    "    :param stock_data: 股票数据 dataframe\n",
    "    :param lam: 控制参数\n",
    "    :return: boolean musk numpy 1d array\n",
    "    \"\"\"\n",
    "    O = np.array(stock_data['开盘价'])\n",
    "    L = np.array(stock_data['最低价'])\n",
    "    H = np.array(stock_data['最高价'])\n",
    "    C = np.array(stock_data['收盘价'])\n",
    "    body_size = np.abs(O - C)\n",
    "    long_bull_candle_mask = long_bull_candle(data, lam=lam, factor=1.5)\n",
    "    long_bear_candle_mask = long_bear_candle(data, lam=lam, factor=1.5)\n",
    "    return np.roll(long_bear_candle_mask, 1) & long_bull_candle_mask & (np.abs(C - np.roll(C, 1)) > lam * body_size)"
   ],
   "metadata": {
    "collapsed": false,
    "pycharm": {
     "name": "#%%d\n"
    }
   }
  },
  {
   "cell_type": "code",
   "execution_count": 18,
   "outputs": [
    {
     "data": {
      "text/plain": "        证券代码   证券名称       交易时间    开盘价    最高价    最低价    收盘价        涨跌  \\\n745   300313  *ST天山 2015-08-19  16.47  18.03  15.50  18.00  0.780001   \n763   300313  *ST天山 2015-09-16  13.30  14.78  13.20  14.70      1.26   \n1442  300313  *ST天山 2019-05-07   5.15   5.63   5.15   5.63      0.51   \n1452  300313  *ST天山 2019-05-21   5.01   5.50   5.01   5.50       0.5   \n1465  300313  *ST天山 2019-06-10   5.42   5.95   5.42   5.95      0.54   \n1916  300313  *ST天山 2021-05-07   7.65   8.98   7.50   8.98       1.5   \n\n          涨跌幅%       成交量        成交额   盘后量   盘后额  \n745   4.529621   5180538   86293240     0     0  \n763   9.375002   4513796   63224246     0     0  \n1442  9.960942   6660135   36191862     0     0  \n1452        10   2985897   15982287     0     0  \n1465  9.981515  15012175   86248165     0     0  \n1916  20.05347  27429616  229468691  1100  9878  ",
      "text/html": "<div>\n<style scoped>\n    .dataframe tbody tr th:only-of-type {\n        vertical-align: middle;\n    }\n\n    .dataframe tbody tr th {\n        vertical-align: top;\n    }\n\n    .dataframe thead th {\n        text-align: right;\n    }\n</style>\n<table border=\"1\" class=\"dataframe\">\n  <thead>\n    <tr style=\"text-align: right;\">\n      <th></th>\n      <th>证券代码</th>\n      <th>证券名称</th>\n      <th>交易时间</th>\n      <th>开盘价</th>\n      <th>最高价</th>\n      <th>最低价</th>\n      <th>收盘价</th>\n      <th>涨跌</th>\n      <th>涨跌幅%</th>\n      <th>成交量</th>\n      <th>成交额</th>\n      <th>盘后量</th>\n      <th>盘后额</th>\n    </tr>\n  </thead>\n  <tbody>\n    <tr>\n      <th>745</th>\n      <td>300313</td>\n      <td>*ST天山</td>\n      <td>2015-08-19</td>\n      <td>16.47</td>\n      <td>18.03</td>\n      <td>15.50</td>\n      <td>18.00</td>\n      <td>0.780001</td>\n      <td>4.529621</td>\n      <td>5180538</td>\n      <td>86293240</td>\n      <td>0</td>\n      <td>0</td>\n    </tr>\n    <tr>\n      <th>763</th>\n      <td>300313</td>\n      <td>*ST天山</td>\n      <td>2015-09-16</td>\n      <td>13.30</td>\n      <td>14.78</td>\n      <td>13.20</td>\n      <td>14.70</td>\n      <td>1.26</td>\n      <td>9.375002</td>\n      <td>4513796</td>\n      <td>63224246</td>\n      <td>0</td>\n      <td>0</td>\n    </tr>\n    <tr>\n      <th>1442</th>\n      <td>300313</td>\n      <td>*ST天山</td>\n      <td>2019-05-07</td>\n      <td>5.15</td>\n      <td>5.63</td>\n      <td>5.15</td>\n      <td>5.63</td>\n      <td>0.51</td>\n      <td>9.960942</td>\n      <td>6660135</td>\n      <td>36191862</td>\n      <td>0</td>\n      <td>0</td>\n    </tr>\n    <tr>\n      <th>1452</th>\n      <td>300313</td>\n      <td>*ST天山</td>\n      <td>2019-05-21</td>\n      <td>5.01</td>\n      <td>5.50</td>\n      <td>5.01</td>\n      <td>5.50</td>\n      <td>0.5</td>\n      <td>10</td>\n      <td>2985897</td>\n      <td>15982287</td>\n      <td>0</td>\n      <td>0</td>\n    </tr>\n    <tr>\n      <th>1465</th>\n      <td>300313</td>\n      <td>*ST天山</td>\n      <td>2019-06-10</td>\n      <td>5.42</td>\n      <td>5.95</td>\n      <td>5.42</td>\n      <td>5.95</td>\n      <td>0.54</td>\n      <td>9.981515</td>\n      <td>15012175</td>\n      <td>86248165</td>\n      <td>0</td>\n      <td>0</td>\n    </tr>\n    <tr>\n      <th>1916</th>\n      <td>300313</td>\n      <td>*ST天山</td>\n      <td>2021-05-07</td>\n      <td>7.65</td>\n      <td>8.98</td>\n      <td>7.50</td>\n      <td>8.98</td>\n      <td>1.5</td>\n      <td>20.05347</td>\n      <td>27429616</td>\n      <td>229468691</td>\n      <td>1100</td>\n      <td>9878</td>\n    </tr>\n  </tbody>\n</table>\n</div>"
     },
     "execution_count": 18,
     "metadata": {},
     "output_type": "execute_result"
    }
   ],
   "source": [
    "data[rising_sun(data)]"
   ],
   "metadata": {
    "collapsed": false
   }
  },
  {
   "cell_type": "code",
   "execution_count": 19,
   "outputs": [],
   "source": [
    "def clouded_top(stock_data, lam=0.5, factor=1):\n",
    "    \"\"\"\n",
    "    判断是否为乌云盖顶\n",
    "    :param stock_data: 股票数据 dataframe\n",
    "    :param lam: 控制参数\n",
    "    :param factor: 控制参数\n",
    "    :return: boolean mask 1d array\n",
    "    \"\"\"\n",
    "    O = np.array(stock_data['开盘价'])\n",
    "    L = np.array(stock_data['最低价'])\n",
    "    H = np.array(stock_data['最高价'])\n",
    "    C = np.array(stock_data['收盘价'])\n",
    "    body_size = np.abs(O - C)\n",
    "    long_bull_candle_mask = long_bull_candle(data, lam=lam, factor=factor)\n",
    "    long_bear_candle_mask = long_bear_candle(data, lam=lam, factor=factor)\n",
    "    return np.roll(long_bull_candle_mask, 1) & long_bear_candle_mask & ((np.roll(O, 1) - C) < lam * np.roll(body_size, 1))"
   ],
   "metadata": {
    "collapsed": false
   }
  },
  {
   "cell_type": "code",
   "execution_count": 21,
   "outputs": [
    {
     "data": {
      "text/plain": "        证券代码   证券名称       交易时间       开盘价       最高价       最低价      收盘价  \\\n612   300313  *ST天山 2015-01-30  13.00655  13.46073  12.00336  12.0333   \n712   300313  *ST天山 2015-07-01  22.79000  23.29000  20.44000  20.4400   \n1792  300313  *ST天山 2020-10-30  24.28000  24.68000  21.13000  21.2000   \n1801  300313  *ST天山 2020-11-12  22.02000  22.02000  20.45000  20.5700   \n1860  300313  *ST天山 2021-02-04  16.13000  16.15000  14.10000  14.7500   \n\n            涨跌      涨跌幅%       成交量        成交额   盘后量    盘后额  \n612  -0.973245 -7.482729   4221247  107319539     0      0  \n712  -2.269999  -9.99559   3976826   87676825     0      0  \n1792 -2.559999 -10.77441  38443900  862132912  4000  84800  \n1801     -1.59 -7.175091  20535100  427561872  4000  82280  \n1860 -1.549999 -9.509198  26922576  407833168   400   5900  ",
      "text/html": "<div>\n<style scoped>\n    .dataframe tbody tr th:only-of-type {\n        vertical-align: middle;\n    }\n\n    .dataframe tbody tr th {\n        vertical-align: top;\n    }\n\n    .dataframe thead th {\n        text-align: right;\n    }\n</style>\n<table border=\"1\" class=\"dataframe\">\n  <thead>\n    <tr style=\"text-align: right;\">\n      <th></th>\n      <th>证券代码</th>\n      <th>证券名称</th>\n      <th>交易时间</th>\n      <th>开盘价</th>\n      <th>最高价</th>\n      <th>最低价</th>\n      <th>收盘价</th>\n      <th>涨跌</th>\n      <th>涨跌幅%</th>\n      <th>成交量</th>\n      <th>成交额</th>\n      <th>盘后量</th>\n      <th>盘后额</th>\n    </tr>\n  </thead>\n  <tbody>\n    <tr>\n      <th>612</th>\n      <td>300313</td>\n      <td>*ST天山</td>\n      <td>2015-01-30</td>\n      <td>13.00655</td>\n      <td>13.46073</td>\n      <td>12.00336</td>\n      <td>12.0333</td>\n      <td>-0.973245</td>\n      <td>-7.482729</td>\n      <td>4221247</td>\n      <td>107319539</td>\n      <td>0</td>\n      <td>0</td>\n    </tr>\n    <tr>\n      <th>712</th>\n      <td>300313</td>\n      <td>*ST天山</td>\n      <td>2015-07-01</td>\n      <td>22.79000</td>\n      <td>23.29000</td>\n      <td>20.44000</td>\n      <td>20.4400</td>\n      <td>-2.269999</td>\n      <td>-9.99559</td>\n      <td>3976826</td>\n      <td>87676825</td>\n      <td>0</td>\n      <td>0</td>\n    </tr>\n    <tr>\n      <th>1792</th>\n      <td>300313</td>\n      <td>*ST天山</td>\n      <td>2020-10-30</td>\n      <td>24.28000</td>\n      <td>24.68000</td>\n      <td>21.13000</td>\n      <td>21.2000</td>\n      <td>-2.559999</td>\n      <td>-10.77441</td>\n      <td>38443900</td>\n      <td>862132912</td>\n      <td>4000</td>\n      <td>84800</td>\n    </tr>\n    <tr>\n      <th>1801</th>\n      <td>300313</td>\n      <td>*ST天山</td>\n      <td>2020-11-12</td>\n      <td>22.02000</td>\n      <td>22.02000</td>\n      <td>20.45000</td>\n      <td>20.5700</td>\n      <td>-1.59</td>\n      <td>-7.175091</td>\n      <td>20535100</td>\n      <td>427561872</td>\n      <td>4000</td>\n      <td>82280</td>\n    </tr>\n    <tr>\n      <th>1860</th>\n      <td>300313</td>\n      <td>*ST天山</td>\n      <td>2021-02-04</td>\n      <td>16.13000</td>\n      <td>16.15000</td>\n      <td>14.10000</td>\n      <td>14.7500</td>\n      <td>-1.549999</td>\n      <td>-9.509198</td>\n      <td>26922576</td>\n      <td>407833168</td>\n      <td>400</td>\n      <td>5900</td>\n    </tr>\n  </tbody>\n</table>\n</div>"
     },
     "execution_count": 21,
     "metadata": {},
     "output_type": "execute_result"
    }
   ],
   "source": [
    "data[clouded_top(data, factor=1.5)]"
   ],
   "metadata": {
    "collapsed": false
   }
  },
  {
   "cell_type": "code",
   "execution_count": 22,
   "outputs": [],
   "source": [
    "def raining_cats(stock_data, lam=3, factor=1):\n",
    "    \"\"\"\n",
    "    识别是否为倾盆大雨\n",
    "    :param stock_data: 股票数据 dataframe\n",
    "    :param lam: 控制因子\n",
    "    :param factor: 控制因子\n",
    "    :return: mask numpy 1d array\n",
    "    \"\"\"\n",
    "    O = np.array(stock_data['开盘价'])\n",
    "    L = np.array(stock_data['最低价'])\n",
    "    H = np.array(stock_data['最高价'])\n",
    "    C = np.array(stock_data['收盘价'])\n",
    "    body_size = np.abs(O - C)\n",
    "    long_bull_candle_mask = long_bull_candle(data, lam=lam, factor=factor)\n",
    "    long_bear_candle_mask = long_bear_candle(data, lam=lam, factor=factor)\n",
    "    return np.roll(long_bull_candle_mask, 1) & long_bear_candle_mask & (C < np.roll(O, 1)) & (O < np.roll(C, 1))"
   ],
   "metadata": {
    "collapsed": false
   }
  },
  {
   "cell_type": "code",
   "execution_count": 25,
   "outputs": [
    {
     "data": {
      "text/plain": "        证券代码 证券名称       交易时间       开盘价       最高价       最低价       收盘价  \\\n563   300201  海伦哲 2013-08-07  1.994316  2.010935  1.898754  1.907064   \n1988  300201  海伦哲 2020-09-24  4.640000  4.730000  4.280000  4.340000   \n\n            涨跌      涨跌幅%       成交量        成交额   盘后量    盘后额  \n563  -0.099716 -4.968941   9160646   42874630     0      0  \n1988     -0.41 -8.631576  55410000  247191693  8500  36890  ",
      "text/html": "<div>\n<style scoped>\n    .dataframe tbody tr th:only-of-type {\n        vertical-align: middle;\n    }\n\n    .dataframe tbody tr th {\n        vertical-align: top;\n    }\n\n    .dataframe thead th {\n        text-align: right;\n    }\n</style>\n<table border=\"1\" class=\"dataframe\">\n  <thead>\n    <tr style=\"text-align: right;\">\n      <th></th>\n      <th>证券代码</th>\n      <th>证券名称</th>\n      <th>交易时间</th>\n      <th>开盘价</th>\n      <th>最高价</th>\n      <th>最低价</th>\n      <th>收盘价</th>\n      <th>涨跌</th>\n      <th>涨跌幅%</th>\n      <th>成交量</th>\n      <th>成交额</th>\n      <th>盘后量</th>\n      <th>盘后额</th>\n    </tr>\n  </thead>\n  <tbody>\n    <tr>\n      <th>563</th>\n      <td>300201</td>\n      <td>海伦哲</td>\n      <td>2013-08-07</td>\n      <td>1.994316</td>\n      <td>2.010935</td>\n      <td>1.898754</td>\n      <td>1.907064</td>\n      <td>-0.099716</td>\n      <td>-4.968941</td>\n      <td>9160646</td>\n      <td>42874630</td>\n      <td>0</td>\n      <td>0</td>\n    </tr>\n    <tr>\n      <th>1988</th>\n      <td>300201</td>\n      <td>海伦哲</td>\n      <td>2020-09-24</td>\n      <td>4.640000</td>\n      <td>4.730000</td>\n      <td>4.280000</td>\n      <td>4.340000</td>\n      <td>-0.41</td>\n      <td>-8.631576</td>\n      <td>55410000</td>\n      <td>247191693</td>\n      <td>8500</td>\n      <td>36890</td>\n    </tr>\n  </tbody>\n</table>\n</div>"
     },
     "execution_count": 25,
     "metadata": {},
     "output_type": "execute_result"
    }
   ],
   "source": [
    "data[(raining_cats(data))]"
   ],
   "metadata": {
    "collapsed": false
   }
  },
  {
   "cell_type": "code",
   "execution_count": 50,
   "outputs": [],
   "source": [
    "def bullish_end_line(stock_data, lam=3, factor=1, delta=0.8):\n",
    "    \"\"\"\n",
    "    判断是否是尽头线，标准：出现在涨势中，第一根Ｋ线为大阳线或中阳线，并留有一根上影线，第二根为小十字线或小阳小阴线，依附在第一根的上影线之内，是卖出信号。\n",
    "    出现在跌势中，第一根Ｋ线为大阴线或中阴线，并留有一根下影线，第二根Ｋ线为小十字线或小阳小阴线，依附在第一根Ｋ线的下影线之内，是买进信号。\n",
    "    此函数判断是否为看涨尽头线\n",
    "    已放宽条件至，第一天只要是阳线就可以\n",
    "    :param stock_data: 股票数据 dataframe\n",
    "    :param lam: 控制参数\n",
    "    :param factor: 控制参数\n",
    "    :param delta: 控制参数\n",
    "    :return: boolean mask numpy 1d array\n",
    "    \"\"\"\n",
    "    O = np.array(stock_data['开盘价'])\n",
    "    L = np.array(stock_data['最低价'])\n",
    "    H = np.array(stock_data['最高价'])\n",
    "    C = np.array(stock_data['收盘价'])\n",
    "    body_size = np.abs(O - C)\n",
    "    upper_wick_size = np.abs(H - np.maximum(O, C))\n",
    "    lower_wick_size = np.abs(np.minimum(O, C) - L)\n",
    "    long_bull_candle_mask = long_bull_candle(data, lam=lam, factor=factor)\n",
    "    first_day_condition = (upper_wick_size > delta * body_size) & (lower_wick_size > delta * body_size) & (C > O)\n",
    "    return np.roll(first_day_condition, 1) & (H < np.roll(H, 1)) & (L > np.roll(C, 1))"
   ],
   "metadata": {
    "collapsed": false
   }
  },
  {
   "cell_type": "code",
   "execution_count": 59,
   "outputs": [
    {
     "data": {
      "text/plain": "        证券代码  证券名称       交易时间       开盘价       最高价       最低价       收盘价  \\\n233   300164  通源石油 2011-12-29  5.037732  5.135098  5.037732  5.082520   \n1029  300164  通源石油 2016-01-06  8.792888  9.061080  8.773730  9.022767   \n\n            涨跌      涨跌幅%        成交量         成交额  盘后量  盘后额  \n233   0.085682  1.714732   130221.0   3396479.0  0.0  0.0  \n1029   0.28735  3.289479  8572711.0  79901939.0  0.0  0.0  ",
      "text/html": "<div>\n<style scoped>\n    .dataframe tbody tr th:only-of-type {\n        vertical-align: middle;\n    }\n\n    .dataframe tbody tr th {\n        vertical-align: top;\n    }\n\n    .dataframe thead th {\n        text-align: right;\n    }\n</style>\n<table border=\"1\" class=\"dataframe\">\n  <thead>\n    <tr style=\"text-align: right;\">\n      <th></th>\n      <th>证券代码</th>\n      <th>证券名称</th>\n      <th>交易时间</th>\n      <th>开盘价</th>\n      <th>最高价</th>\n      <th>最低价</th>\n      <th>收盘价</th>\n      <th>涨跌</th>\n      <th>涨跌幅%</th>\n      <th>成交量</th>\n      <th>成交额</th>\n      <th>盘后量</th>\n      <th>盘后额</th>\n    </tr>\n  </thead>\n  <tbody>\n    <tr>\n      <th>233</th>\n      <td>300164</td>\n      <td>通源石油</td>\n      <td>2011-12-29</td>\n      <td>5.037732</td>\n      <td>5.135098</td>\n      <td>5.037732</td>\n      <td>5.082520</td>\n      <td>0.085682</td>\n      <td>1.714732</td>\n      <td>130221.0</td>\n      <td>3396479.0</td>\n      <td>0.0</td>\n      <td>0.0</td>\n    </tr>\n    <tr>\n      <th>1029</th>\n      <td>300164</td>\n      <td>通源石油</td>\n      <td>2016-01-06</td>\n      <td>8.792888</td>\n      <td>9.061080</td>\n      <td>8.773730</td>\n      <td>9.022767</td>\n      <td>0.28735</td>\n      <td>3.289479</td>\n      <td>8572711.0</td>\n      <td>79901939.0</td>\n      <td>0.0</td>\n      <td>0.0</td>\n    </tr>\n  </tbody>\n</table>\n</div>"
     },
     "execution_count": 59,
     "metadata": {},
     "output_type": "execute_result"
    }
   ],
   "source": [
    "data[bullish_end_line(data)]"
   ],
   "metadata": {
    "collapsed": false
   }
  },
  {
   "cell_type": "code",
   "execution_count": 60,
   "outputs": [],
   "source": [
    "def bearish_end_line(stock_data, lam=3, factor=1, delta=0.8):\n",
    "    \"\"\"\n",
    "    判断是否是尽头线，标准：出现在涨势中，第一根Ｋ线为大阳线或中阳线，并留有一根上影线，第二根为小十字线或小阳小阴线，依附在第一根的上影线之内，是卖出信号。\n",
    "    出现在跌势中，第一根Ｋ线为大阴线或中阴线，并留有一根下影线，第二根Ｋ线为小十字线或小阳小阴线，依附在第一根Ｋ线的下影线之内，是买进信号。\n",
    "    此函数判断是否为看跌尽头线\n",
    "    已放宽条件至，第一天只要是阴线就可以\n",
    "    :param stock_data: 股票数据 dataframe\n",
    "    :param lam: 控制参数\n",
    "    :param factor: 控制参数\n",
    "    :param delta: 控制参数\n",
    "    :return: boolean mask numpy 1d array\n",
    "    \"\"\"\n",
    "    O = np.array(stock_data['开盘价'])\n",
    "    L = np.array(stock_data['最低价'])\n",
    "    H = np.array(stock_data['最高价'])\n",
    "    C = np.array(stock_data['收盘价'])\n",
    "    body_size = np.abs(O - C)\n",
    "    upper_wick_size = np.abs(H - np.maximum(O, C))\n",
    "    lower_wick_size = np.abs(np.minimum(O, C) - L)\n",
    "    long_bull_candle_mask = long_bull_candle(data, lam=lam, factor=factor)\n",
    "    first_day_condition = (upper_wick_size > delta * body_size) & (lower_wick_size > delta * body_size) & (C < O)\n",
    "    return np.roll(first_day_condition, 1) & (H < np.roll(C, 1)) & (L > np.roll(L, 1))"
   ],
   "metadata": {
    "collapsed": false
   }
  },
  {
   "cell_type": "code",
   "execution_count": 61,
   "outputs": [
    {
     "data": {
      "text/plain": "        证券代码  证券名称       交易时间      开盘价       最高价       最低价      收盘价        涨跌  \\\n842   300164  通源石油 2014-11-12  11.9657  12.01357  11.82211  11.8604 -0.181878   \n2159  300164  通源石油 2021-03-10   3.8600   3.90000   3.72000   3.7500     -0.21   \n2317  300164  通源石油 2021-11-03   4.9000   5.01000   4.82000   4.9500      -0.1   \n\n          涨跌幅%         成交量          成交额  盘后量  盘后额  \n842  -1.510329   5456614.0   67734242.0  0.0  0.0  \n2159 -5.303031  23410234.0   88883516.0  0.0  0.0  \n2317 -1.980206  29200277.0  143816172.0  0.0  0.0  ",
      "text/html": "<div>\n<style scoped>\n    .dataframe tbody tr th:only-of-type {\n        vertical-align: middle;\n    }\n\n    .dataframe tbody tr th {\n        vertical-align: top;\n    }\n\n    .dataframe thead th {\n        text-align: right;\n    }\n</style>\n<table border=\"1\" class=\"dataframe\">\n  <thead>\n    <tr style=\"text-align: right;\">\n      <th></th>\n      <th>证券代码</th>\n      <th>证券名称</th>\n      <th>交易时间</th>\n      <th>开盘价</th>\n      <th>最高价</th>\n      <th>最低价</th>\n      <th>收盘价</th>\n      <th>涨跌</th>\n      <th>涨跌幅%</th>\n      <th>成交量</th>\n      <th>成交额</th>\n      <th>盘后量</th>\n      <th>盘后额</th>\n    </tr>\n  </thead>\n  <tbody>\n    <tr>\n      <th>842</th>\n      <td>300164</td>\n      <td>通源石油</td>\n      <td>2014-11-12</td>\n      <td>11.9657</td>\n      <td>12.01357</td>\n      <td>11.82211</td>\n      <td>11.8604</td>\n      <td>-0.181878</td>\n      <td>-1.510329</td>\n      <td>5456614.0</td>\n      <td>67734242.0</td>\n      <td>0.0</td>\n      <td>0.0</td>\n    </tr>\n    <tr>\n      <th>2159</th>\n      <td>300164</td>\n      <td>通源石油</td>\n      <td>2021-03-10</td>\n      <td>3.8600</td>\n      <td>3.90000</td>\n      <td>3.72000</td>\n      <td>3.7500</td>\n      <td>-0.21</td>\n      <td>-5.303031</td>\n      <td>23410234.0</td>\n      <td>88883516.0</td>\n      <td>0.0</td>\n      <td>0.0</td>\n    </tr>\n    <tr>\n      <th>2317</th>\n      <td>300164</td>\n      <td>通源石油</td>\n      <td>2021-11-03</td>\n      <td>4.9000</td>\n      <td>5.01000</td>\n      <td>4.82000</td>\n      <td>4.9500</td>\n      <td>-0.1</td>\n      <td>-1.980206</td>\n      <td>29200277.0</td>\n      <td>143816172.0</td>\n      <td>0.0</td>\n      <td>0.0</td>\n    </tr>\n  </tbody>\n</table>\n</div>"
     },
     "execution_count": 61,
     "metadata": {},
     "output_type": "execute_result"
    }
   ],
   "source": [
    "data[bearish_end_line(data)]"
   ],
   "metadata": {
    "collapsed": false
   }
  },
  {
   "cell_type": "code",
   "execution_count": 62,
   "outputs": [],
   "source": [
    "def bear_line(stock_data):\n",
    "    \"\"\"\n",
    "    判断是否是孕育线\n",
    "    :param stock_data: 股票数据 dataframe\n",
    "    :return: boolean mask numpy 1d array\n",
    "    \"\"\"\n",
    "    O = np.array(stock_data['开盘价'])\n",
    "    L = np.array(stock_data['最低价'])\n",
    "    H = np.array(stock_data['最高价'])\n",
    "    C = np.array(stock_data['收盘价'])\n",
    "    body_size = np.abs(O - C)\n",
    "    return (np.roll(np.maximum(O, C), 1) > np.maximum(O, C)) & (np.roll(np.minimum(O, C), 1) < np.minimum(O, C))"
   ],
   "metadata": {
    "collapsed": false
   }
  },
  {
   "cell_type": "code",
   "execution_count": 63,
   "outputs": [
    {
     "data": {
      "text/plain": "        证券代码  证券名称       交易时间       开盘价       最高价       最低价       收盘价  \\\n8     300164  通源石油 2011-01-25  7.328356  7.417940  7.251569  7.357151   \n11    300164  通源石油 2011-01-28  7.608308  7.654700  7.493127  7.566715   \n13    300164  通源石油 2011-02-01  7.937852  7.944251  7.790677  7.824271   \n22    300164  通源石油 2011-02-21  8.142617  8.262597  8.142617  8.219404   \n44    300164  通源石油 2011-03-23  8.099424  8.131419  8.024238  8.110622   \n...      ...   ...        ...       ...       ...       ...       ...   \n2691  300164  通源石油 2023-05-19  4.530000  4.570000  4.440000  4.460000   \n2696  300164  通源石油 2023-05-26  4.470000  4.550000  4.400000  4.490000   \n2709  300164  通源石油 2023-06-14  4.410000  4.450000  4.370000  4.400000   \n2730  300164  通源石油 2023-07-17  4.710000  4.710000  4.570000  4.680000   \n2758  300164  通源石油 2023-08-24  4.600000  4.640000  4.510000  4.600000   \n\n            涨跌      涨跌幅%         成交量          成交额     盘后量     盘后额  \n8     0.030396  0.414856    645705.0   29612269.0     0.0     0.0  \n11    -0.06399 -0.838581    611752.0   28921069.0     0.0     0.0  \n13    -0.17597  -2.19956    730422.0   35862936.0     0.0     0.0  \n22    0.087985  1.082038    854054.0   43789205.0     0.0     0.0  \n44    0.049591  0.615195    205343.0   10375943.0     0.0     0.0  \n...        ...       ...         ...          ...     ...     ...  \n2691     -0.14 -3.043475  27569300.0  123311466.0     0.0     0.0  \n2696     -0.02 -0.443469  18634698.0   83065569.0     0.0     0.0  \n2709      0.02   0.45662  14326705.0   63048766.0  1500.0  6600.0  \n2730     -0.09 -1.886796  15616500.0   72737320.0     0.0     0.0  \n2758     -0.02   -0.4329  14938000.0   68448215.0     0.0     0.0  \n\n[302 rows x 13 columns]",
      "text/html": "<div>\n<style scoped>\n    .dataframe tbody tr th:only-of-type {\n        vertical-align: middle;\n    }\n\n    .dataframe tbody tr th {\n        vertical-align: top;\n    }\n\n    .dataframe thead th {\n        text-align: right;\n    }\n</style>\n<table border=\"1\" class=\"dataframe\">\n  <thead>\n    <tr style=\"text-align: right;\">\n      <th></th>\n      <th>证券代码</th>\n      <th>证券名称</th>\n      <th>交易时间</th>\n      <th>开盘价</th>\n      <th>最高价</th>\n      <th>最低价</th>\n      <th>收盘价</th>\n      <th>涨跌</th>\n      <th>涨跌幅%</th>\n      <th>成交量</th>\n      <th>成交额</th>\n      <th>盘后量</th>\n      <th>盘后额</th>\n    </tr>\n  </thead>\n  <tbody>\n    <tr>\n      <th>8</th>\n      <td>300164</td>\n      <td>通源石油</td>\n      <td>2011-01-25</td>\n      <td>7.328356</td>\n      <td>7.417940</td>\n      <td>7.251569</td>\n      <td>7.357151</td>\n      <td>0.030396</td>\n      <td>0.414856</td>\n      <td>645705.0</td>\n      <td>29612269.0</td>\n      <td>0.0</td>\n      <td>0.0</td>\n    </tr>\n    <tr>\n      <th>11</th>\n      <td>300164</td>\n      <td>通源石油</td>\n      <td>2011-01-28</td>\n      <td>7.608308</td>\n      <td>7.654700</td>\n      <td>7.493127</td>\n      <td>7.566715</td>\n      <td>-0.06399</td>\n      <td>-0.838581</td>\n      <td>611752.0</td>\n      <td>28921069.0</td>\n      <td>0.0</td>\n      <td>0.0</td>\n    </tr>\n    <tr>\n      <th>13</th>\n      <td>300164</td>\n      <td>通源石油</td>\n      <td>2011-02-01</td>\n      <td>7.937852</td>\n      <td>7.944251</td>\n      <td>7.790677</td>\n      <td>7.824271</td>\n      <td>-0.17597</td>\n      <td>-2.19956</td>\n      <td>730422.0</td>\n      <td>35862936.0</td>\n      <td>0.0</td>\n      <td>0.0</td>\n    </tr>\n    <tr>\n      <th>22</th>\n      <td>300164</td>\n      <td>通源石油</td>\n      <td>2011-02-21</td>\n      <td>8.142617</td>\n      <td>8.262597</td>\n      <td>8.142617</td>\n      <td>8.219404</td>\n      <td>0.087985</td>\n      <td>1.082038</td>\n      <td>854054.0</td>\n      <td>43789205.0</td>\n      <td>0.0</td>\n      <td>0.0</td>\n    </tr>\n    <tr>\n      <th>44</th>\n      <td>300164</td>\n      <td>通源石油</td>\n      <td>2011-03-23</td>\n      <td>8.099424</td>\n      <td>8.131419</td>\n      <td>8.024238</td>\n      <td>8.110622</td>\n      <td>0.049591</td>\n      <td>0.615195</td>\n      <td>205343.0</td>\n      <td>10375943.0</td>\n      <td>0.0</td>\n      <td>0.0</td>\n    </tr>\n    <tr>\n      <th>...</th>\n      <td>...</td>\n      <td>...</td>\n      <td>...</td>\n      <td>...</td>\n      <td>...</td>\n      <td>...</td>\n      <td>...</td>\n      <td>...</td>\n      <td>...</td>\n      <td>...</td>\n      <td>...</td>\n      <td>...</td>\n      <td>...</td>\n    </tr>\n    <tr>\n      <th>2691</th>\n      <td>300164</td>\n      <td>通源石油</td>\n      <td>2023-05-19</td>\n      <td>4.530000</td>\n      <td>4.570000</td>\n      <td>4.440000</td>\n      <td>4.460000</td>\n      <td>-0.14</td>\n      <td>-3.043475</td>\n      <td>27569300.0</td>\n      <td>123311466.0</td>\n      <td>0.0</td>\n      <td>0.0</td>\n    </tr>\n    <tr>\n      <th>2696</th>\n      <td>300164</td>\n      <td>通源石油</td>\n      <td>2023-05-26</td>\n      <td>4.470000</td>\n      <td>4.550000</td>\n      <td>4.400000</td>\n      <td>4.490000</td>\n      <td>-0.02</td>\n      <td>-0.443469</td>\n      <td>18634698.0</td>\n      <td>83065569.0</td>\n      <td>0.0</td>\n      <td>0.0</td>\n    </tr>\n    <tr>\n      <th>2709</th>\n      <td>300164</td>\n      <td>通源石油</td>\n      <td>2023-06-14</td>\n      <td>4.410000</td>\n      <td>4.450000</td>\n      <td>4.370000</td>\n      <td>4.400000</td>\n      <td>0.02</td>\n      <td>0.45662</td>\n      <td>14326705.0</td>\n      <td>63048766.0</td>\n      <td>1500.0</td>\n      <td>6600.0</td>\n    </tr>\n    <tr>\n      <th>2730</th>\n      <td>300164</td>\n      <td>通源石油</td>\n      <td>2023-07-17</td>\n      <td>4.710000</td>\n      <td>4.710000</td>\n      <td>4.570000</td>\n      <td>4.680000</td>\n      <td>-0.09</td>\n      <td>-1.886796</td>\n      <td>15616500.0</td>\n      <td>72737320.0</td>\n      <td>0.0</td>\n      <td>0.0</td>\n    </tr>\n    <tr>\n      <th>2758</th>\n      <td>300164</td>\n      <td>通源石油</td>\n      <td>2023-08-24</td>\n      <td>4.600000</td>\n      <td>4.640000</td>\n      <td>4.510000</td>\n      <td>4.600000</td>\n      <td>-0.02</td>\n      <td>-0.4329</td>\n      <td>14938000.0</td>\n      <td>68448215.0</td>\n      <td>0.0</td>\n      <td>0.0</td>\n    </tr>\n  </tbody>\n</table>\n<p>302 rows × 13 columns</p>\n</div>"
     },
     "execution_count": 63,
     "metadata": {},
     "output_type": "execute_result"
    }
   ],
   "source": [
    "data[bear_line(data)]"
   ],
   "metadata": {
    "collapsed": false
   }
  },
  {
   "cell_type": "code",
   "execution_count": null,
   "outputs": [],
   "source": [],
   "metadata": {
    "collapsed": false
   }
  }
 ],
 "metadata": {
  "kernelspec": {
   "display_name": "Python 3",
   "language": "python",
   "name": "python3"
  },
  "language_info": {
   "codemirror_mode": {
    "name": "ipython",
    "version": 2
   },
   "file_extension": ".py",
   "mimetype": "text/x-python",
   "name": "python",
   "nbconvert_exporter": "python",
   "pygments_lexer": "ipython2",
   "version": "2.7.6"
  }
 },
 "nbformat": 4,
 "nbformat_minor": 0
}
